{
  "cells": [
    {
      "cell_type": "markdown",
      "id": "68775ba9",
      "metadata": {
        "id": "68775ba9"
      },
      "source": [
        "# Análisis de la Evasión de Clientes en TelecomX\n",
        "\n",
        "## Introducción\n",
        "\n",
        "En un mercado cada vez más competitivo como el de las telecomunicaciones, la **retención de clientes** se ha vuelto un elemento clave para la sostenibilidad de las empresas. **TelecomX**, una compañía dedicada a ofrecer servicios de telefonía, internet y televisión, enfrenta uno de los retos más comunes del sector: la **evasión de clientes** (*churn*), es decir, la pérdida de usuarios que deciden cancelar sus servicios y migrar a la competencia.\n",
        "\n",
        "La identificación temprana de patrones y factores asociados al abandono del servicio permite a las empresas anticiparse al comportamiento de los clientes y diseñar **estrategias efectivas de fidelización**. En este sentido, el presente proyecto de análisis de datos tiene como objetivo principal **analizar la evasión de clientes en TelecomX** a partir de datos históricos, con el fin de comprender qué variables influyen en la decisión de cancelar el servicio.\n",
        "\n",
        "---\n",
        "\n",
        "## Objetivos\n",
        "\n",
        "### Objetivo general\n",
        "Analizar los datos de clientes de TelecomX para identificar patrones de evasión y factores determinantes en la pérdida de clientes.\n",
        "\n",
        "### Objetivos específicos\n",
        "- Explorar y comprender la estructura del conjunto de datos disponible.\n",
        "- Identificar características comunes entre los clientes que han abandonado el servicio.\n",
        "- Visualizar tendencias y relaciones entre variables relevantes ( tipo de plan, servicio contratado, entre otros).\n",
        "- Establecer recomendaciones preliminares basadas en los hallazgos del análisis.\n",
        "\n",
        "---\n",
        "\n",
        "## Descripción del conjunto de datos\n",
        "\n",
        "El análisis se desarrollará a partir de un conjunto de datos proporcionado por TelecomX, el cual contiene información histórica de clientes, incluyendo variables como:\n",
        "\n",
        "- `customerID`: número de identificación único de cada cliente\n",
        "- `Churn`: si el cliente dejó o no la empresa\n",
        "- `gender`: género (masculino y femenino)\n",
        "- `SeniorCitizen`: información sobre si un cliente tiene o no una edad igual o mayor a 65 años\n",
        "- `Partner`: si el cliente tiene o no una pareja\n",
        "- `Dependents`: si el cliente tiene o no dependientes\n",
        "- `tenure`: meses de contrato del cliente\n",
        "- `PhoneService`: suscripción al servicio telefónico\n",
        "- `MultipleLines`: suscripción a más de una línea telefónica\n",
        "- `InternetService`: suscripción a un proveedor de internet\n",
        "- `OnlineSecurity`: suscripción adicional de seguridad en línea\n",
        "- `OnlineBackup`: suscripción adicional de respaldo en línea\n",
        "- `DeviceProtection`: suscripción adicional de protección del dispositivo\n",
        "- `TechSupport`: suscripción adicional de soporte técnico, menor tiempo de espera\n",
        "- `StreamingTV`: suscripción de televisión por cable\n",
        "- `StreamingMovies`: suscripción de streaming de películas\n",
        "- `Contract`: tipo de contrato\n",
        "- `PaperlessBilling`: si el cliente prefiere recibir la factura en línea\n",
        "- `PaymentMethod`: forma de pago\n",
        "- `Charges.Monthly`: total de todos los servicios del cliente por mes\n",
        "- `Charges.Total`: total gastado por el cliente\n",
        "- `daily_accounts`: total gastado por dia\n",
        "\n",
        "Este dataset será la base para realizar un análisis exploratorio de datos (EDA), aplicar técnicas de visualización y obtener conclusiones significativas que puedan guiar la toma de decisiones estratégicas de la empresa.\n",
        "\n",
        "---\n",
        "\n",
        "Este estudio busca ofrecer una **visión clara y accionable** sobre el fenómeno de evasión en TelecomX, proporcionando información clave para mitigar su impacto y mejorar la retención de clientes a través de decisiones fundamentadas en datos.\n",
        "\n"
      ]
    },
    {
      "cell_type": "markdown",
      "id": "e3d23032",
      "metadata": {
        "id": "e3d23032"
      },
      "source": [
        "## Extracción de datos\n",
        "### Importación de librerias a utilizar\n"
      ]
    },
    {
      "cell_type": "code",
      "execution_count": null,
      "id": "a0a232fb",
      "metadata": {
        "id": "a0a232fb"
      },
      "outputs": [],
      "source": [
        "import pandas as pd\n",
        "import matplotlib.pyplot as plt\n",
        "import numpy as np\n",
        "import seaborn as sns\n",
        "import plotly.express as px\n",
        "import plotly.graph_objects as go\n",
        "from plotly.subplots import make_subplots\n"
      ]
    },
    {
      "cell_type": "markdown",
      "id": "18aa3ac0",
      "metadata": {
        "id": "18aa3ac0"
      },
      "source": [
        "### Leyendo la base de datos"
      ]
    },
    {
      "cell_type": "code",
      "execution_count": 6,
      "id": "d116dcab",
      "metadata": {
        "colab": {
          "base_uri": "https://localhost:8080/",
          "height": 147
        },
        "id": "d116dcab",
        "outputId": "034852cf-2e9a-4b96-e655-0ba904068c9c"
      },
      "outputs": [
        {
          "output_type": "execute_result",
          "data": {
            "text/plain": [
              "   customerID Churn                                           customer  \\\n",
              "0  0002-ORFBO    No  {'gender': 'Female', 'SeniorCitizen': 0, 'Part...   \n",
              "1  0003-MKNFE    No  {'gender': 'Male', 'SeniorCitizen': 0, 'Partne...   \n",
              "\n",
              "                                             phone  \\\n",
              "0   {'PhoneService': 'Yes', 'MultipleLines': 'No'}   \n",
              "1  {'PhoneService': 'Yes', 'MultipleLines': 'Yes'}   \n",
              "\n",
              "                                            internet  \\\n",
              "0  {'InternetService': 'DSL', 'OnlineSecurity': '...   \n",
              "1  {'InternetService': 'DSL', 'OnlineSecurity': '...   \n",
              "\n",
              "                                             account  \n",
              "0  {'Contract': 'One year', 'PaperlessBilling': '...  \n",
              "1  {'Contract': 'Month-to-month', 'PaperlessBilli...  "
            ],
            "text/html": [
              "\n",
              "  <div id=\"df-b7357ae6-705d-47a2-ac57-8a94d356f51e\" class=\"colab-df-container\">\n",
              "    <div>\n",
              "<style scoped>\n",
              "    .dataframe tbody tr th:only-of-type {\n",
              "        vertical-align: middle;\n",
              "    }\n",
              "\n",
              "    .dataframe tbody tr th {\n",
              "        vertical-align: top;\n",
              "    }\n",
              "\n",
              "    .dataframe thead th {\n",
              "        text-align: right;\n",
              "    }\n",
              "</style>\n",
              "<table border=\"1\" class=\"dataframe\">\n",
              "  <thead>\n",
              "    <tr style=\"text-align: right;\">\n",
              "      <th></th>\n",
              "      <th>customerID</th>\n",
              "      <th>Churn</th>\n",
              "      <th>customer</th>\n",
              "      <th>phone</th>\n",
              "      <th>internet</th>\n",
              "      <th>account</th>\n",
              "    </tr>\n",
              "  </thead>\n",
              "  <tbody>\n",
              "    <tr>\n",
              "      <th>0</th>\n",
              "      <td>0002-ORFBO</td>\n",
              "      <td>No</td>\n",
              "      <td>{'gender': 'Female', 'SeniorCitizen': 0, 'Part...</td>\n",
              "      <td>{'PhoneService': 'Yes', 'MultipleLines': 'No'}</td>\n",
              "      <td>{'InternetService': 'DSL', 'OnlineSecurity': '...</td>\n",
              "      <td>{'Contract': 'One year', 'PaperlessBilling': '...</td>\n",
              "    </tr>\n",
              "    <tr>\n",
              "      <th>1</th>\n",
              "      <td>0003-MKNFE</td>\n",
              "      <td>No</td>\n",
              "      <td>{'gender': 'Male', 'SeniorCitizen': 0, 'Partne...</td>\n",
              "      <td>{'PhoneService': 'Yes', 'MultipleLines': 'Yes'}</td>\n",
              "      <td>{'InternetService': 'DSL', 'OnlineSecurity': '...</td>\n",
              "      <td>{'Contract': 'Month-to-month', 'PaperlessBilli...</td>\n",
              "    </tr>\n",
              "  </tbody>\n",
              "</table>\n",
              "</div>\n",
              "    <div class=\"colab-df-buttons\">\n",
              "\n",
              "  <div class=\"colab-df-container\">\n",
              "    <button class=\"colab-df-convert\" onclick=\"convertToInteractive('df-b7357ae6-705d-47a2-ac57-8a94d356f51e')\"\n",
              "            title=\"Convert this dataframe to an interactive table.\"\n",
              "            style=\"display:none;\">\n",
              "\n",
              "  <svg xmlns=\"http://www.w3.org/2000/svg\" height=\"24px\" viewBox=\"0 -960 960 960\">\n",
              "    <path d=\"M120-120v-720h720v720H120Zm60-500h600v-160H180v160Zm220 220h160v-160H400v160Zm0 220h160v-160H400v160ZM180-400h160v-160H180v160Zm440 0h160v-160H620v160ZM180-180h160v-160H180v160Zm440 0h160v-160H620v160Z\"/>\n",
              "  </svg>\n",
              "    </button>\n",
              "\n",
              "  <style>\n",
              "    .colab-df-container {\n",
              "      display:flex;\n",
              "      gap: 12px;\n",
              "    }\n",
              "\n",
              "    .colab-df-convert {\n",
              "      background-color: #E8F0FE;\n",
              "      border: none;\n",
              "      border-radius: 50%;\n",
              "      cursor: pointer;\n",
              "      display: none;\n",
              "      fill: #1967D2;\n",
              "      height: 32px;\n",
              "      padding: 0 0 0 0;\n",
              "      width: 32px;\n",
              "    }\n",
              "\n",
              "    .colab-df-convert:hover {\n",
              "      background-color: #E2EBFA;\n",
              "      box-shadow: 0px 1px 2px rgba(60, 64, 67, 0.3), 0px 1px 3px 1px rgba(60, 64, 67, 0.15);\n",
              "      fill: #174EA6;\n",
              "    }\n",
              "\n",
              "    .colab-df-buttons div {\n",
              "      margin-bottom: 4px;\n",
              "    }\n",
              "\n",
              "    [theme=dark] .colab-df-convert {\n",
              "      background-color: #3B4455;\n",
              "      fill: #D2E3FC;\n",
              "    }\n",
              "\n",
              "    [theme=dark] .colab-df-convert:hover {\n",
              "      background-color: #434B5C;\n",
              "      box-shadow: 0px 1px 3px 1px rgba(0, 0, 0, 0.15);\n",
              "      filter: drop-shadow(0px 1px 2px rgba(0, 0, 0, 0.3));\n",
              "      fill: #FFFFFF;\n",
              "    }\n",
              "  </style>\n",
              "\n",
              "    <script>\n",
              "      const buttonEl =\n",
              "        document.querySelector('#df-b7357ae6-705d-47a2-ac57-8a94d356f51e button.colab-df-convert');\n",
              "      buttonEl.style.display =\n",
              "        google.colab.kernel.accessAllowed ? 'block' : 'none';\n",
              "\n",
              "      async function convertToInteractive(key) {\n",
              "        const element = document.querySelector('#df-b7357ae6-705d-47a2-ac57-8a94d356f51e');\n",
              "        const dataTable =\n",
              "          await google.colab.kernel.invokeFunction('convertToInteractive',\n",
              "                                                    [key], {});\n",
              "        if (!dataTable) return;\n",
              "\n",
              "        const docLinkHtml = 'Like what you see? Visit the ' +\n",
              "          '<a target=\"_blank\" href=https://colab.research.google.com/notebooks/data_table.ipynb>data table notebook</a>'\n",
              "          + ' to learn more about interactive tables.';\n",
              "        element.innerHTML = '';\n",
              "        dataTable['output_type'] = 'display_data';\n",
              "        await google.colab.output.renderOutput(dataTable, element);\n",
              "        const docLink = document.createElement('div');\n",
              "        docLink.innerHTML = docLinkHtml;\n",
              "        element.appendChild(docLink);\n",
              "      }\n",
              "    </script>\n",
              "  </div>\n",
              "\n",
              "\n",
              "    <div id=\"df-2a156825-ad58-471f-a3d8-c731b1f80e08\">\n",
              "      <button class=\"colab-df-quickchart\" onclick=\"quickchart('df-2a156825-ad58-471f-a3d8-c731b1f80e08')\"\n",
              "                title=\"Suggest charts\"\n",
              "                style=\"display:none;\">\n",
              "\n",
              "<svg xmlns=\"http://www.w3.org/2000/svg\" height=\"24px\"viewBox=\"0 0 24 24\"\n",
              "     width=\"24px\">\n",
              "    <g>\n",
              "        <path d=\"M19 3H5c-1.1 0-2 .9-2 2v14c0 1.1.9 2 2 2h14c1.1 0 2-.9 2-2V5c0-1.1-.9-2-2-2zM9 17H7v-7h2v7zm4 0h-2V7h2v10zm4 0h-2v-4h2v4z\"/>\n",
              "    </g>\n",
              "</svg>\n",
              "      </button>\n",
              "\n",
              "<style>\n",
              "  .colab-df-quickchart {\n",
              "      --bg-color: #E8F0FE;\n",
              "      --fill-color: #1967D2;\n",
              "      --hover-bg-color: #E2EBFA;\n",
              "      --hover-fill-color: #174EA6;\n",
              "      --disabled-fill-color: #AAA;\n",
              "      --disabled-bg-color: #DDD;\n",
              "  }\n",
              "\n",
              "  [theme=dark] .colab-df-quickchart {\n",
              "      --bg-color: #3B4455;\n",
              "      --fill-color: #D2E3FC;\n",
              "      --hover-bg-color: #434B5C;\n",
              "      --hover-fill-color: #FFFFFF;\n",
              "      --disabled-bg-color: #3B4455;\n",
              "      --disabled-fill-color: #666;\n",
              "  }\n",
              "\n",
              "  .colab-df-quickchart {\n",
              "    background-color: var(--bg-color);\n",
              "    border: none;\n",
              "    border-radius: 50%;\n",
              "    cursor: pointer;\n",
              "    display: none;\n",
              "    fill: var(--fill-color);\n",
              "    height: 32px;\n",
              "    padding: 0;\n",
              "    width: 32px;\n",
              "  }\n",
              "\n",
              "  .colab-df-quickchart:hover {\n",
              "    background-color: var(--hover-bg-color);\n",
              "    box-shadow: 0 1px 2px rgba(60, 64, 67, 0.3), 0 1px 3px 1px rgba(60, 64, 67, 0.15);\n",
              "    fill: var(--button-hover-fill-color);\n",
              "  }\n",
              "\n",
              "  .colab-df-quickchart-complete:disabled,\n",
              "  .colab-df-quickchart-complete:disabled:hover {\n",
              "    background-color: var(--disabled-bg-color);\n",
              "    fill: var(--disabled-fill-color);\n",
              "    box-shadow: none;\n",
              "  }\n",
              "\n",
              "  .colab-df-spinner {\n",
              "    border: 2px solid var(--fill-color);\n",
              "    border-color: transparent;\n",
              "    border-bottom-color: var(--fill-color);\n",
              "    animation:\n",
              "      spin 1s steps(1) infinite;\n",
              "  }\n",
              "\n",
              "  @keyframes spin {\n",
              "    0% {\n",
              "      border-color: transparent;\n",
              "      border-bottom-color: var(--fill-color);\n",
              "      border-left-color: var(--fill-color);\n",
              "    }\n",
              "    20% {\n",
              "      border-color: transparent;\n",
              "      border-left-color: var(--fill-color);\n",
              "      border-top-color: var(--fill-color);\n",
              "    }\n",
              "    30% {\n",
              "      border-color: transparent;\n",
              "      border-left-color: var(--fill-color);\n",
              "      border-top-color: var(--fill-color);\n",
              "      border-right-color: var(--fill-color);\n",
              "    }\n",
              "    40% {\n",
              "      border-color: transparent;\n",
              "      border-right-color: var(--fill-color);\n",
              "      border-top-color: var(--fill-color);\n",
              "    }\n",
              "    60% {\n",
              "      border-color: transparent;\n",
              "      border-right-color: var(--fill-color);\n",
              "    }\n",
              "    80% {\n",
              "      border-color: transparent;\n",
              "      border-right-color: var(--fill-color);\n",
              "      border-bottom-color: var(--fill-color);\n",
              "    }\n",
              "    90% {\n",
              "      border-color: transparent;\n",
              "      border-bottom-color: var(--fill-color);\n",
              "    }\n",
              "  }\n",
              "</style>\n",
              "\n",
              "      <script>\n",
              "        async function quickchart(key) {\n",
              "          const quickchartButtonEl =\n",
              "            document.querySelector('#' + key + ' button');\n",
              "          quickchartButtonEl.disabled = true;  // To prevent multiple clicks.\n",
              "          quickchartButtonEl.classList.add('colab-df-spinner');\n",
              "          try {\n",
              "            const charts = await google.colab.kernel.invokeFunction(\n",
              "                'suggestCharts', [key], {});\n",
              "          } catch (error) {\n",
              "            console.error('Error during call to suggestCharts:', error);\n",
              "          }\n",
              "          quickchartButtonEl.classList.remove('colab-df-spinner');\n",
              "          quickchartButtonEl.classList.add('colab-df-quickchart-complete');\n",
              "        }\n",
              "        (() => {\n",
              "          let quickchartButtonEl =\n",
              "            document.querySelector('#df-2a156825-ad58-471f-a3d8-c731b1f80e08 button');\n",
              "          quickchartButtonEl.style.display =\n",
              "            google.colab.kernel.accessAllowed ? 'block' : 'none';\n",
              "        })();\n",
              "      </script>\n",
              "    </div>\n",
              "\n",
              "    </div>\n",
              "  </div>\n"
            ],
            "application/vnd.google.colaboratory.intrinsic+json": {
              "type": "dataframe",
              "variable_name": "data",
              "summary": "{\n  \"name\": \"data\",\n  \"rows\": 7267,\n  \"fields\": [\n    {\n      \"column\": \"customerID\",\n      \"properties\": {\n        \"dtype\": \"string\",\n        \"num_unique_values\": 7267,\n        \"samples\": [\n          \"2038-OEQZH\",\n          \"6322-HRPFA\",\n          \"3969-JQABI\"\n        ],\n        \"semantic_type\": \"\",\n        \"description\": \"\"\n      }\n    },\n    {\n      \"column\": \"Churn\",\n      \"properties\": {\n        \"dtype\": \"category\",\n        \"num_unique_values\": 3,\n        \"samples\": [\n          \"No\",\n          \"Yes\",\n          \"\"\n        ],\n        \"semantic_type\": \"\",\n        \"description\": \"\"\n      }\n    },\n    {\n      \"column\": \"customer\",\n      \"properties\": {\n        \"dtype\": \"object\",\n        \"semantic_type\": \"\",\n        \"description\": \"\"\n      }\n    },\n    {\n      \"column\": \"phone\",\n      \"properties\": {\n        \"dtype\": \"object\",\n        \"semantic_type\": \"\",\n        \"description\": \"\"\n      }\n    },\n    {\n      \"column\": \"internet\",\n      \"properties\": {\n        \"dtype\": \"object\",\n        \"semantic_type\": \"\",\n        \"description\": \"\"\n      }\n    },\n    {\n      \"column\": \"account\",\n      \"properties\": {\n        \"dtype\": \"object\",\n        \"semantic_type\": \"\",\n        \"description\": \"\"\n      }\n    }\n  ]\n}"
            }
          },
          "metadata": {},
          "execution_count": 6
        }
      ],
      "source": [
        "data = pd.read_json('TelecomX_Data.json')\n",
        "data.head(2)"
      ]
    },
    {
      "cell_type": "markdown",
      "id": "87b45be0",
      "metadata": {
        "id": "87b45be0"
      },
      "source": [
        "### Normalizar la data anterior\n"
      ]
    },
    {
      "cell_type": "code",
      "execution_count": 7,
      "id": "39fdd008",
      "metadata": {
        "id": "39fdd008"
      },
      "outputs": [],
      "source": [
        "# Selecccionar las columnas que contienen datos anidados\n",
        "cols_to_normalize = ['customer', 'phone', 'internet', 'account']\n",
        "\n",
        "# Eliminar las columnas anidadas del DataFrame original\n",
        "df_base = data.drop(columns=cols_to_normalize)\n",
        "\n",
        "# Normalizar cada columna anidada\n",
        "normalized_parts = []\n",
        "for col in cols_to_normalize:\n",
        "    norm = pd.json_normalize(data[col])\n",
        "    normalized_parts.append(norm)\n",
        "\n",
        "# Concatenar el DataFrame base con las partes normalizadas\n",
        "data = pd.concat([df_base] + normalized_parts, axis=1)"
      ]
    },
    {
      "cell_type": "code",
      "execution_count": null,
      "id": "da3cd8de",
      "metadata": {
        "id": "da3cd8de",
        "outputId": "ca1c6a8d-d1fe-4748-9468-460c498db94b"
      },
      "outputs": [
        {
          "data": {
            "text/html": [
              "<div>\n",
              "<style scoped>\n",
              "    .dataframe tbody tr th:only-of-type {\n",
              "        vertical-align: middle;\n",
              "    }\n",
              "\n",
              "    .dataframe tbody tr th {\n",
              "        vertical-align: top;\n",
              "    }\n",
              "\n",
              "    .dataframe thead th {\n",
              "        text-align: right;\n",
              "    }\n",
              "</style>\n",
              "<table border=\"1\" class=\"dataframe\">\n",
              "  <thead>\n",
              "    <tr style=\"text-align: right;\">\n",
              "      <th></th>\n",
              "      <th>customerID</th>\n",
              "      <th>Churn</th>\n",
              "      <th>gender</th>\n",
              "      <th>SeniorCitizen</th>\n",
              "      <th>Partner</th>\n",
              "      <th>Dependents</th>\n",
              "      <th>tenure</th>\n",
              "      <th>PhoneService</th>\n",
              "      <th>MultipleLines</th>\n",
              "      <th>InternetService</th>\n",
              "      <th>...</th>\n",
              "      <th>OnlineBackup</th>\n",
              "      <th>DeviceProtection</th>\n",
              "      <th>TechSupport</th>\n",
              "      <th>StreamingTV</th>\n",
              "      <th>StreamingMovies</th>\n",
              "      <th>Contract</th>\n",
              "      <th>PaperlessBilling</th>\n",
              "      <th>PaymentMethod</th>\n",
              "      <th>Charges.Monthly</th>\n",
              "      <th>Charges.Total</th>\n",
              "    </tr>\n",
              "  </thead>\n",
              "  <tbody>\n",
              "    <tr>\n",
              "      <th>0</th>\n",
              "      <td>0002-ORFBO</td>\n",
              "      <td>No</td>\n",
              "      <td>Female</td>\n",
              "      <td>0</td>\n",
              "      <td>Yes</td>\n",
              "      <td>Yes</td>\n",
              "      <td>9</td>\n",
              "      <td>Yes</td>\n",
              "      <td>No</td>\n",
              "      <td>DSL</td>\n",
              "      <td>...</td>\n",
              "      <td>Yes</td>\n",
              "      <td>No</td>\n",
              "      <td>Yes</td>\n",
              "      <td>Yes</td>\n",
              "      <td>No</td>\n",
              "      <td>One year</td>\n",
              "      <td>Yes</td>\n",
              "      <td>Mailed check</td>\n",
              "      <td>65.6</td>\n",
              "      <td>593.3</td>\n",
              "    </tr>\n",
              "    <tr>\n",
              "      <th>1</th>\n",
              "      <td>0003-MKNFE</td>\n",
              "      <td>No</td>\n",
              "      <td>Male</td>\n",
              "      <td>0</td>\n",
              "      <td>No</td>\n",
              "      <td>No</td>\n",
              "      <td>9</td>\n",
              "      <td>Yes</td>\n",
              "      <td>Yes</td>\n",
              "      <td>DSL</td>\n",
              "      <td>...</td>\n",
              "      <td>No</td>\n",
              "      <td>No</td>\n",
              "      <td>No</td>\n",
              "      <td>No</td>\n",
              "      <td>Yes</td>\n",
              "      <td>Month-to-month</td>\n",
              "      <td>No</td>\n",
              "      <td>Mailed check</td>\n",
              "      <td>59.9</td>\n",
              "      <td>542.4</td>\n",
              "    </tr>\n",
              "    <tr>\n",
              "      <th>2</th>\n",
              "      <td>0004-TLHLJ</td>\n",
              "      <td>Yes</td>\n",
              "      <td>Male</td>\n",
              "      <td>0</td>\n",
              "      <td>No</td>\n",
              "      <td>No</td>\n",
              "      <td>4</td>\n",
              "      <td>Yes</td>\n",
              "      <td>No</td>\n",
              "      <td>Fiber optic</td>\n",
              "      <td>...</td>\n",
              "      <td>No</td>\n",
              "      <td>Yes</td>\n",
              "      <td>No</td>\n",
              "      <td>No</td>\n",
              "      <td>No</td>\n",
              "      <td>Month-to-month</td>\n",
              "      <td>Yes</td>\n",
              "      <td>Electronic check</td>\n",
              "      <td>73.9</td>\n",
              "      <td>280.85</td>\n",
              "    </tr>\n",
              "    <tr>\n",
              "      <th>3</th>\n",
              "      <td>0011-IGKFF</td>\n",
              "      <td>Yes</td>\n",
              "      <td>Male</td>\n",
              "      <td>1</td>\n",
              "      <td>Yes</td>\n",
              "      <td>No</td>\n",
              "      <td>13</td>\n",
              "      <td>Yes</td>\n",
              "      <td>No</td>\n",
              "      <td>Fiber optic</td>\n",
              "      <td>...</td>\n",
              "      <td>Yes</td>\n",
              "      <td>Yes</td>\n",
              "      <td>No</td>\n",
              "      <td>Yes</td>\n",
              "      <td>Yes</td>\n",
              "      <td>Month-to-month</td>\n",
              "      <td>Yes</td>\n",
              "      <td>Electronic check</td>\n",
              "      <td>98.0</td>\n",
              "      <td>1237.85</td>\n",
              "    </tr>\n",
              "    <tr>\n",
              "      <th>4</th>\n",
              "      <td>0013-EXCHZ</td>\n",
              "      <td>Yes</td>\n",
              "      <td>Female</td>\n",
              "      <td>1</td>\n",
              "      <td>Yes</td>\n",
              "      <td>No</td>\n",
              "      <td>3</td>\n",
              "      <td>Yes</td>\n",
              "      <td>No</td>\n",
              "      <td>Fiber optic</td>\n",
              "      <td>...</td>\n",
              "      <td>No</td>\n",
              "      <td>No</td>\n",
              "      <td>Yes</td>\n",
              "      <td>Yes</td>\n",
              "      <td>No</td>\n",
              "      <td>Month-to-month</td>\n",
              "      <td>Yes</td>\n",
              "      <td>Mailed check</td>\n",
              "      <td>83.9</td>\n",
              "      <td>267.4</td>\n",
              "    </tr>\n",
              "  </tbody>\n",
              "</table>\n",
              "<p>5 rows × 21 columns</p>\n",
              "</div>"
            ],
            "text/plain": [
              "   customerID Churn  gender  SeniorCitizen Partner Dependents  tenure  \\\n",
              "0  0002-ORFBO    No  Female              0     Yes        Yes       9   \n",
              "1  0003-MKNFE    No    Male              0      No         No       9   \n",
              "2  0004-TLHLJ   Yes    Male              0      No         No       4   \n",
              "3  0011-IGKFF   Yes    Male              1     Yes         No      13   \n",
              "4  0013-EXCHZ   Yes  Female              1     Yes         No       3   \n",
              "\n",
              "  PhoneService MultipleLines InternetService  ... OnlineBackup  \\\n",
              "0          Yes            No             DSL  ...          Yes   \n",
              "1          Yes           Yes             DSL  ...           No   \n",
              "2          Yes            No     Fiber optic  ...           No   \n",
              "3          Yes            No     Fiber optic  ...          Yes   \n",
              "4          Yes            No     Fiber optic  ...           No   \n",
              "\n",
              "  DeviceProtection TechSupport StreamingTV StreamingMovies        Contract  \\\n",
              "0               No         Yes         Yes              No        One year   \n",
              "1               No          No          No             Yes  Month-to-month   \n",
              "2              Yes          No          No              No  Month-to-month   \n",
              "3              Yes          No         Yes             Yes  Month-to-month   \n",
              "4               No         Yes         Yes              No  Month-to-month   \n",
              "\n",
              "  PaperlessBilling     PaymentMethod Charges.Monthly  Charges.Total  \n",
              "0              Yes      Mailed check            65.6          593.3  \n",
              "1               No      Mailed check            59.9          542.4  \n",
              "2              Yes  Electronic check            73.9         280.85  \n",
              "3              Yes  Electronic check            98.0        1237.85  \n",
              "4              Yes      Mailed check            83.9          267.4  \n",
              "\n",
              "[5 rows x 21 columns]"
            ]
          },
          "execution_count": 4,
          "metadata": {},
          "output_type": "execute_result"
        }
      ],
      "source": [
        "data.head(5)"
      ]
    },
    {
      "cell_type": "markdown",
      "id": "0b835bf0",
      "metadata": {
        "id": "0b835bf0"
      },
      "source": [
        "## Tansformación de datos"
      ]
    },
    {
      "cell_type": "markdown",
      "id": "ecbb89c9",
      "metadata": {
        "id": "ecbb89c9"
      },
      "source": [
        "### Conocer el conjunto de datos"
      ]
    },
    {
      "cell_type": "code",
      "execution_count": null,
      "id": "eb1275e2",
      "metadata": {
        "id": "eb1275e2",
        "outputId": "362819f9-7cdc-4b6b-d42c-b72dcc80c11f"
      },
      "outputs": [
        {
          "name": "stdout",
          "output_type": "stream",
          "text": [
            "el Dataframe tiene 21 columnas y  7267 filas\n"
          ]
        }
      ],
      "source": [
        "print('el Dataframe tiene', data.shape[1], 'columnas y ', data.shape[0], 'filas')"
      ]
    },
    {
      "cell_type": "code",
      "execution_count": null,
      "id": "20d56032",
      "metadata": {
        "id": "20d56032",
        "outputId": "b56446db-fcc1-468f-d150-14fda404a84f"
      },
      "outputs": [
        {
          "name": "stdout",
          "output_type": "stream",
          "text": [
            "Tipos de datos:\n",
            "customerID           object\n",
            "Churn                object\n",
            "gender               object\n",
            "SeniorCitizen         int64\n",
            "Partner              object\n",
            "Dependents           object\n",
            "tenure                int64\n",
            "PhoneService         object\n",
            "MultipleLines        object\n",
            "InternetService      object\n",
            "OnlineSecurity       object\n",
            "OnlineBackup         object\n",
            "DeviceProtection     object\n",
            "TechSupport          object\n",
            "StreamingTV          object\n",
            "StreamingMovies      object\n",
            "Contract             object\n",
            "PaperlessBilling     object\n",
            "PaymentMethod        object\n",
            "Charges.Monthly     float64\n",
            "Charges.Total        object\n",
            "dtype: object\n"
          ]
        }
      ],
      "source": [
        "print(f'Tipos de datos:\\n{data.dtypes}')"
      ]
    },
    {
      "cell_type": "code",
      "execution_count": null,
      "id": "08c7da43",
      "metadata": {
        "id": "08c7da43",
        "outputId": "0fdb331e-a13b-4a58-965b-b88de7a8b193"
      },
      "outputs": [
        {
          "name": "stdout",
          "output_type": "stream",
          "text": [
            "<class 'pandas.core.frame.DataFrame'>\n",
            "RangeIndex: 7267 entries, 0 to 7266\n",
            "Data columns (total 21 columns):\n",
            " #   Column            Non-Null Count  Dtype  \n",
            "---  ------            --------------  -----  \n",
            " 0   customerID        7267 non-null   object \n",
            " 1   Churn             7267 non-null   object \n",
            " 2   gender            7267 non-null   object \n",
            " 3   SeniorCitizen     7267 non-null   int64  \n",
            " 4   Partner           7267 non-null   object \n",
            " 5   Dependents        7267 non-null   object \n",
            " 6   tenure            7267 non-null   int64  \n",
            " 7   PhoneService      7267 non-null   object \n",
            " 8   MultipleLines     7267 non-null   object \n",
            " 9   InternetService   7267 non-null   object \n",
            " 10  OnlineSecurity    7267 non-null   object \n",
            " 11  OnlineBackup      7267 non-null   object \n",
            " 12  DeviceProtection  7267 non-null   object \n",
            " 13  TechSupport       7267 non-null   object \n",
            " 14  StreamingTV       7267 non-null   object \n",
            " 15  StreamingMovies   7267 non-null   object \n",
            " 16  Contract          7267 non-null   object \n",
            " 17  PaperlessBilling  7267 non-null   object \n",
            " 18  PaymentMethod     7267 non-null   object \n",
            " 19  Charges.Monthly   7267 non-null   float64\n",
            " 20  Charges.Total     7267 non-null   object \n",
            "dtypes: float64(1), int64(2), object(18)\n",
            "memory usage: 1.2+ MB\n"
          ]
        }
      ],
      "source": [
        "data.info()"
      ]
    },
    {
      "cell_type": "markdown",
      "id": "aa430fd2",
      "metadata": {
        "id": "aa430fd2"
      },
      "source": [
        "### Identificar incoherencia en los datos (nulos, duplicados, incosistencia, etc)"
      ]
    },
    {
      "cell_type": "code",
      "execution_count": null,
      "id": "1a4e4876",
      "metadata": {
        "id": "1a4e4876",
        "outputId": "87865459-92b6-4fe5-9616-ab14a805a1d3"
      },
      "outputs": [
        {
          "name": "stdout",
          "output_type": "stream",
          "text": [
            "Columnas con valores nulos:\n",
            "customerID          0\n",
            "Churn               0\n",
            "gender              0\n",
            "SeniorCitizen       0\n",
            "Partner             0\n",
            "Dependents          0\n",
            "tenure              0\n",
            "PhoneService        0\n",
            "MultipleLines       0\n",
            "InternetService     0\n",
            "OnlineSecurity      0\n",
            "OnlineBackup        0\n",
            "DeviceProtection    0\n",
            "TechSupport         0\n",
            "StreamingTV         0\n",
            "StreamingMovies     0\n",
            "Contract            0\n",
            "PaperlessBilling    0\n",
            "PaymentMethod       0\n",
            "Charges.Monthly     0\n",
            "Charges.Total       0\n",
            "dtype: int64\n",
            "\n",
            "Cantidad de datos duplicados:  0\n"
          ]
        }
      ],
      "source": [
        "print(f'Columnas con valores nulos:\\n{data.isnull().sum()}')\n",
        "print('\\nCantidad de datos duplicados: ',data.duplicated().sum())"
      ]
    },
    {
      "cell_type": "code",
      "execution_count": null,
      "id": "43651e6c",
      "metadata": {
        "id": "43651e6c"
      },
      "outputs": [],
      "source": [
        "data['Charges.Total'] =data['Charges.Total'].str.strip()"
      ]
    },
    {
      "cell_type": "markdown",
      "id": "45649a11",
      "metadata": {
        "id": "45649a11"
      },
      "source": [
        "### Identificamos que valores de \"Total gasto\" no se pueden convertir  a float"
      ]
    },
    {
      "cell_type": "code",
      "execution_count": null,
      "id": "007b9f2d",
      "metadata": {
        "id": "007b9f2d",
        "outputId": "3cf1179f-b848-4177-d5e4-8f959184314a"
      },
      "outputs": [
        {
          "name": "stdout",
          "output_type": "stream",
          "text": [
            "Valores en 'Charges.Total' que NO se pueden convertir a float:\n",
            "['']\n"
          ]
        }
      ],
      "source": [
        "conversion = pd.to_numeric(data['Charges.Total'], errors='coerce')\n",
        "valores_no_convertibles = data.loc[conversion.isna() & data['Charges.Total'].notna(), 'Charges.Total'].unique()\n",
        "print(\"Valores en 'Charges.Total' que NO se pueden convertir a float:\")\n",
        "print(valores_no_convertibles)\n"
      ]
    },
    {
      "cell_type": "markdown",
      "id": "83c634c2",
      "metadata": {
        "id": "83c634c2"
      },
      "source": [
        "### Convertir la columna  \"Total gasto\" a dato  flotante"
      ]
    },
    {
      "cell_type": "code",
      "execution_count": null,
      "id": "0f4bccbd",
      "metadata": {
        "id": "0f4bccbd",
        "outputId": "525a3b4f-7b13-4168-a2f2-32b48843b962"
      },
      "outputs": [
        {
          "name": "stderr",
          "output_type": "stream",
          "text": [
            "C:\\Users\\ysort\\AppData\\Local\\Temp\\ipykernel_8772\\3381529340.py:3: FutureWarning: A value is trying to be set on a copy of a DataFrame or Series through chained assignment using an inplace method.\n",
            "The behavior will change in pandas 3.0. This inplace method will never work because the intermediate object on which we are setting values always behaves as a copy.\n",
            "\n",
            "For example, when doing 'df[col].method(value, inplace=True)', try using 'df.method({col: value}, inplace=True)' or df[col] = df[col].method(value) instead, to perform the operation inplace on the original object.\n",
            "\n",
            "\n",
            "  data['Charges.Total'].fillna(0, inplace=True)\n"
          ]
        }
      ],
      "source": [
        "data['Charges.Total'] = data['Charges.Total'].replace('', '0'). replace(' ', '0')\n",
        "data['Charges.Total'] = data['Charges.Total'].astype(np.float64)\n",
        "data['Charges.Total'].fillna(0, inplace=True)"
      ]
    },
    {
      "cell_type": "markdown",
      "id": "2551604a",
      "metadata": {
        "id": "2551604a"
      },
      "source": [
        "### Identificar valores unicos de las variables categoricas yes/no"
      ]
    },
    {
      "cell_type": "code",
      "execution_count": null,
      "id": "8d5f324a",
      "metadata": {
        "id": "8d5f324a",
        "outputId": "da4ebe66-ab02-4c44-aaae-80c574c10369"
      },
      "outputs": [
        {
          "data": {
            "text/plain": [
              "array(['Yes', 'No', 'No internet service'], dtype=object)"
            ]
          },
          "execution_count": 12,
          "metadata": {},
          "output_type": "execute_result"
        }
      ],
      "source": [
        "data['Churn'].unique()\n",
        "data['MultipleLines'].unique()\n",
        "data['OnlineSecurity'].unique()\n",
        "data['OnlineBackup'].unique()\n",
        "data['DeviceProtection'].unique()\n",
        "data['StreamingTV'].unique()\n",
        "data['StreamingMovies'].unique()\n",
        "data['TechSupport'].unique()"
      ]
    },
    {
      "cell_type": "markdown",
      "id": "178bf975",
      "metadata": {
        "id": "178bf975"
      },
      "source": [
        "### modificar los valores de las columnas, para estandarizar a 'Yes' y 'No'\n"
      ]
    },
    {
      "cell_type": "code",
      "execution_count": null,
      "id": "f28a16c3",
      "metadata": {
        "id": "f28a16c3",
        "outputId": "2b76101e-0e6c-4381-ea9a-913bff22cbe0"
      },
      "outputs": [
        {
          "name": "stderr",
          "output_type": "stream",
          "text": [
            "C:\\Users\\ysort\\AppData\\Local\\Temp\\ipykernel_8772\\2238991397.py:2: FutureWarning: A value is trying to be set on a copy of a DataFrame or Series through chained assignment using an inplace method.\n",
            "The behavior will change in pandas 3.0. This inplace method will never work because the intermediate object on which we are setting values always behaves as a copy.\n",
            "\n",
            "For example, when doing 'df[col].method(value, inplace=True)', try using 'df.method({col: value}, inplace=True)' or df[col] = df[col].method(value) instead, to perform the operation inplace on the original object.\n",
            "\n",
            "\n",
            "  data['Churn'].replace('', 'No', inplace=True)\n",
            "C:\\Users\\ysort\\AppData\\Local\\Temp\\ipykernel_8772\\2238991397.py:3: FutureWarning: A value is trying to be set on a copy of a DataFrame or Series through chained assignment using an inplace method.\n",
            "The behavior will change in pandas 3.0. This inplace method will never work because the intermediate object on which we are setting values always behaves as a copy.\n",
            "\n",
            "For example, when doing 'df[col].method(value, inplace=True)', try using 'df.method({col: value}, inplace=True)' or df[col] = df[col].method(value) instead, to perform the operation inplace on the original object.\n",
            "\n",
            "\n",
            "  data['MultipleLines'].replace('No phone service', 'No', inplace=True)\n",
            "C:\\Users\\ysort\\AppData\\Local\\Temp\\ipykernel_8772\\2238991397.py:4: FutureWarning: A value is trying to be set on a copy of a DataFrame or Series through chained assignment using an inplace method.\n",
            "The behavior will change in pandas 3.0. This inplace method will never work because the intermediate object on which we are setting values always behaves as a copy.\n",
            "\n",
            "For example, when doing 'df[col].method(value, inplace=True)', try using 'df.method({col: value}, inplace=True)' or df[col] = df[col].method(value) instead, to perform the operation inplace on the original object.\n",
            "\n",
            "\n",
            "  data['OnlineSecurity'].replace('No internet service', 'No', inplace=True)\n",
            "C:\\Users\\ysort\\AppData\\Local\\Temp\\ipykernel_8772\\2238991397.py:5: FutureWarning: A value is trying to be set on a copy of a DataFrame or Series through chained assignment using an inplace method.\n",
            "The behavior will change in pandas 3.0. This inplace method will never work because the intermediate object on which we are setting values always behaves as a copy.\n",
            "\n",
            "For example, when doing 'df[col].method(value, inplace=True)', try using 'df.method({col: value}, inplace=True)' or df[col] = df[col].method(value) instead, to perform the operation inplace on the original object.\n",
            "\n",
            "\n",
            "  data['OnlineBackup'].replace('No internet service', 'No', inplace=True)\n",
            "C:\\Users\\ysort\\AppData\\Local\\Temp\\ipykernel_8772\\2238991397.py:6: FutureWarning: A value is trying to be set on a copy of a DataFrame or Series through chained assignment using an inplace method.\n",
            "The behavior will change in pandas 3.0. This inplace method will never work because the intermediate object on which we are setting values always behaves as a copy.\n",
            "\n",
            "For example, when doing 'df[col].method(value, inplace=True)', try using 'df.method({col: value}, inplace=True)' or df[col] = df[col].method(value) instead, to perform the operation inplace on the original object.\n",
            "\n",
            "\n",
            "  data['DeviceProtection'].replace('No internet service', 'No', inplace=True)\n",
            "C:\\Users\\ysort\\AppData\\Local\\Temp\\ipykernel_8772\\2238991397.py:7: FutureWarning: A value is trying to be set on a copy of a DataFrame or Series through chained assignment using an inplace method.\n",
            "The behavior will change in pandas 3.0. This inplace method will never work because the intermediate object on which we are setting values always behaves as a copy.\n",
            "\n",
            "For example, when doing 'df[col].method(value, inplace=True)', try using 'df.method({col: value}, inplace=True)' or df[col] = df[col].method(value) instead, to perform the operation inplace on the original object.\n",
            "\n",
            "\n",
            "  data['StreamingTV'].replace('No internet service', 'No', inplace=True)\n",
            "C:\\Users\\ysort\\AppData\\Local\\Temp\\ipykernel_8772\\2238991397.py:8: FutureWarning: A value is trying to be set on a copy of a DataFrame or Series through chained assignment using an inplace method.\n",
            "The behavior will change in pandas 3.0. This inplace method will never work because the intermediate object on which we are setting values always behaves as a copy.\n",
            "\n",
            "For example, when doing 'df[col].method(value, inplace=True)', try using 'df.method({col: value}, inplace=True)' or df[col] = df[col].method(value) instead, to perform the operation inplace on the original object.\n",
            "\n",
            "\n",
            "  data['StreamingMovies'].replace('No internet service', 'No', inplace=True)\n",
            "C:\\Users\\ysort\\AppData\\Local\\Temp\\ipykernel_8772\\2238991397.py:9: FutureWarning: A value is trying to be set on a copy of a DataFrame or Series through chained assignment using an inplace method.\n",
            "The behavior will change in pandas 3.0. This inplace method will never work because the intermediate object on which we are setting values always behaves as a copy.\n",
            "\n",
            "For example, when doing 'df[col].method(value, inplace=True)', try using 'df.method({col: value}, inplace=True)' or df[col] = df[col].method(value) instead, to perform the operation inplace on the original object.\n",
            "\n",
            "\n",
            "  data['TechSupport'].replace('No internet service', 'No', inplace=True)\n"
          ]
        }
      ],
      "source": [
        "data['Churn'].replace('', 'No', inplace=True)\n",
        "data['MultipleLines'].replace('No phone service', 'No', inplace=True)\n",
        "data['OnlineSecurity'].replace('No internet service', 'No', inplace=True)\n",
        "data['OnlineBackup'].replace('No internet service', 'No', inplace=True)\n",
        "data['DeviceProtection'].replace('No internet service', 'No', inplace=True)\n",
        "data['StreamingTV'].replace('No internet service', 'No', inplace=True)\n",
        "data['StreamingMovies'].replace('No internet service', 'No', inplace=True)\n",
        "data['TechSupport'].replace('No internet service', 'No', inplace=True)"
      ]
    },
    {
      "cell_type": "code",
      "execution_count": null,
      "id": "4617c4ca",
      "metadata": {
        "id": "4617c4ca",
        "outputId": "46b831ef-f382-4d8b-f149-c7f286cbd56a"
      },
      "outputs": [
        {
          "name": "stdout",
          "output_type": "stream",
          "text": [
            "['No' 'Yes']\n",
            "['No' 'Yes']\n",
            "['No' 'Yes']\n",
            "['Yes' 'No']\n",
            "['No' 'Yes']\n",
            "['Yes' 'No']\n",
            "['No' 'Yes']\n",
            "['Yes' 'No']\n"
          ]
        }
      ],
      "source": [
        "#Corroborar los cambios\n",
        "print(data['Churn'].unique())\n",
        "print(data['MultipleLines'].unique())\n",
        "print(data['OnlineSecurity'].unique())\n",
        "print(data['OnlineBackup'].unique())\n",
        "print(data['DeviceProtection'].unique())\n",
        "print(data['StreamingTV'].unique())\n",
        "print(data['StreamingMovies'].unique())\n",
        "print(data['TechSupport'].unique())"
      ]
    },
    {
      "cell_type": "markdown",
      "id": "451a4462",
      "metadata": {
        "id": "451a4462"
      },
      "source": [
        "### Creamos una columna  de cuentas diarias"
      ]
    },
    {
      "cell_type": "code",
      "execution_count": null,
      "id": "8327a8f9",
      "metadata": {
        "id": "8327a8f9",
        "outputId": "90126768-9852-4534-a466-9a28f33dc1e2"
      },
      "outputs": [
        {
          "data": {
            "text/html": [
              "<div>\n",
              "<style scoped>\n",
              "    .dataframe tbody tr th:only-of-type {\n",
              "        vertical-align: middle;\n",
              "    }\n",
              "\n",
              "    .dataframe tbody tr th {\n",
              "        vertical-align: top;\n",
              "    }\n",
              "\n",
              "    .dataframe thead th {\n",
              "        text-align: right;\n",
              "    }\n",
              "</style>\n",
              "<table border=\"1\" class=\"dataframe\">\n",
              "  <thead>\n",
              "    <tr style=\"text-align: right;\">\n",
              "      <th></th>\n",
              "      <th>customerID</th>\n",
              "      <th>Churn</th>\n",
              "      <th>gender</th>\n",
              "      <th>SeniorCitizen</th>\n",
              "      <th>Partner</th>\n",
              "      <th>Dependents</th>\n",
              "      <th>tenure</th>\n",
              "      <th>PhoneService</th>\n",
              "      <th>MultipleLines</th>\n",
              "      <th>InternetService</th>\n",
              "      <th>...</th>\n",
              "      <th>DeviceProtection</th>\n",
              "      <th>TechSupport</th>\n",
              "      <th>StreamingTV</th>\n",
              "      <th>StreamingMovies</th>\n",
              "      <th>Contract</th>\n",
              "      <th>PaperlessBilling</th>\n",
              "      <th>PaymentMethod</th>\n",
              "      <th>Charges.Monthly</th>\n",
              "      <th>Charges.Total</th>\n",
              "      <th>daily_accounts</th>\n",
              "    </tr>\n",
              "  </thead>\n",
              "  <tbody>\n",
              "    <tr>\n",
              "      <th>0</th>\n",
              "      <td>0002-ORFBO</td>\n",
              "      <td>No</td>\n",
              "      <td>Female</td>\n",
              "      <td>0</td>\n",
              "      <td>Yes</td>\n",
              "      <td>Yes</td>\n",
              "      <td>9</td>\n",
              "      <td>Yes</td>\n",
              "      <td>No</td>\n",
              "      <td>DSL</td>\n",
              "      <td>...</td>\n",
              "      <td>No</td>\n",
              "      <td>Yes</td>\n",
              "      <td>Yes</td>\n",
              "      <td>No</td>\n",
              "      <td>One year</td>\n",
              "      <td>Yes</td>\n",
              "      <td>Mailed check</td>\n",
              "      <td>65.6</td>\n",
              "      <td>593.3</td>\n",
              "      <td>2.19</td>\n",
              "    </tr>\n",
              "    <tr>\n",
              "      <th>1</th>\n",
              "      <td>0003-MKNFE</td>\n",
              "      <td>No</td>\n",
              "      <td>Male</td>\n",
              "      <td>0</td>\n",
              "      <td>No</td>\n",
              "      <td>No</td>\n",
              "      <td>9</td>\n",
              "      <td>Yes</td>\n",
              "      <td>Yes</td>\n",
              "      <td>DSL</td>\n",
              "      <td>...</td>\n",
              "      <td>No</td>\n",
              "      <td>No</td>\n",
              "      <td>No</td>\n",
              "      <td>Yes</td>\n",
              "      <td>Month-to-month</td>\n",
              "      <td>No</td>\n",
              "      <td>Mailed check</td>\n",
              "      <td>59.9</td>\n",
              "      <td>542.4</td>\n",
              "      <td>2.00</td>\n",
              "    </tr>\n",
              "  </tbody>\n",
              "</table>\n",
              "<p>2 rows × 22 columns</p>\n",
              "</div>"
            ],
            "text/plain": [
              "   customerID Churn  gender  SeniorCitizen Partner Dependents  tenure  \\\n",
              "0  0002-ORFBO    No  Female              0     Yes        Yes       9   \n",
              "1  0003-MKNFE    No    Male              0      No         No       9   \n",
              "\n",
              "  PhoneService MultipleLines InternetService  ... DeviceProtection  \\\n",
              "0          Yes            No             DSL  ...               No   \n",
              "1          Yes           Yes             DSL  ...               No   \n",
              "\n",
              "  TechSupport StreamingTV StreamingMovies        Contract PaperlessBilling  \\\n",
              "0         Yes         Yes              No        One year              Yes   \n",
              "1          No          No             Yes  Month-to-month               No   \n",
              "\n",
              "  PaymentMethod Charges.Monthly Charges.Total  daily_accounts  \n",
              "0  Mailed check            65.6         593.3            2.19  \n",
              "1  Mailed check            59.9         542.4            2.00  \n",
              "\n",
              "[2 rows x 22 columns]"
            ]
          },
          "execution_count": 15,
          "metadata": {},
          "output_type": "execute_result"
        }
      ],
      "source": [
        "data['daily_accounts']=(data['Charges.Monthly'] / 30).round(2)\n",
        "data.head(2)"
      ]
    },
    {
      "cell_type": "markdown",
      "id": "f5cae3c1",
      "metadata": {
        "id": "f5cae3c1"
      },
      "source": [
        "### Estandarización y transformación de datos (opcional)"
      ]
    },
    {
      "cell_type": "code",
      "execution_count": null,
      "id": "71405f99",
      "metadata": {
        "id": "71405f99",
        "outputId": "97056d85-00a2-467b-c144-15861c5e5a20"
      },
      "outputs": [
        {
          "name": "stderr",
          "output_type": "stream",
          "text": [
            "C:\\Users\\ysort\\AppData\\Local\\Temp\\ipykernel_8772\\3303603604.py:9: FutureWarning: Downcasting behavior in `replace` is deprecated and will be removed in a future version. To retain the old behavior, explicitly call `result.infer_objects(copy=False)`. To opt-in to the future behavior, set `pd.set_option('future.no_silent_downcasting', True)`\n",
            "  data[columnas_binarias] = data[columnas_binarias].replace({'Yes': 1, 'No': 0})\n"
          ]
        },
        {
          "name": "stdout",
          "output_type": "stream",
          "text": [
            "Columnas con solo 'Yes' y 'No': ['Churn', 'Partner', 'Dependents', 'PhoneService', 'MultipleLines', 'OnlineSecurity', 'OnlineBackup', 'DeviceProtection', 'TechSupport', 'StreamingTV', 'StreamingMovies', 'PaperlessBilling']\n"
          ]
        }
      ],
      "source": [
        "# Identifico las columnas que contienen solo los valores 'Yes' y 'No'\n",
        "columnas_binarias = [\n",
        "    col for col in data.columns\n",
        "    if set(data[col].dropna().unique()) <= {\"Yes\", \"No\"}\n",
        "]\n",
        "print(\"Columnas con solo 'Yes' y 'No':\", columnas_binarias)\n",
        "\n",
        "# Reemplazo los valores 'Yes' y 'No' por 1 y 0 respectivamente\n",
        "data[columnas_binarias] = data[columnas_binarias].replace({'Yes': 1, 'No': 0})\n"
      ]
    },
    {
      "cell_type": "code",
      "execution_count": null,
      "id": "adbcec76",
      "metadata": {
        "id": "adbcec76",
        "outputId": "c92b3acf-5375-49e4-80d8-81cc1312fcd3"
      },
      "outputs": [
        {
          "data": {
            "text/html": [
              "<div>\n",
              "<style scoped>\n",
              "    .dataframe tbody tr th:only-of-type {\n",
              "        vertical-align: middle;\n",
              "    }\n",
              "\n",
              "    .dataframe tbody tr th {\n",
              "        vertical-align: top;\n",
              "    }\n",
              "\n",
              "    .dataframe thead th {\n",
              "        text-align: right;\n",
              "    }\n",
              "</style>\n",
              "<table border=\"1\" class=\"dataframe\">\n",
              "  <thead>\n",
              "    <tr style=\"text-align: right;\">\n",
              "      <th></th>\n",
              "      <th>customerID</th>\n",
              "      <th>Churn</th>\n",
              "      <th>gender</th>\n",
              "      <th>SeniorCitizen</th>\n",
              "      <th>Partner</th>\n",
              "      <th>Dependents</th>\n",
              "      <th>tenure</th>\n",
              "      <th>PhoneService</th>\n",
              "      <th>MultipleLines</th>\n",
              "      <th>InternetService</th>\n",
              "      <th>...</th>\n",
              "      <th>DeviceProtection</th>\n",
              "      <th>TechSupport</th>\n",
              "      <th>StreamingTV</th>\n",
              "      <th>StreamingMovies</th>\n",
              "      <th>Contract</th>\n",
              "      <th>PaperlessBilling</th>\n",
              "      <th>PaymentMethod</th>\n",
              "      <th>Charges.Monthly</th>\n",
              "      <th>Charges.Total</th>\n",
              "      <th>daily_accounts</th>\n",
              "    </tr>\n",
              "  </thead>\n",
              "  <tbody>\n",
              "    <tr>\n",
              "      <th>0</th>\n",
              "      <td>0002-ORFBO</td>\n",
              "      <td>0</td>\n",
              "      <td>Female</td>\n",
              "      <td>0</td>\n",
              "      <td>1</td>\n",
              "      <td>1</td>\n",
              "      <td>9</td>\n",
              "      <td>1</td>\n",
              "      <td>0</td>\n",
              "      <td>DSL</td>\n",
              "      <td>...</td>\n",
              "      <td>0</td>\n",
              "      <td>1</td>\n",
              "      <td>1</td>\n",
              "      <td>0</td>\n",
              "      <td>One year</td>\n",
              "      <td>1</td>\n",
              "      <td>Mailed check</td>\n",
              "      <td>65.6</td>\n",
              "      <td>593.3</td>\n",
              "      <td>2.19</td>\n",
              "    </tr>\n",
              "    <tr>\n",
              "      <th>1</th>\n",
              "      <td>0003-MKNFE</td>\n",
              "      <td>0</td>\n",
              "      <td>Male</td>\n",
              "      <td>0</td>\n",
              "      <td>0</td>\n",
              "      <td>0</td>\n",
              "      <td>9</td>\n",
              "      <td>1</td>\n",
              "      <td>1</td>\n",
              "      <td>DSL</td>\n",
              "      <td>...</td>\n",
              "      <td>0</td>\n",
              "      <td>0</td>\n",
              "      <td>0</td>\n",
              "      <td>1</td>\n",
              "      <td>Month-to-month</td>\n",
              "      <td>0</td>\n",
              "      <td>Mailed check</td>\n",
              "      <td>59.9</td>\n",
              "      <td>542.4</td>\n",
              "      <td>2.00</td>\n",
              "    </tr>\n",
              "  </tbody>\n",
              "</table>\n",
              "<p>2 rows × 22 columns</p>\n",
              "</div>"
            ],
            "text/plain": [
              "   customerID  Churn  gender  SeniorCitizen  Partner  Dependents  tenure  \\\n",
              "0  0002-ORFBO      0  Female              0        1           1       9   \n",
              "1  0003-MKNFE      0    Male              0        0           0       9   \n",
              "\n",
              "   PhoneService  MultipleLines InternetService  ...  DeviceProtection  \\\n",
              "0             1              0             DSL  ...                 0   \n",
              "1             1              1             DSL  ...                 0   \n",
              "\n",
              "   TechSupport  StreamingTV  StreamingMovies        Contract  \\\n",
              "0            1            1                0        One year   \n",
              "1            0            0                1  Month-to-month   \n",
              "\n",
              "   PaperlessBilling PaymentMethod  Charges.Monthly Charges.Total  \\\n",
              "0                 1  Mailed check             65.6         593.3   \n",
              "1                 0  Mailed check             59.9         542.4   \n",
              "\n",
              "   daily_accounts  \n",
              "0            2.19  \n",
              "1            2.00  \n",
              "\n",
              "[2 rows x 22 columns]"
            ]
          },
          "execution_count": 17,
          "metadata": {},
          "output_type": "execute_result"
        }
      ],
      "source": [
        "data.head(2)"
      ]
    },
    {
      "cell_type": "markdown",
      "id": "65e71e43",
      "metadata": {
        "id": "65e71e43"
      },
      "source": [
        "## Carga y Análisis\n",
        "### Análisis descriptivo(Estadistico)"
      ]
    },
    {
      "cell_type": "code",
      "execution_count": null,
      "id": "10b466b8",
      "metadata": {
        "id": "10b466b8",
        "outputId": "7201e757-3bfe-4f1a-8439-5fc4a04eeee3"
      },
      "outputs": [
        {
          "data": {
            "text/html": [
              "<div>\n",
              "<style scoped>\n",
              "    .dataframe tbody tr th:only-of-type {\n",
              "        vertical-align: middle;\n",
              "    }\n",
              "\n",
              "    .dataframe tbody tr th {\n",
              "        vertical-align: top;\n",
              "    }\n",
              "\n",
              "    .dataframe thead th {\n",
              "        text-align: right;\n",
              "    }\n",
              "</style>\n",
              "<table border=\"1\" class=\"dataframe\">\n",
              "  <thead>\n",
              "    <tr style=\"text-align: right;\">\n",
              "      <th></th>\n",
              "      <th>tenure</th>\n",
              "      <th>Charges.Monthly</th>\n",
              "      <th>Charges.Total</th>\n",
              "      <th>daily_accounts</th>\n",
              "    </tr>\n",
              "  </thead>\n",
              "  <tbody>\n",
              "    <tr>\n",
              "      <th>count</th>\n",
              "      <td>7267.000000</td>\n",
              "      <td>7267.000000</td>\n",
              "      <td>7267.000000</td>\n",
              "      <td>7267.000000</td>\n",
              "    </tr>\n",
              "    <tr>\n",
              "      <th>mean</th>\n",
              "      <td>32.346498</td>\n",
              "      <td>64.720098</td>\n",
              "      <td>2277.182035</td>\n",
              "      <td>2.157292</td>\n",
              "    </tr>\n",
              "    <tr>\n",
              "      <th>std</th>\n",
              "      <td>24.571773</td>\n",
              "      <td>30.129572</td>\n",
              "      <td>2268.648587</td>\n",
              "      <td>1.004407</td>\n",
              "    </tr>\n",
              "    <tr>\n",
              "      <th>min</th>\n",
              "      <td>0.000000</td>\n",
              "      <td>18.250000</td>\n",
              "      <td>0.000000</td>\n",
              "      <td>0.610000</td>\n",
              "    </tr>\n",
              "    <tr>\n",
              "      <th>25%</th>\n",
              "      <td>9.000000</td>\n",
              "      <td>35.425000</td>\n",
              "      <td>396.200000</td>\n",
              "      <td>1.180000</td>\n",
              "    </tr>\n",
              "    <tr>\n",
              "      <th>50%</th>\n",
              "      <td>29.000000</td>\n",
              "      <td>70.300000</td>\n",
              "      <td>1389.200000</td>\n",
              "      <td>2.340000</td>\n",
              "    </tr>\n",
              "    <tr>\n",
              "      <th>75%</th>\n",
              "      <td>55.000000</td>\n",
              "      <td>89.875000</td>\n",
              "      <td>3778.525000</td>\n",
              "      <td>2.995000</td>\n",
              "    </tr>\n",
              "    <tr>\n",
              "      <th>max</th>\n",
              "      <td>72.000000</td>\n",
              "      <td>118.750000</td>\n",
              "      <td>8684.800000</td>\n",
              "      <td>3.960000</td>\n",
              "    </tr>\n",
              "  </tbody>\n",
              "</table>\n",
              "</div>"
            ],
            "text/plain": [
              "            tenure  Charges.Monthly  Charges.Total  daily_accounts\n",
              "count  7267.000000      7267.000000    7267.000000     7267.000000\n",
              "mean     32.346498        64.720098    2277.182035        2.157292\n",
              "std      24.571773        30.129572    2268.648587        1.004407\n",
              "min       0.000000        18.250000       0.000000        0.610000\n",
              "25%       9.000000        35.425000     396.200000        1.180000\n",
              "50%      29.000000        70.300000    1389.200000        2.340000\n",
              "75%      55.000000        89.875000    3778.525000        2.995000\n",
              "max      72.000000       118.750000    8684.800000        3.960000"
            ]
          },
          "execution_count": 18,
          "metadata": {},
          "output_type": "execute_result"
        }
      ],
      "source": [
        "Columnas_estadisticas = ['tenure','Charges.Monthly','Charges.Total', 'daily_accounts']\n",
        "data[Columnas_estadisticas].describe()"
      ]
    },
    {
      "cell_type": "code",
      "execution_count": null,
      "id": "7564d31b",
      "metadata": {
        "id": "7564d31b",
        "outputId": "eb904f2f-2666-46c7-cc5c-2fb9d9798aaa"
      },
      "outputs": [
        {
          "data": {
            "text/html": [
              "<div>\n",
              "<style scoped>\n",
              "    .dataframe tbody tr th:only-of-type {\n",
              "        vertical-align: middle;\n",
              "    }\n",
              "\n",
              "    .dataframe tbody tr th {\n",
              "        vertical-align: top;\n",
              "    }\n",
              "\n",
              "    .dataframe thead th {\n",
              "        text-align: right;\n",
              "    }\n",
              "</style>\n",
              "<table border=\"1\" class=\"dataframe\">\n",
              "  <thead>\n",
              "    <tr style=\"text-align: right;\">\n",
              "      <th></th>\n",
              "      <th>customerID</th>\n",
              "      <th>Churn</th>\n",
              "      <th>gender</th>\n",
              "      <th>SeniorCitizen</th>\n",
              "      <th>Partner</th>\n",
              "      <th>Dependents</th>\n",
              "      <th>tenure</th>\n",
              "      <th>PhoneService</th>\n",
              "      <th>MultipleLines</th>\n",
              "      <th>InternetService</th>\n",
              "      <th>...</th>\n",
              "      <th>DeviceProtection</th>\n",
              "      <th>TechSupport</th>\n",
              "      <th>StreamingTV</th>\n",
              "      <th>StreamingMovies</th>\n",
              "      <th>Contract</th>\n",
              "      <th>PaperlessBilling</th>\n",
              "      <th>PaymentMethod</th>\n",
              "      <th>Charges.Monthly</th>\n",
              "      <th>Charges.Total</th>\n",
              "      <th>daily_accounts</th>\n",
              "    </tr>\n",
              "  </thead>\n",
              "  <tbody>\n",
              "    <tr>\n",
              "      <th>0</th>\n",
              "      <td>0002-ORFBO</td>\n",
              "      <td>0</td>\n",
              "      <td>Female</td>\n",
              "      <td>0</td>\n",
              "      <td>1</td>\n",
              "      <td>1</td>\n",
              "      <td>9</td>\n",
              "      <td>1</td>\n",
              "      <td>0</td>\n",
              "      <td>DSL</td>\n",
              "      <td>...</td>\n",
              "      <td>0</td>\n",
              "      <td>1</td>\n",
              "      <td>1</td>\n",
              "      <td>0</td>\n",
              "      <td>One year</td>\n",
              "      <td>1</td>\n",
              "      <td>Mailed check</td>\n",
              "      <td>65.6</td>\n",
              "      <td>593.3</td>\n",
              "      <td>2.19</td>\n",
              "    </tr>\n",
              "    <tr>\n",
              "      <th>1</th>\n",
              "      <td>0003-MKNFE</td>\n",
              "      <td>0</td>\n",
              "      <td>Male</td>\n",
              "      <td>0</td>\n",
              "      <td>0</td>\n",
              "      <td>0</td>\n",
              "      <td>9</td>\n",
              "      <td>1</td>\n",
              "      <td>1</td>\n",
              "      <td>DSL</td>\n",
              "      <td>...</td>\n",
              "      <td>0</td>\n",
              "      <td>0</td>\n",
              "      <td>0</td>\n",
              "      <td>1</td>\n",
              "      <td>Month-to-month</td>\n",
              "      <td>0</td>\n",
              "      <td>Mailed check</td>\n",
              "      <td>59.9</td>\n",
              "      <td>542.4</td>\n",
              "      <td>2.00</td>\n",
              "    </tr>\n",
              "  </tbody>\n",
              "</table>\n",
              "<p>2 rows × 22 columns</p>\n",
              "</div>"
            ],
            "text/plain": [
              "   customerID  Churn  gender  SeniorCitizen  Partner  Dependents  tenure  \\\n",
              "0  0002-ORFBO      0  Female              0        1           1       9   \n",
              "1  0003-MKNFE      0    Male              0        0           0       9   \n",
              "\n",
              "   PhoneService  MultipleLines InternetService  ...  DeviceProtection  \\\n",
              "0             1              0             DSL  ...                 0   \n",
              "1             1              1             DSL  ...                 0   \n",
              "\n",
              "   TechSupport  StreamingTV  StreamingMovies        Contract  \\\n",
              "0            1            1                0        One year   \n",
              "1            0            0                1  Month-to-month   \n",
              "\n",
              "   PaperlessBilling PaymentMethod  Charges.Monthly Charges.Total  \\\n",
              "0                 1  Mailed check             65.6         593.3   \n",
              "1                 0  Mailed check             59.9         542.4   \n",
              "\n",
              "   daily_accounts  \n",
              "0            2.19  \n",
              "1            2.00  \n",
              "\n",
              "[2 rows x 22 columns]"
            ]
          },
          "execution_count": 19,
          "metadata": {},
          "output_type": "execute_result"
        }
      ],
      "source": [
        "data.head(2)"
      ]
    },
    {
      "cell_type": "markdown",
      "id": "902fdb31",
      "metadata": {
        "id": "902fdb31"
      },
      "source": [
        "### Distribución de evasión"
      ]
    },
    {
      "cell_type": "code",
      "execution_count": 8,
      "id": "483c00d4",
      "metadata": {
        "colab": {
          "base_uri": "https://localhost:8080/"
        },
        "id": "483c00d4",
        "outputId": "b3397e47-71bf-431a-b477-7d8af5a31869"
      },
      "outputs": [
        {
          "output_type": "stream",
          "name": "stdout",
          "text": [
            "Churn\n",
            "No     5174\n",
            "Yes    1869\n",
            "        224\n",
            "Name: count, dtype: int64\n",
            "Churn\n",
            "No     71.20\n",
            "Yes    25.72\n",
            "        3.08\n",
            "Name: proportion, dtype: float64\n"
          ]
        }
      ],
      "source": [
        "conteo =data['Churn'].value_counts()\n",
        "porcentajes = round(data['Churn'].value_counts(normalize=True)*100,2)\n",
        "print(conteo)\n",
        "print(porcentajes)"
      ]
    },
    {
      "cell_type": "code",
      "execution_count": 9,
      "id": "b378eef5",
      "metadata": {
        "colab": {
          "base_uri": "https://localhost:8080/",
          "height": 714
        },
        "id": "b378eef5",
        "outputId": "b9394a8a-4180-4757-ee54-b83f83098289"
      },
      "outputs": [
        {
          "output_type": "stream",
          "name": "stderr",
          "text": [
            "/tmp/ipython-input-9-3771087037.py:17: FutureWarning: \n",
            "\n",
            "Passing `palette` without assigning `hue` is deprecated and will be removed in v0.14.0. Assign the `x` variable to `hue` and set `legend=False` for the same effect.\n",
            "\n",
            "  barplot = sns.barplot(x='Churn', y='Count', data=churn_data, palette=['#66b3ff', '#ff9999'])\n"
          ]
        },
        {
          "output_type": "display_data",
          "data": {
            "text/plain": [
              "<Figure size 800x600 with 1 Axes>"
            ],
            "image/png": "[encoded data removed]"
          },
          "metadata": {}
        }
      ],
      "source": [
        "# Calculate churn counts and percentages, excluding empty strings\n",
        "churn_counts = data['Churn'].value_counts().drop('')\n",
        "churn_percentages = round(data['Churn'].value_counts(normalize=True).drop('') * 100, 2)\n",
        "\n",
        "# Create a DataFrame for plotting\n",
        "churn_data = pd.DataFrame({\n",
        "    'Count': churn_counts,\n",
        "    'Percentage': churn_percentages\n",
        "}).reset_index()\n",
        "churn_data.columns = ['Churn', 'Count', 'Percentage']\n",
        "\n",
        "# Sort by Churn to ensure 'No' comes before 'Yes' for consistent plotting\n",
        "churn_data = churn_data.sort_values('Churn', ascending=False)\n",
        "\n",
        "# Create the bar chart\n",
        "plt.figure(figsize=(8, 6))\n",
        "barplot = sns.barplot(x='Churn', y='Count', data=churn_data, palette=['#66b3ff', '#ff9999'])\n",
        "\n",
        "# Add titles and labels\n",
        "plt.title('Customer Churn Distribution', fontsize=14)\n",
        "plt.xlabel('Churn Status', fontsize=12)\n",
        "plt.ylabel('Number of Customers', fontsize=12)\n",
        "plt.xticks(ticks=[0, 1], labels=['No Churn', 'Churn'])\n",
        "\n",
        "# Add count and percentage labels on top of bars\n",
        "for index, row in churn_data.iterrows():\n",
        "    barplot.text(\n",
        "        index,\n",
        "        row['Count'] + 50,  # Adjust vertical position\n",
        "        f\"{row['Count']} ({row['Percentage']:.1f}%)\",\n",
        "        color='black',\n",
        "        ha=\"center\"\n",
        "    )\n",
        "\n",
        "# Improve layout and display\n",
        "plt.ylim(0, churn_data['Count'].max() * 1.15) # Adjust y-limit to make space for labels\n",
        "plt.tight_layout()\n",
        "plt.show()"
      ]
    },
    {
      "cell_type": "markdown",
      "metadata": {
        "id": "5a1945d4"
      },
      "source": [
        "## 1. Descripción del Problema\n",
        "\n",
        "Se ha identificado una tasa de evasión de clientes del **25%** durante el último periodo analizado. Esto implica que **uno de cada cuatro clientes abandona el servicio o deja de comprar** en un ciclo determinado.\n",
        "\n",
        "Esta cifra se considera **significativamente alta** en la mayoría de sectores, y en particular en el de las telecomunicaciones, donde la adquisición de nuevos clientes suele ser más costosa que la retención de los existentes. Una tasa de evasión del 25% puede tener un **impacto negativo considerable** en los ingresos, la rentabilidad y el crecimiento a largo plazo de TelecomX si no se aborda de manera efectiva. Mantener una tasa de evasión elevada requiere una inversión constante y sustancial en la adquisición de nuevos usuarios solo para mantener la base de clientes actual, sin generar un crecimiento real."
      ],
      "id": "5a1945d4"
    },
    {
      "cell_type": "markdown",
      "id": "e00f221f",
      "metadata": {
        "id": "e00f221f"
      },
      "source": [
        "## Recuento de evasión por variables categóricas"
      ]
    },
    {
      "cell_type": "code",
      "execution_count": 12,
      "id": "754bc676",
      "metadata": {
        "colab": {
          "base_uri": "https://localhost:8080/"
        },
        "id": "754bc676",
        "outputId": "bfe9609b-0b37-4920-800e-b2e4c1666d8b"
      },
      "outputs": [
        {
          "output_type": "stream",
          "name": "stdout",
          "text": [
            "Evasión por genero:\n",
            "Churn          No  Yes\n",
            "gender                \n",
            "Female  104  2549  939\n",
            "Male    120  2625  930\n",
            "\n",
            "Evasión por tipo de contrato:\n",
            "Churn                  No   Yes\n",
            "Contract                       \n",
            "Month-to-month  130  2220  1655\n",
            "One year         46  1307   166\n",
            "Two year         48  1647    48\n",
            "\n",
            "Evasión por metodo de pago:\n",
            "Churn                            No   Yes\n",
            "PaymentMethod                            \n",
            "Bank transfer (automatic)  45  1286   258\n",
            "Credit card (automatic)    46  1290   232\n",
            "Electronic check           80  1294  1071\n",
            "Mailed check               53  1304   308\n",
            "\n",
            "Evasión por tipo de servicio de internet:\n",
            "Churn                   No   Yes\n",
            "InternetService                 \n",
            "DSL               67  1962   459\n",
            "Fiber optic      102  1799  1297\n",
            "No                55  1413   113\n"
          ]
        }
      ],
      "source": [
        "# Calculate churn counts by gender\n",
        "conteo_gender = data.groupby(['gender', 'Churn']).size().unstack(fill_value=0)\n",
        "\n",
        "# Calculate churn counts by contract type\n",
        "conteo_contract = data.groupby(['Contract', 'Churn']).size().unstack(fill_value=0)\n",
        "\n",
        "# Calculate churn counts by payment method\n",
        "conteo_payment = data.groupby(['PaymentMethod', 'Churn']).size().unstack(fill_value=0)\n",
        "\n",
        "# Calculate churn counts by internet service type\n",
        "conteo_internet = data.groupby(['InternetService', 'Churn']).size().unstack(fill_value=0)\n",
        "\n",
        "\n",
        "# Print the churn counts for each categorical variable\n",
        "print(\"Evasión por genero:\")\n",
        "print(conteo_gender)\n",
        "print(\"\\nEvasión por tipo de contrato:\")\n",
        "print(conteo_contract)\n",
        "print(\"\\nEvasión por metodo de pago:\")\n",
        "print(conteo_payment)\n",
        "print(\"\\nEvasión por tipo de servicio de internet:\")\n",
        "print(conteo_internet)"
      ]
    },
    {
      "cell_type": "code",
      "execution_count": 14,
      "id": "4ad05647",
      "metadata": {
        "colab": {
          "base_uri": "https://localhost:8080/",
          "height": 770
        },
        "id": "4ad05647",
        "outputId": "6f87cc78-7474-4fa1-f485-ba343a48e6ee"
      },
      "outputs": [
        {
          "output_type": "stream",
          "name": "stdout",
          "text": [
            "Churn Rate by Gender:\n"
          ]
        },
        {
          "output_type": "display_data",
          "data": {
            "text/plain": [
              "        Total  Churned  Churn Rate (%)\n",
              "gender                                \n",
              "Female   3592      NaN             0.0\n",
              "Male     3675      NaN             0.0"
            ],
            "text/html": [
              "\n",
              "  <div id=\"df-9f665f7e-dc16-4a49-950f-3149085180c8\" class=\"colab-df-container\">\n",
              "    <div>\n",
              "<style scoped>\n",
              "    .dataframe tbody tr th:only-of-type {\n",
              "        vertical-align: middle;\n",
              "    }\n",
              "\n",
              "    .dataframe tbody tr th {\n",
              "        vertical-align: top;\n",
              "    }\n",
              "\n",
              "    .dataframe thead th {\n",
              "        text-align: right;\n",
              "    }\n",
              "</style>\n",
              "<table border=\"1\" class=\"dataframe\">\n",
              "  <thead>\n",
              "    <tr style=\"text-align: right;\">\n",
              "      <th></th>\n",
              "      <th>Total</th>\n",
              "      <th>Churned</th>\n",
              "      <th>Churn Rate (%)</th>\n",
              "    </tr>\n",
              "    <tr>\n",
              "      <th>gender</th>\n",
              "      <th></th>\n",
              "      <th></th>\n",
              "      <th></th>\n",
              "    </tr>\n",
              "  </thead>\n",
              "  <tbody>\n",
              "    <tr>\n",
              "      <th>Female</th>\n",
              "      <td>3592</td>\n",
              "      <td>NaN</td>\n",
              "      <td>0.0</td>\n",
              "    </tr>\n",
              "    <tr>\n",
              "      <th>Male</th>\n",
              "      <td>3675</td>\n",
              "      <td>NaN</td>\n",
              "      <td>0.0</td>\n",
              "    </tr>\n",
              "  </tbody>\n",
              "</table>\n",
              "</div>\n",
              "    <div class=\"colab-df-buttons\">\n",
              "\n",
              "  <div class=\"colab-df-container\">\n",
              "    <button class=\"colab-df-convert\" onclick=\"convertToInteractive('df-9f665f7e-dc16-4a49-950f-3149085180c8')\"\n",
              "            title=\"Convert this dataframe to an interactive table.\"\n",
              "            style=\"display:none;\">\n",
              "\n",
              "  <svg xmlns=\"http://www.w3.org/2000/svg\" height=\"24px\" viewBox=\"0 -960 960 960\">\n",
              "    <path d=\"M120-120v-720h720v720H120Zm60-500h600v-160H180v160Zm220 220h160v-160H400v160Zm0 220h160v-160H400v160ZM180-400h160v-160H180v160Zm440 0h160v-160H620v160ZM180-180h160v-160H180v160Zm440 0h160v-160H620v160Z\"/>\n",
              "  </svg>\n",
              "    </button>\n",
              "\n",
              "  <style>\n",
              "    .colab-df-container {\n",
              "      display:flex;\n",
              "      gap: 12px;\n",
              "    }\n",
              "\n",
              "    .colab-df-convert {\n",
              "      background-color: #E8F0FE;\n",
              "      border: none;\n",
              "      border-radius: 50%;\n",
              "      cursor: pointer;\n",
              "      display: none;\n",
              "      fill: #1967D2;\n",
              "      height: 32px;\n",
              "      padding: 0 0 0 0;\n",
              "      width: 32px;\n",
              "    }\n",
              "\n",
              "    .colab-df-convert:hover {\n",
              "      background-color: #E2EBFA;\n",
              "      box-shadow: 0px 1px 2px rgba(60, 64, 67, 0.3), 0px 1px 3px 1px rgba(60, 64, 67, 0.15);\n",
              "      fill: #174EA6;\n",
              "    }\n",
              "\n",
              "    .colab-df-buttons div {\n",
              "      margin-bottom: 4px;\n",
              "    }\n",
              "\n",
              "    [theme=dark] .colab-df-convert {\n",
              "      background-color: #3B4455;\n",
              "      fill: #D2E3FC;\n",
              "    }\n",
              "\n",
              "    [theme=dark] .colab-df-convert:hover {\n",
              "      background-color: #434B5C;\n",
              "      box-shadow: 0px 1px 3px 1px rgba(0, 0, 0, 0.15);\n",
              "      filter: drop-shadow(0px 1px 2px rgba(0, 0, 0, 0.3));\n",
              "      fill: #FFFFFF;\n",
              "    }\n",
              "  </style>\n",
              "\n",
              "    <script>\n",
              "      const buttonEl =\n",
              "        document.querySelector('#df-9f665f7e-dc16-4a49-950f-3149085180c8 button.colab-df-convert');\n",
              "      buttonEl.style.display =\n",
              "        google.colab.kernel.accessAllowed ? 'block' : 'none';\n",
              "\n",
              "      async function convertToInteractive(key) {\n",
              "        const element = document.querySelector('#df-9f665f7e-dc16-4a49-950f-3149085180c8');\n",
              "        const dataTable =\n",
              "          await google.colab.kernel.invokeFunction('convertToInteractive',\n",
              "                                                    [key], {});\n",
              "        if (!dataTable) return;\n",
              "\n",
              "        const docLinkHtml = 'Like what you see? Visit the ' +\n",
              "          '<a target=\"_blank\" href=https://colab.research.google.com/notebooks/data_table.ipynb>data table notebook</a>'\n",
              "          + ' to learn more about interactive tables.';\n",
              "        element.innerHTML = '';\n",
              "        dataTable['output_type'] = 'display_data';\n",
              "        await google.colab.output.renderOutput(dataTable, element);\n",
              "        const docLink = document.createElement('div');\n",
              "        docLink.innerHTML = docLinkHtml;\n",
              "        element.appendChild(docLink);\n",
              "      }\n",
              "    </script>\n",
              "  </div>\n",
              "\n",
              "\n",
              "    <div id=\"df-ca5adc41-7e8a-443d-8fa8-4fff8c706625\">\n",
              "      <button class=\"colab-df-quickchart\" onclick=\"quickchart('df-ca5adc41-7e8a-443d-8fa8-4fff8c706625')\"\n",
              "                title=\"Suggest charts\"\n",
              "                style=\"display:none;\">\n",
              "\n",
              "<svg xmlns=\"http://www.w3.org/2000/svg\" height=\"24px\"viewBox=\"0 0 24 24\"\n",
              "     width=\"24px\">\n",
              "    <g>\n",
              "        <path d=\"M19 3H5c-1.1 0-2 .9-2 2v14c0 1.1.9 2 2 2h14c1.1 0 2-.9 2-2V5c0-1.1-.9-2-2-2zM9 17H7v-7h2v7zm4 0h-2V7h2v10zm4 0h-2v-4h2v4z\"/>\n",
              "    </g>\n",
              "</svg>\n",
              "      </button>\n",
              "\n",
              "<style>\n",
              "  .colab-df-quickchart {\n",
              "      --bg-color: #E8F0FE;\n",
              "      --fill-color: #1967D2;\n",
              "      --hover-bg-color: #E2EBFA;\n",
              "      --hover-fill-color: #174EA6;\n",
              "      --disabled-fill-color: #AAA;\n",
              "      --disabled-bg-color: #DDD;\n",
              "  }\n",
              "\n",
              "  [theme=dark] .colab-df-quickchart {\n",
              "      --bg-color: #3B4455;\n",
              "      --fill-color: #D2E3FC;\n",
              "      --hover-bg-color: #434B5C;\n",
              "      --hover-fill-color: #FFFFFF;\n",
              "      --disabled-bg-color: #3B4455;\n",
              "      --disabled-fill-color: #666;\n",
              "  }\n",
              "\n",
              "  .colab-df-quickchart {\n",
              "    background-color: var(--bg-color);\n",
              "    border: none;\n",
              "    border-radius: 50%;\n",
              "    cursor: pointer;\n",
              "    display: none;\n",
              "    fill: var(--fill-color);\n",
              "    height: 32px;\n",
              "    padding: 0;\n",
              "    width: 32px;\n",
              "  }\n",
              "\n",
              "  .colab-df-quickchart:hover {\n",
              "    background-color: var(--hover-bg-color);\n",
              "    box-shadow: 0 1px 2px rgba(60, 64, 67, 0.3), 0 1px 3px 1px rgba(60, 64, 67, 0.15);\n",
              "    fill: var(--button-hover-fill-color);\n",
              "  }\n",
              "\n",
              "  .colab-df-quickchart-complete:disabled,\n",
              "  .colab-df-quickchart-complete:disabled:hover {\n",
              "    background-color: var(--disabled-bg-color);\n",
              "    fill: var(--disabled-fill-color);\n",
              "    box-shadow: none;\n",
              "  }\n",
              "\n",
              "  .colab-df-spinner {\n",
              "    border: 2px solid var(--fill-color);\n",
              "    border-color: transparent;\n",
              "    border-bottom-color: var(--fill-color);\n",
              "    animation:\n",
              "      spin 1s steps(1) infinite;\n",
              "  }\n",
              "\n",
              "  @keyframes spin {\n",
              "    0% {\n",
              "      border-color: transparent;\n",
              "      border-bottom-color: var(--fill-color);\n",
              "      border-left-color: var(--fill-color);\n",
              "    }\n",
              "    20% {\n",
              "      border-color: transparent;\n",
              "      border-left-color: var(--fill-color);\n",
              "      border-top-color: var(--fill-color);\n",
              "    }\n",
              "    30% {\n",
              "      border-color: transparent;\n",
              "      border-left-color: var(--fill-color);\n",
              "      border-top-color: var(--fill-color);\n",
              "      border-right-color: var(--fill-color);\n",
              "    }\n",
              "    40% {\n",
              "      border-color: transparent;\n",
              "      border-right-color: var(--fill-color);\n",
              "      border-top-color: var(--fill-color);\n",
              "    }\n",
              "    60% {\n",
              "      border-color: transparent;\n",
              "      border-right-color: var(--fill-color);\n",
              "    }\n",
              "    80% {\n",
              "      border-color: transparent;\n",
              "      border-right-color: var(--fill-color);\n",
              "      border-bottom-color: var(--fill-color);\n",
              "    }\n",
              "    90% {\n",
              "      border-color: transparent;\n",
              "      border-bottom-color: var(--fill-color);\n",
              "    }\n",
              "  }\n",
              "</style>\n",
              "\n",
              "      <script>\n",
              "        async function quickchart(key) {\n",
              "          const quickchartButtonEl =\n",
              "            document.querySelector('#' + key + ' button');\n",
              "          quickchartButtonEl.disabled = true;  // To prevent multiple clicks.\n",
              "          quickchartButtonEl.classList.add('colab-df-spinner');\n",
              "          try {\n",
              "            const charts = await google.colab.kernel.invokeFunction(\n",
              "                'suggestCharts', [key], {});\n",
              "          } catch (error) {\n",
              "            console.error('Error during call to suggestCharts:', error);\n",
              "          }\n",
              "          quickchartButtonEl.classList.remove('colab-df-spinner');\n",
              "          quickchartButtonEl.classList.add('colab-df-quickchart-complete');\n",
              "        }\n",
              "        (() => {\n",
              "          let quickchartButtonEl =\n",
              "            document.querySelector('#df-ca5adc41-7e8a-443d-8fa8-4fff8c706625 button');\n",
              "          quickchartButtonEl.style.display =\n",
              "            google.colab.kernel.accessAllowed ? 'block' : 'none';\n",
              "        })();\n",
              "      </script>\n",
              "    </div>\n",
              "\n",
              "    </div>\n",
              "  </div>\n"
            ],
            "application/vnd.google.colaboratory.intrinsic+json": {
              "type": "dataframe",
              "summary": "{\n  \"name\": \"display(calculate_churn_rate(data, 'InternetService'))\",\n  \"rows\": 2,\n  \"fields\": [\n    {\n      \"column\": \"gender\",\n      \"properties\": {\n        \"dtype\": \"string\",\n        \"num_unique_values\": 2,\n        \"samples\": [\n          \"Male\",\n          \"Female\"\n        ],\n        \"semantic_type\": \"\",\n        \"description\": \"\"\n      }\n    },\n    {\n      \"column\": \"Total\",\n      \"properties\": {\n        \"dtype\": \"number\",\n        \"std\": 58,\n        \"min\": 3592,\n        \"max\": 3675,\n        \"num_unique_values\": 2,\n        \"samples\": [\n          3675,\n          3592\n        ],\n        \"semantic_type\": \"\",\n        \"description\": \"\"\n      }\n    },\n    {\n      \"column\": \"Churned\",\n      \"properties\": {\n        \"dtype\": \"number\",\n        \"std\": null,\n        \"min\": null,\n        \"max\": null,\n        \"num_unique_values\": 0,\n        \"samples\": [],\n        \"semantic_type\": \"\",\n        \"description\": \"\"\n      }\n    },\n    {\n      \"column\": \"Churn Rate (%)\",\n      \"properties\": {\n        \"dtype\": \"number\",\n        \"std\": 0.0,\n        \"min\": 0.0,\n        \"max\": 0.0,\n        \"num_unique_values\": 1,\n        \"samples\": [],\n        \"semantic_type\": \"\",\n        \"description\": \"\"\n      }\n    }\n  ]\n}"
            }
          },
          "metadata": {}
        },
        {
          "output_type": "stream",
          "name": "stdout",
          "text": [
            "\n",
            "Churn Rate by Contract Type:\n"
          ]
        },
        {
          "output_type": "display_data",
          "data": {
            "text/plain": [
              "                Total  Churned  Churn Rate (%)\n",
              "Contract                                      \n",
              "Month-to-month   4005      NaN             0.0\n",
              "One year         1519      NaN             0.0\n",
              "Two year         1743      NaN             0.0"
            ],
            "text/html": [
              "\n",
              "  <div id=\"df-53ccafdb-65c7-4690-a051-dce1dd74c612\" class=\"colab-df-container\">\n",
              "    <div>\n",
              "<style scoped>\n",
              "    .dataframe tbody tr th:only-of-type {\n",
              "        vertical-align: middle;\n",
              "    }\n",
              "\n",
              "    .dataframe tbody tr th {\n",
              "        vertical-align: top;\n",
              "    }\n",
              "\n",
              "    .dataframe thead th {\n",
              "        text-align: right;\n",
              "    }\n",
              "</style>\n",
              "<table border=\"1\" class=\"dataframe\">\n",
              "  <thead>\n",
              "    <tr style=\"text-align: right;\">\n",
              "      <th></th>\n",
              "      <th>Total</th>\n",
              "      <th>Churned</th>\n",
              "      <th>Churn Rate (%)</th>\n",
              "    </tr>\n",
              "    <tr>\n",
              "      <th>Contract</th>\n",
              "      <th></th>\n",
              "      <th></th>\n",
              "      <th></th>\n",
              "    </tr>\n",
              "  </thead>\n",
              "  <tbody>\n",
              "    <tr>\n",
              "      <th>Month-to-month</th>\n",
              "      <td>4005</td>\n",
              "      <td>NaN</td>\n",
              "      <td>0.0</td>\n",
              "    </tr>\n",
              "    <tr>\n",
              "      <th>One year</th>\n",
              "      <td>1519</td>\n",
              "      <td>NaN</td>\n",
              "      <td>0.0</td>\n",
              "    </tr>\n",
              "    <tr>\n",
              "      <th>Two year</th>\n",
              "      <td>1743</td>\n",
              "      <td>NaN</td>\n",
              "      <td>0.0</td>\n",
              "    </tr>\n",
              "  </tbody>\n",
              "</table>\n",
              "</div>\n",
              "    <div class=\"colab-df-buttons\">\n",
              "\n",
              "  <div class=\"colab-df-container\">\n",
              "    <button class=\"colab-df-convert\" onclick=\"convertToInteractive('df-53ccafdb-65c7-4690-a051-dce1dd74c612')\"\n",
              "            title=\"Convert this dataframe to an interactive table.\"\n",
              "            style=\"display:none;\">\n",
              "\n",
              "  <svg xmlns=\"http://www.w3.org/2000/svg\" height=\"24px\" viewBox=\"0 -960 960 960\">\n",
              "    <path d=\"M120-120v-720h720v720H120Zm60-500h600v-160H180v160Zm220 220h160v-160H400v160Zm0 220h160v-160H400v160ZM180-400h160v-160H180v160Zm440 0h160v-160H620v160ZM180-180h160v-160H180v160Zm440 0h160v-160H620v160Z\"/>\n",
              "  </svg>\n",
              "    </button>\n",
              "\n",
              "  <style>\n",
              "    .colab-df-container {\n",
              "      display:flex;\n",
              "      gap: 12px;\n",
              "    }\n",
              "\n",
              "    .colab-df-convert {\n",
              "      background-color: #E8F0FE;\n",
              "      border: none;\n",
              "      border-radius: 50%;\n",
              "      cursor: pointer;\n",
              "      display: none;\n",
              "      fill: #1967D2;\n",
              "      height: 32px;\n",
              "      padding: 0 0 0 0;\n",
              "      width: 32px;\n",
              "    }\n",
              "\n",
              "    .colab-df-convert:hover {\n",
              "      background-color: #E2EBFA;\n",
              "      box-shadow: 0px 1px 2px rgba(60, 64, 67, 0.3), 0px 1px 3px 1px rgba(60, 64, 67, 0.15);\n",
              "      fill: #174EA6;\n",
              "    }\n",
              "\n",
              "    .colab-df-buttons div {\n",
              "      margin-bottom: 4px;\n",
              "    }\n",
              "\n",
              "    [theme=dark] .colab-df-convert {\n",
              "      background-color: #3B4455;\n",
              "      fill: #D2E3FC;\n",
              "    }\n",
              "\n",
              "    [theme=dark] .colab-df-convert:hover {\n",
              "      background-color: #434B5C;\n",
              "      box-shadow: 0px 1px 3px 1px rgba(0, 0, 0, 0.15);\n",
              "      filter: drop-shadow(0px 1px 2px rgba(0, 0, 0, 0.3));\n",
              "      fill: #FFFFFF;\n",
              "    }\n",
              "  </style>\n",
              "\n",
              "    <script>\n",
              "      const buttonEl =\n",
              "        document.querySelector('#df-53ccafdb-65c7-4690-a051-dce1dd74c612 button.colab-df-convert');\n",
              "      buttonEl.style.display =\n",
              "        google.colab.kernel.accessAllowed ? 'block' : 'none';\n",
              "\n",
              "      async function convertToInteractive(key) {\n",
              "        const element = document.querySelector('#df-53ccafdb-65c7-4690-a051-dce1dd74c612');\n",
              "        const dataTable =\n",
              "          await google.colab.kernel.invokeFunction('convertToInteractive',\n",
              "                                                    [key], {});\n",
              "        if (!dataTable) return;\n",
              "\n",
              "        const docLinkHtml = 'Like what you see? Visit the ' +\n",
              "          '<a target=\"_blank\" href=https://colab.research.google.com/notebooks/data_table.ipynb>data table notebook</a>'\n",
              "          + ' to learn more about interactive tables.';\n",
              "        element.innerHTML = '';\n",
              "        dataTable['output_type'] = 'display_data';\n",
              "        await google.colab.output.renderOutput(dataTable, element);\n",
              "        const docLink = document.createElement('div');\n",
              "        docLink.innerHTML = docLinkHtml;\n",
              "        element.appendChild(docLink);\n",
              "      }\n",
              "    </script>\n",
              "  </div>\n",
              "\n",
              "\n",
              "    <div id=\"df-cbbf69f1-bd96-436f-b078-63fe36f8e228\">\n",
              "      <button class=\"colab-df-quickchart\" onclick=\"quickchart('df-cbbf69f1-bd96-436f-b078-63fe36f8e228')\"\n",
              "                title=\"Suggest charts\"\n",
              "                style=\"display:none;\">\n",
              "\n",
              "<svg xmlns=\"http://www.w3.org/2000/svg\" height=\"24px\"viewBox=\"0 0 24 24\"\n",
              "     width=\"24px\">\n",
              "    <g>\n",
              "        <path d=\"M19 3H5c-1.1 0-2 .9-2 2v14c0 1.1.9 2 2 2h14c1.1 0 2-.9 2-2V5c0-1.1-.9-2-2-2zM9 17H7v-7h2v7zm4 0h-2V7h2v10zm4 0h-2v-4h2v4z\"/>\n",
              "    </g>\n",
              "</svg>\n",
              "      </button>\n",
              "\n",
              "<style>\n",
              "  .colab-df-quickchart {\n",
              "      --bg-color: #E8F0FE;\n",
              "      --fill-color: #1967D2;\n",
              "      --hover-bg-color: #E2EBFA;\n",
              "      --hover-fill-color: #174EA6;\n",
              "      --disabled-fill-color: #AAA;\n",
              "      --disabled-bg-color: #DDD;\n",
              "  }\n",
              "\n",
              "  [theme=dark] .colab-df-quickchart {\n",
              "      --bg-color: #3B4455;\n",
              "      --fill-color: #D2E3FC;\n",
              "      --hover-bg-color: #434B5C;\n",
              "      --hover-fill-color: #FFFFFF;\n",
              "      --disabled-bg-color: #3B4455;\n",
              "      --disabled-fill-color: #666;\n",
              "  }\n",
              "\n",
              "  .colab-df-quickchart {\n",
              "    background-color: var(--bg-color);\n",
              "    border: none;\n",
              "    border-radius: 50%;\n",
              "    cursor: pointer;\n",
              "    display: none;\n",
              "    fill: var(--fill-color);\n",
              "    height: 32px;\n",
              "    padding: 0;\n",
              "    width: 32px;\n",
              "  }\n",
              "\n",
              "  .colab-df-quickchart:hover {\n",
              "    background-color: var(--hover-bg-color);\n",
              "    box-shadow: 0 1px 2px rgba(60, 64, 67, 0.3), 0 1px 3px 1px rgba(60, 64, 67, 0.15);\n",
              "    fill: var(--button-hover-fill-color);\n",
              "  }\n",
              "\n",
              "  .colab-df-quickchart-complete:disabled,\n",
              "  .colab-df-quickchart-complete:disabled:hover {\n",
              "    background-color: var(--disabled-bg-color);\n",
              "    fill: var(--disabled-fill-color);\n",
              "    box-shadow: none;\n",
              "  }\n",
              "\n",
              "  .colab-df-spinner {\n",
              "    border: 2px solid var(--fill-color);\n",
              "    border-color: transparent;\n",
              "    border-bottom-color: var(--fill-color);\n",
              "    animation:\n",
              "      spin 1s steps(1) infinite;\n",
              "  }\n",
              "\n",
              "  @keyframes spin {\n",
              "    0% {\n",
              "      border-color: transparent;\n",
              "      border-bottom-color: var(--fill-color);\n",
              "      border-left-color: var(--fill-color);\n",
              "    }\n",
              "    20% {\n",
              "      border-color: transparent;\n",
              "      border-left-color: var(--fill-color);\n",
              "      border-top-color: var(--fill-color);\n",
              "    }\n",
              "    30% {\n",
              "      border-color: transparent;\n",
              "      border-left-color: var(--fill-color);\n",
              "      border-top-color: var(--fill-color);\n",
              "      border-right-color: var(--fill-color);\n",
              "    }\n",
              "    40% {\n",
              "      border-color: transparent;\n",
              "      border-right-color: var(--fill-color);\n",
              "      border-top-color: var(--fill-color);\n",
              "    }\n",
              "    60% {\n",
              "      border-color: transparent;\n",
              "      border-right-color: var(--fill-color);\n",
              "    }\n",
              "    80% {\n",
              "      border-color: transparent;\n",
              "      border-right-color: var(--fill-color);\n",
              "      border-bottom-color: var(--fill-color);\n",
              "    }\n",
              "    90% {\n",
              "      border-color: transparent;\n",
              "      border-bottom-color: var(--fill-color);\n",
              "    }\n",
              "  }\n",
              "</style>\n",
              "\n",
              "      <script>\n",
              "        async function quickchart(key) {\n",
              "          const quickchartButtonEl =\n",
              "            document.querySelector('#' + key + ' button');\n",
              "          quickchartButtonEl.disabled = true;  // To prevent multiple clicks.\n",
              "          quickchartButtonEl.classList.add('colab-df-spinner');\n",
              "          try {\n",
              "            const charts = await google.colab.kernel.invokeFunction(\n",
              "                'suggestCharts', [key], {});\n",
              "          } catch (error) {\n",
              "            console.error('Error during call to suggestCharts:', error);\n",
              "          }\n",
              "          quickchartButtonEl.classList.remove('colab-df-spinner');\n",
              "          quickchartButtonEl.classList.add('colab-df-quickchart-complete');\n",
              "        }\n",
              "        (() => {\n",
              "          let quickchartButtonEl =\n",
              "            document.querySelector('#df-cbbf69f1-bd96-436f-b078-63fe36f8e228 button');\n",
              "          quickchartButtonEl.style.display =\n",
              "            google.colab.kernel.accessAllowed ? 'block' : 'none';\n",
              "        })();\n",
              "      </script>\n",
              "    </div>\n",
              "\n",
              "    </div>\n",
              "  </div>\n"
            ],
            "application/vnd.google.colaboratory.intrinsic+json": {
              "type": "dataframe",
              "summary": "{\n  \"name\": \"display(calculate_churn_rate(data, 'InternetService'))\",\n  \"rows\": 3,\n  \"fields\": [\n    {\n      \"column\": \"Contract\",\n      \"properties\": {\n        \"dtype\": \"string\",\n        \"num_unique_values\": 3,\n        \"samples\": [\n          \"Month-to-month\",\n          \"One year\",\n          \"Two year\"\n        ],\n        \"semantic_type\": \"\",\n        \"description\": \"\"\n      }\n    },\n    {\n      \"column\": \"Total\",\n      \"properties\": {\n        \"dtype\": \"number\",\n        \"std\": 1375,\n        \"min\": 1519,\n        \"max\": 4005,\n        \"num_unique_values\": 3,\n        \"samples\": [\n          4005,\n          1519,\n          1743\n        ],\n        \"semantic_type\": \"\",\n        \"description\": \"\"\n      }\n    },\n    {\n      \"column\": \"Churned\",\n      \"properties\": {\n        \"dtype\": \"number\",\n        \"std\": null,\n        \"min\": null,\n        \"max\": null,\n        \"num_unique_values\": 0,\n        \"samples\": [],\n        \"semantic_type\": \"\",\n        \"description\": \"\"\n      }\n    },\n    {\n      \"column\": \"Churn Rate (%)\",\n      \"properties\": {\n        \"dtype\": \"number\",\n        \"std\": 0.0,\n        \"min\": 0.0,\n        \"max\": 0.0,\n        \"num_unique_values\": 1,\n        \"samples\": [],\n        \"semantic_type\": \"\",\n        \"description\": \"\"\n      }\n    }\n  ]\n}"
            }
          },
          "metadata": {}
        },
        {
          "output_type": "stream",
          "name": "stdout",
          "text": [
            "\n",
            "Churn Rate by Payment Method:\n"
          ]
        },
        {
          "output_type": "display_data",
          "data": {
            "text/plain": [
              "                           Total  Churned  Churn Rate (%)\n",
              "PaymentMethod                                            \n",
              "Bank transfer (automatic)   1589      NaN             0.0\n",
              "Credit card (automatic)     1568      NaN             0.0\n",
              "Electronic check            2445      NaN             0.0\n",
              "Mailed check                1665      NaN             0.0"
            ],
            "text/html": [
              "\n",
              "  <div id=\"df-a3193507-6e1d-4072-a1ef-b97fcd9d732e\" class=\"colab-df-container\">\n",
              "    <div>\n",
              "<style scoped>\n",
              "    .dataframe tbody tr th:only-of-type {\n",
              "        vertical-align: middle;\n",
              "    }\n",
              "\n",
              "    .dataframe tbody tr th {\n",
              "        vertical-align: top;\n",
              "    }\n",
              "\n",
              "    .dataframe thead th {\n",
              "        text-align: right;\n",
              "    }\n",
              "</style>\n",
              "<table border=\"1\" class=\"dataframe\">\n",
              "  <thead>\n",
              "    <tr style=\"text-align: right;\">\n",
              "      <th></th>\n",
              "      <th>Total</th>\n",
              "      <th>Churned</th>\n",
              "      <th>Churn Rate (%)</th>\n",
              "    </tr>\n",
              "    <tr>\n",
              "      <th>PaymentMethod</th>\n",
              "      <th></th>\n",
              "      <th></th>\n",
              "      <th></th>\n",
              "    </tr>\n",
              "  </thead>\n",
              "  <tbody>\n",
              "    <tr>\n",
              "      <th>Bank transfer (automatic)</th>\n",
              "      <td>1589</td>\n",
              "      <td>NaN</td>\n",
              "      <td>0.0</td>\n",
              "    </tr>\n",
              "    <tr>\n",
              "      <th>Credit card (automatic)</th>\n",
              "      <td>1568</td>\n",
              "      <td>NaN</td>\n",
              "      <td>0.0</td>\n",
              "    </tr>\n",
              "    <tr>\n",
              "      <th>Electronic check</th>\n",
              "      <td>2445</td>\n",
              "      <td>NaN</td>\n",
              "      <td>0.0</td>\n",
              "    </tr>\n",
              "    <tr>\n",
              "      <th>Mailed check</th>\n",
              "      <td>1665</td>\n",
              "      <td>NaN</td>\n",
              "      <td>0.0</td>\n",
              "    </tr>\n",
              "  </tbody>\n",
              "</table>\n",
              "</div>\n",
              "    <div class=\"colab-df-buttons\">\n",
              "\n",
              "  <div class=\"colab-df-container\">\n",
              "    <button class=\"colab-df-convert\" onclick=\"convertToInteractive('df-a3193507-6e1d-4072-a1ef-b97fcd9d732e')\"\n",
              "            title=\"Convert this dataframe to an interactive table.\"\n",
              "            style=\"display:none;\">\n",
              "\n",
              "  <svg xmlns=\"http://www.w3.org/2000/svg\" height=\"24px\" viewBox=\"0 -960 960 960\">\n",
              "    <path d=\"M120-120v-720h720v720H120Zm60-500h600v-160H180v160Zm220 220h160v-160H400v160Zm0 220h160v-160H400v160ZM180-400h160v-160H180v160Zm440 0h160v-160H620v160ZM180-180h160v-160H180v160Zm440 0h160v-160H620v160Z\"/>\n",
              "  </svg>\n",
              "    </button>\n",
              "\n",
              "  <style>\n",
              "    .colab-df-container {\n",
              "      display:flex;\n",
              "      gap: 12px;\n",
              "    }\n",
              "\n",
              "    .colab-df-convert {\n",
              "      background-color: #E8F0FE;\n",
              "      border: none;\n",
              "      border-radius: 50%;\n",
              "      cursor: pointer;\n",
              "      display: none;\n",
              "      fill: #1967D2;\n",
              "      height: 32px;\n",
              "      padding: 0 0 0 0;\n",
              "      width: 32px;\n",
              "    }\n",
              "\n",
              "    .colab-df-convert:hover {\n",
              "      background-color: #E2EBFA;\n",
              "      box-shadow: 0px 1px 2px rgba(60, 64, 67, 0.3), 0px 1px 3px 1px rgba(60, 64, 67, 0.15);\n",
              "      fill: #174EA6;\n",
              "    }\n",
              "\n",
              "    .colab-df-buttons div {\n",
              "      margin-bottom: 4px;\n",
              "    }\n",
              "\n",
              "    [theme=dark] .colab-df-convert {\n",
              "      background-color: #3B4455;\n",
              "      fill: #D2E3FC;\n",
              "    }\n",
              "\n",
              "    [theme=dark] .colab-df-convert:hover {\n",
              "      background-color: #434B5C;\n",
              "      box-shadow: 0px 1px 3px 1px rgba(0, 0, 0, 0.15);\n",
              "      filter: drop-shadow(0px 1px 2px rgba(0, 0, 0, 0.3));\n",
              "      fill: #FFFFFF;\n",
              "    }\n",
              "  </style>\n",
              "\n",
              "    <script>\n",
              "      const buttonEl =\n",
              "        document.querySelector('#df-a3193507-6e1d-4072-a1ef-b97fcd9d732e button.colab-df-convert');\n",
              "      buttonEl.style.display =\n",
              "        google.colab.kernel.accessAllowed ? 'block' : 'none';\n",
              "\n",
              "      async function convertToInteractive(key) {\n",
              "        const element = document.querySelector('#df-a3193507-6e1d-4072-a1ef-b97fcd9d732e');\n",
              "        const dataTable =\n",
              "          await google.colab.kernel.invokeFunction('convertToInteractive',\n",
              "                                                    [key], {});\n",
              "        if (!dataTable) return;\n",
              "\n",
              "        const docLinkHtml = 'Like what you see? Visit the ' +\n",
              "          '<a target=\"_blank\" href=https://colab.research.google.com/notebooks/data_table.ipynb>data table notebook</a>'\n",
              "          + ' to learn more about interactive tables.';\n",
              "        element.innerHTML = '';\n",
              "        dataTable['output_type'] = 'display_data';\n",
              "        await google.colab.output.renderOutput(dataTable, element);\n",
              "        const docLink = document.createElement('div');\n",
              "        docLink.innerHTML = docLinkHtml;\n",
              "        element.appendChild(docLink);\n",
              "      }\n",
              "    </script>\n",
              "  </div>\n",
              "\n",
              "\n",
              "    <div id=\"df-e7da4cda-b501-4a87-b403-3fe37e56dd46\">\n",
              "      <button class=\"colab-df-quickchart\" onclick=\"quickchart('df-e7da4cda-b501-4a87-b403-3fe37e56dd46')\"\n",
              "                title=\"Suggest charts\"\n",
              "                style=\"display:none;\">\n",
              "\n",
              "<svg xmlns=\"http://www.w3.org/2000/svg\" height=\"24px\"viewBox=\"0 0 24 24\"\n",
              "     width=\"24px\">\n",
              "    <g>\n",
              "        <path d=\"M19 3H5c-1.1 0-2 .9-2 2v14c0 1.1.9 2 2 2h14c1.1 0 2-.9 2-2V5c0-1.1-.9-2-2-2zM9 17H7v-7h2v7zm4 0h-2V7h2v10zm4 0h-2v-4h2v4z\"/>\n",
              "    </g>\n",
              "</svg>\n",
              "      </button>\n",
              "\n",
              "<style>\n",
              "  .colab-df-quickchart {\n",
              "      --bg-color: #E8F0FE;\n",
              "      --fill-color: #1967D2;\n",
              "      --hover-bg-color: #E2EBFA;\n",
              "      --hover-fill-color: #174EA6;\n",
              "      --disabled-fill-color: #AAA;\n",
              "      --disabled-bg-color: #DDD;\n",
              "  }\n",
              "\n",
              "  [theme=dark] .colab-df-quickchart {\n",
              "      --bg-color: #3B4455;\n",
              "      --fill-color: #D2E3FC;\n",
              "      --hover-bg-color: #434B5C;\n",
              "      --hover-fill-color: #FFFFFF;\n",
              "      --disabled-bg-color: #3B4455;\n",
              "      --disabled-fill-color: #666;\n",
              "  }\n",
              "\n",
              "  .colab-df-quickchart {\n",
              "    background-color: var(--bg-color);\n",
              "    border: none;\n",
              "    border-radius: 50%;\n",
              "    cursor: pointer;\n",
              "    display: none;\n",
              "    fill: var(--fill-color);\n",
              "    height: 32px;\n",
              "    padding: 0;\n",
              "    width: 32px;\n",
              "  }\n",
              "\n",
              "  .colab-df-quickchart:hover {\n",
              "    background-color: var(--hover-bg-color);\n",
              "    box-shadow: 0 1px 2px rgba(60, 64, 67, 0.3), 0 1px 3px 1px rgba(60, 64, 67, 0.15);\n",
              "    fill: var(--button-hover-fill-color);\n",
              "  }\n",
              "\n",
              "  .colab-df-quickchart-complete:disabled,\n",
              "  .colab-df-quickchart-complete:disabled:hover {\n",
              "    background-color: var(--disabled-bg-color);\n",
              "    fill: var(--disabled-fill-color);\n",
              "    box-shadow: none;\n",
              "  }\n",
              "\n",
              "  .colab-df-spinner {\n",
              "    border: 2px solid var(--fill-color);\n",
              "    border-color: transparent;\n",
              "    border-bottom-color: var(--fill-color);\n",
              "    animation:\n",
              "      spin 1s steps(1) infinite;\n",
              "  }\n",
              "\n",
              "  @keyframes spin {\n",
              "    0% {\n",
              "      border-color: transparent;\n",
              "      border-bottom-color: var(--fill-color);\n",
              "      border-left-color: var(--fill-color);\n",
              "    }\n",
              "    20% {\n",
              "      border-color: transparent;\n",
              "      border-left-color: var(--fill-color);\n",
              "      border-top-color: var(--fill-color);\n",
              "    }\n",
              "    30% {\n",
              "      border-color: transparent;\n",
              "      border-left-color: var(--fill-color);\n",
              "      border-top-color: var(--fill-color);\n",
              "      border-right-color: var(--fill-color);\n",
              "    }\n",
              "    40% {\n",
              "      border-color: transparent;\n",
              "      border-right-color: var(--fill-color);\n",
              "      border-top-color: var(--fill-color);\n",
              "    }\n",
              "    60% {\n",
              "      border-color: transparent;\n",
              "      border-right-color: var(--fill-color);\n",
              "    }\n",
              "    80% {\n",
              "      border-color: transparent;\n",
              "      border-right-color: var(--fill-color);\n",
              "      border-bottom-color: var(--fill-color);\n",
              "    }\n",
              "    90% {\n",
              "      border-color: transparent;\n",
              "      border-bottom-color: var(--fill-color);\n",
              "    }\n",
              "  }\n",
              "</style>\n",
              "\n",
              "      <script>\n",
              "        async function quickchart(key) {\n",
              "          const quickchartButtonEl =\n",
              "            document.querySelector('#' + key + ' button');\n",
              "          quickchartButtonEl.disabled = true;  // To prevent multiple clicks.\n",
              "          quickchartButtonEl.classList.add('colab-df-spinner');\n",
              "          try {\n",
              "            const charts = await google.colab.kernel.invokeFunction(\n",
              "                'suggestCharts', [key], {});\n",
              "          } catch (error) {\n",
              "            console.error('Error during call to suggestCharts:', error);\n",
              "          }\n",
              "          quickchartButtonEl.classList.remove('colab-df-spinner');\n",
              "          quickchartButtonEl.classList.add('colab-df-quickchart-complete');\n",
              "        }\n",
              "        (() => {\n",
              "          let quickchartButtonEl =\n",
              "            document.querySelector('#df-e7da4cda-b501-4a87-b403-3fe37e56dd46 button');\n",
              "          quickchartButtonEl.style.display =\n",
              "            google.colab.kernel.accessAllowed ? 'block' : 'none';\n",
              "        })();\n",
              "      </script>\n",
              "    </div>\n",
              "\n",
              "    </div>\n",
              "  </div>\n"
            ],
            "application/vnd.google.colaboratory.intrinsic+json": {
              "type": "dataframe",
              "summary": "{\n  \"name\": \"display(calculate_churn_rate(data, 'InternetService'))\",\n  \"rows\": 4,\n  \"fields\": [\n    {\n      \"column\": \"PaymentMethod\",\n      \"properties\": {\n        \"dtype\": \"string\",\n        \"num_unique_values\": 4,\n        \"samples\": [\n          \"Credit card (automatic)\",\n          \"Mailed check\",\n          \"Bank transfer (automatic)\"\n        ],\n        \"semantic_type\": \"\",\n        \"description\": \"\"\n      }\n    },\n    {\n      \"column\": \"Total\",\n      \"properties\": {\n        \"dtype\": \"number\",\n        \"std\": 420,\n        \"min\": 1568,\n        \"max\": 2445,\n        \"num_unique_values\": 4,\n        \"samples\": [\n          1568,\n          1665,\n          1589\n        ],\n        \"semantic_type\": \"\",\n        \"description\": \"\"\n      }\n    },\n    {\n      \"column\": \"Churned\",\n      \"properties\": {\n        \"dtype\": \"number\",\n        \"std\": null,\n        \"min\": null,\n        \"max\": null,\n        \"num_unique_values\": 0,\n        \"samples\": [],\n        \"semantic_type\": \"\",\n        \"description\": \"\"\n      }\n    },\n    {\n      \"column\": \"Churn Rate (%)\",\n      \"properties\": {\n        \"dtype\": \"number\",\n        \"std\": 0.0,\n        \"min\": 0.0,\n        \"max\": 0.0,\n        \"num_unique_values\": 1,\n        \"samples\": [],\n        \"semantic_type\": \"\",\n        \"description\": \"\"\n      }\n    }\n  ]\n}"
            }
          },
          "metadata": {}
        },
        {
          "output_type": "stream",
          "name": "stdout",
          "text": [
            "\n",
            "Churn Rate by Internet Service Type:\n"
          ]
        },
        {
          "output_type": "display_data",
          "data": {
            "text/plain": [
              "                 Total  Churned  Churn Rate (%)\n",
              "InternetService                                \n",
              "DSL               2488      NaN             0.0\n",
              "Fiber optic       3198      NaN             0.0\n",
              "No                1581      NaN             0.0"
            ],
            "text/html": [
              "\n",
              "  <div id=\"df-5f0c6434-15e0-4136-aed0-ee112300e087\" class=\"colab-df-container\">\n",
              "    <div>\n",
              "<style scoped>\n",
              "    .dataframe tbody tr th:only-of-type {\n",
              "        vertical-align: middle;\n",
              "    }\n",
              "\n",
              "    .dataframe tbody tr th {\n",
              "        vertical-align: top;\n",
              "    }\n",
              "\n",
              "    .dataframe thead th {\n",
              "        text-align: right;\n",
              "    }\n",
              "</style>\n",
              "<table border=\"1\" class=\"dataframe\">\n",
              "  <thead>\n",
              "    <tr style=\"text-align: right;\">\n",
              "      <th></th>\n",
              "      <th>Total</th>\n",
              "      <th>Churned</th>\n",
              "      <th>Churn Rate (%)</th>\n",
              "    </tr>\n",
              "    <tr>\n",
              "      <th>InternetService</th>\n",
              "      <th></th>\n",
              "      <th></th>\n",
              "      <th></th>\n",
              "    </tr>\n",
              "  </thead>\n",
              "  <tbody>\n",
              "    <tr>\n",
              "      <th>DSL</th>\n",
              "      <td>2488</td>\n",
              "      <td>NaN</td>\n",
              "      <td>0.0</td>\n",
              "    </tr>\n",
              "    <tr>\n",
              "      <th>Fiber optic</th>\n",
              "      <td>3198</td>\n",
              "      <td>NaN</td>\n",
              "      <td>0.0</td>\n",
              "    </tr>\n",
              "    <tr>\n",
              "      <th>No</th>\n",
              "      <td>1581</td>\n",
              "      <td>NaN</td>\n",
              "      <td>0.0</td>\n",
              "    </tr>\n",
              "  </tbody>\n",
              "</table>\n",
              "</div>\n",
              "    <div class=\"colab-df-buttons\">\n",
              "\n",
              "  <div class=\"colab-df-container\">\n",
              "    <button class=\"colab-df-convert\" onclick=\"convertToInteractive('df-5f0c6434-15e0-4136-aed0-ee112300e087')\"\n",
              "            title=\"Convert this dataframe to an interactive table.\"\n",
              "            style=\"display:none;\">\n",
              "\n",
              "  <svg xmlns=\"http://www.w3.org/2000/svg\" height=\"24px\" viewBox=\"0 -960 960 960\">\n",
              "    <path d=\"M120-120v-720h720v720H120Zm60-500h600v-160H180v160Zm220 220h160v-160H400v160Zm0 220h160v-160H400v160ZM180-400h160v-160H180v160Zm440 0h160v-160H620v160ZM180-180h160v-160H180v160Zm440 0h160v-160H620v160Z\"/>\n",
              "  </svg>\n",
              "    </button>\n",
              "\n",
              "  <style>\n",
              "    .colab-df-container {\n",
              "      display:flex;\n",
              "      gap: 12px;\n",
              "    }\n",
              "\n",
              "    .colab-df-convert {\n",
              "      background-color: #E8F0FE;\n",
              "      border: none;\n",
              "      border-radius: 50%;\n",
              "      cursor: pointer;\n",
              "      display: none;\n",
              "      fill: #1967D2;\n",
              "      height: 32px;\n",
              "      padding: 0 0 0 0;\n",
              "      width: 32px;\n",
              "    }\n",
              "\n",
              "    .colab-df-convert:hover {\n",
              "      background-color: #E2EBFA;\n",
              "      box-shadow: 0px 1px 2px rgba(60, 64, 67, 0.3), 0px 1px 3px 1px rgba(60, 64, 67, 0.15);\n",
              "      fill: #174EA6;\n",
              "    }\n",
              "\n",
              "    .colab-df-buttons div {\n",
              "      margin-bottom: 4px;\n",
              "    }\n",
              "\n",
              "    [theme=dark] .colab-df-convert {\n",
              "      background-color: #3B4455;\n",
              "      fill: #D2E3FC;\n",
              "    }\n",
              "\n",
              "    [theme=dark] .colab-df-convert:hover {\n",
              "      background-color: #434B5C;\n",
              "      box-shadow: 0px 1px 3px 1px rgba(0, 0, 0, 0.15);\n",
              "      filter: drop-shadow(0px 1px 2px rgba(0, 0, 0, 0.3));\n",
              "      fill: #FFFFFF;\n",
              "    }\n",
              "  </style>\n",
              "\n",
              "    <script>\n",
              "      const buttonEl =\n",
              "        document.querySelector('#df-5f0c6434-15e0-4136-aed0-ee112300e087 button.colab-df-convert');\n",
              "      buttonEl.style.display =\n",
              "        google.colab.kernel.accessAllowed ? 'block' : 'none';\n",
              "\n",
              "      async function convertToInteractive(key) {\n",
              "        const element = document.querySelector('#df-5f0c6434-15e0-4136-aed0-ee112300e087');\n",
              "        const dataTable =\n",
              "          await google.colab.kernel.invokeFunction('convertToInteractive',\n",
              "                                                    [key], {});\n",
              "        if (!dataTable) return;\n",
              "\n",
              "        const docLinkHtml = 'Like what you see? Visit the ' +\n",
              "          '<a target=\"_blank\" href=https://colab.research.google.com/notebooks/data_table.ipynb>data table notebook</a>'\n",
              "          + ' to learn more about interactive tables.';\n",
              "        element.innerHTML = '';\n",
              "        dataTable['output_type'] = 'display_data';\n",
              "        await google.colab.output.renderOutput(dataTable, element);\n",
              "        const docLink = document.createElement('div');\n",
              "        docLink.innerHTML = docLinkHtml;\n",
              "        element.appendChild(docLink);\n",
              "      }\n",
              "    </script>\n",
              "  </div>\n",
              "\n",
              "\n",
              "    <div id=\"df-149dfd87-12c6-4db1-8567-2ccc8f646b48\">\n",
              "      <button class=\"colab-df-quickchart\" onclick=\"quickchart('df-149dfd87-12c6-4db1-8567-2ccc8f646b48')\"\n",
              "                title=\"Suggest charts\"\n",
              "                style=\"display:none;\">\n",
              "\n",
              "<svg xmlns=\"http://www.w3.org/2000/svg\" height=\"24px\"viewBox=\"0 0 24 24\"\n",
              "     width=\"24px\">\n",
              "    <g>\n",
              "        <path d=\"M19 3H5c-1.1 0-2 .9-2 2v14c0 1.1.9 2 2 2h14c1.1 0 2-.9 2-2V5c0-1.1-.9-2-2-2zM9 17H7v-7h2v7zm4 0h-2V7h2v10zm4 0h-2v-4h2v4z\"/>\n",
              "    </g>\n",
              "</svg>\n",
              "      </button>\n",
              "\n",
              "<style>\n",
              "  .colab-df-quickchart {\n",
              "      --bg-color: #E8F0FE;\n",
              "      --fill-color: #1967D2;\n",
              "      --hover-bg-color: #E2EBFA;\n",
              "      --hover-fill-color: #174EA6;\n",
              "      --disabled-fill-color: #AAA;\n",
              "      --disabled-bg-color: #DDD;\n",
              "  }\n",
              "\n",
              "  [theme=dark] .colab-df-quickchart {\n",
              "      --bg-color: #3B4455;\n",
              "      --fill-color: #D2E3FC;\n",
              "      --hover-bg-color: #434B5C;\n",
              "      --hover-fill-color: #FFFFFF;\n",
              "      --disabled-bg-color: #3B4455;\n",
              "      --disabled-fill-color: #666;\n",
              "  }\n",
              "\n",
              "  .colab-df-quickchart {\n",
              "    background-color: var(--bg-color);\n",
              "    border: none;\n",
              "    border-radius: 50%;\n",
              "    cursor: pointer;\n",
              "    display: none;\n",
              "    fill: var(--fill-color);\n",
              "    height: 32px;\n",
              "    padding: 0;\n",
              "    width: 32px;\n",
              "  }\n",
              "\n",
              "  .colab-df-quickchart:hover {\n",
              "    background-color: var(--hover-bg-color);\n",
              "    box-shadow: 0 1px 2px rgba(60, 64, 67, 0.3), 0 1px 3px 1px rgba(60, 64, 67, 0.15);\n",
              "    fill: var(--button-hover-fill-color);\n",
              "  }\n",
              "\n",
              "  .colab-df-quickchart-complete:disabled,\n",
              "  .colab-df-quickchart-complete:disabled:hover {\n",
              "    background-color: var(--disabled-bg-color);\n",
              "    fill: var(--disabled-fill-color);\n",
              "    box-shadow: none;\n",
              "  }\n",
              "\n",
              "  .colab-df-spinner {\n",
              "    border: 2px solid var(--fill-color);\n",
              "    border-color: transparent;\n",
              "    border-bottom-color: var(--fill-color);\n",
              "    animation:\n",
              "      spin 1s steps(1) infinite;\n",
              "  }\n",
              "\n",
              "  @keyframes spin {\n",
              "    0% {\n",
              "      border-color: transparent;\n",
              "      border-bottom-color: var(--fill-color);\n",
              "      border-left-color: var(--fill-color);\n",
              "    }\n",
              "    20% {\n",
              "      border-color: transparent;\n",
              "      border-left-color: var(--fill-color);\n",
              "      border-top-color: var(--fill-color);\n",
              "    }\n",
              "    30% {\n",
              "      border-color: transparent;\n",
              "      border-left-color: var(--fill-color);\n",
              "      border-top-color: var(--fill-color);\n",
              "      border-right-color: var(--fill-color);\n",
              "    }\n",
              "    40% {\n",
              "      border-color: transparent;\n",
              "      border-right-color: var(--fill-color);\n",
              "      border-top-color: var(--fill-color);\n",
              "    }\n",
              "    60% {\n",
              "      border-color: transparent;\n",
              "      border-right-color: var(--fill-color);\n",
              "    }\n",
              "    80% {\n",
              "      border-color: transparent;\n",
              "      border-right-color: var(--fill-color);\n",
              "      border-bottom-color: var(--fill-color);\n",
              "    }\n",
              "    90% {\n",
              "      border-color: transparent;\n",
              "      border-bottom-color: var(--fill-color);\n",
              "    }\n",
              "  }\n",
              "</style>\n",
              "\n",
              "      <script>\n",
              "        async function quickchart(key) {\n",
              "          const quickchartButtonEl =\n",
              "            document.querySelector('#' + key + ' button');\n",
              "          quickchartButtonEl.disabled = true;  // To prevent multiple clicks.\n",
              "          quickchartButtonEl.classList.add('colab-df-spinner');\n",
              "          try {\n",
              "            const charts = await google.colab.kernel.invokeFunction(\n",
              "                'suggestCharts', [key], {});\n",
              "          } catch (error) {\n",
              "            console.error('Error during call to suggestCharts:', error);\n",
              "          }\n",
              "          quickchartButtonEl.classList.remove('colab-df-spinner');\n",
              "          quickchartButtonEl.classList.add('colab-df-quickchart-complete');\n",
              "        }\n",
              "        (() => {\n",
              "          let quickchartButtonEl =\n",
              "            document.querySelector('#df-149dfd87-12c6-4db1-8567-2ccc8f646b48 button');\n",
              "          quickchartButtonEl.style.display =\n",
              "            google.colab.kernel.accessAllowed ? 'block' : 'none';\n",
              "        })();\n",
              "      </script>\n",
              "    </div>\n",
              "\n",
              "    </div>\n",
              "  </div>\n"
            ],
            "application/vnd.google.colaboratory.intrinsic+json": {
              "type": "dataframe",
              "summary": "{\n  \"name\": \"display(calculate_churn_rate(data, 'InternetService'))\",\n  \"rows\": 3,\n  \"fields\": [\n    {\n      \"column\": \"InternetService\",\n      \"properties\": {\n        \"dtype\": \"string\",\n        \"num_unique_values\": 3,\n        \"samples\": [\n          \"DSL\",\n          \"Fiber optic\",\n          \"No\"\n        ],\n        \"semantic_type\": \"\",\n        \"description\": \"\"\n      }\n    },\n    {\n      \"column\": \"Total\",\n      \"properties\": {\n        \"dtype\": \"number\",\n        \"std\": 810,\n        \"min\": 1581,\n        \"max\": 3198,\n        \"num_unique_values\": 3,\n        \"samples\": [\n          2488,\n          3198,\n          1581\n        ],\n        \"semantic_type\": \"\",\n        \"description\": \"\"\n      }\n    },\n    {\n      \"column\": \"Churned\",\n      \"properties\": {\n        \"dtype\": \"number\",\n        \"std\": null,\n        \"min\": null,\n        \"max\": null,\n        \"num_unique_values\": 0,\n        \"samples\": [],\n        \"semantic_type\": \"\",\n        \"description\": \"\"\n      }\n    },\n    {\n      \"column\": \"Churn Rate (%)\",\n      \"properties\": {\n        \"dtype\": \"number\",\n        \"std\": 0.0,\n        \"min\": 0.0,\n        \"max\": 0.0,\n        \"num_unique_values\": 1,\n        \"samples\": [],\n        \"semantic_type\": \"\",\n        \"description\": \"\"\n      }\n    }\n  ]\n}"
            }
          },
          "metadata": {}
        }
      ],
      "source": [
        "def calculate_churn_rate(df, column):\n",
        "    \"\"\"Calculates churn rate for a given categorical column.\"\"\"\n",
        "    total_counts = df[column].value_counts()\n",
        "    churn_counts = df[df['Churn'] == 1][column].value_counts()\n",
        "    churn_rate = (churn_counts / total_counts).fillna(0).round(4) * 100\n",
        "    churn_summary = pd.DataFrame({\n",
        "        'Total': total_counts,\n",
        "        'Churned': churn_counts.fillna(0),\n",
        "        'Churn Rate (%)': churn_rate\n",
        "    }).sort_index()\n",
        "    return churn_summary\n",
        "\n",
        "# Calculate and display churn rate for each categorical variable\n",
        "print(\"Churn Rate by Gender:\")\n",
        "display(calculate_churn_rate(data, 'gender'))\n",
        "\n",
        "print(\"\\nChurn Rate by Contract Type:\")\n",
        "display(calculate_churn_rate(data, 'Contract'))\n",
        "\n",
        "print(\"\\nChurn Rate by Payment Method:\")\n",
        "display(calculate_churn_rate(data, 'PaymentMethod'))\n",
        "\n",
        "print(\"\\nChurn Rate by Internet Service Type:\")\n",
        "display(calculate_churn_rate(data, 'InternetService'))"
      ]
    },
    {
      "cell_type": "code",
      "execution_count": 17,
      "id": "6a0116f2",
      "metadata": {
        "colab": {
          "base_uri": "https://localhost:8080/",
          "height": 412
        },
        "id": "6a0116f2",
        "outputId": "88212752-0317-41b5-bf7b-bd22ccbdcd69"
      },
      "outputs": [
        {
          "output_type": "display_data",
          "data": {
            "text/plain": [
              "<Figure size 2000x600 with 3 Axes>"
            ],
            "image/png": "[encoded data removed]"
          },
          "metadata": {}
        }
      ],
      "source": [
        "# Ensure empty strings in 'Churn' are handled before grouping\n",
        "data['Churn'] = data['Churn'].replace('', 'No')\n",
        "\n",
        "# --- Preparar el lienzo con fondo gris claro y 3 subplots ---\n",
        "fig, (ax1, ax2, ax3) = plt.subplots(1, 3, figsize=(20, 6))\n",
        "fig.patch.set_facecolor('#f0f0f0')  # Fondo gris claro\n",
        "fig.suptitle('Análisis de la Evasión de clientes según Variables Categóricas', fontsize=20, fontweight='bold', color='#34495e', ha='left', x=0.05, y=1.05)\n",
        "\n",
        "\n",
        "# --- Gráfico 1: Evasión por género ---\n",
        "conteo_gender = data.groupby(['gender', 'Churn']).size().unstack(fill_value=0)\n",
        "conteo_gender.columns = ['No evadió', 'Evadió']\n",
        "conteo_gender_renombrado = conteo_gender.rename(\n",
        "    index={'Male': 'Masculino', 'Female': 'Femenino'}\n",
        ")\n",
        "conteo_gender_renombrado.plot(kind='bar', ax=ax1, color=['skyblue', 'salmon'], edgecolor='black')\n",
        "ax1.set_ylim(top=ax1.get_ylim()[1] * 1.05)\n",
        "ax1.set_title('Evasión por género', fontsize=14, pad=15)\n",
        "ax1.set_xlabel('')\n",
        "ax1.set_ylabel('')\n",
        "ax1.set_xticklabels(conteo_gender_renombrado.index, rotation=0)\n",
        "ax1.tick_params(left=False, labelleft=False)\n",
        "ax1.grid(False)\n",
        "for container in ax1.containers:\n",
        "    ax1.bar_label(container, label_type='edge', padding=3, fontsize=10)\n",
        "\n",
        "# --- Gráfico 2: Evasión por tipo de contrato ---\n",
        "conteo_contract = data.groupby(['Contract', 'Churn']).size().unstack(fill_value=0)\n",
        "conteo_contract.columns = ['No evadió', 'Evadió']\n",
        "conteo_contract.plot(kind='bar', ax=ax2, color=['skyblue', 'salmon'], edgecolor='black')\n",
        "ax2.set_ylim(top=ax1.get_ylim()[1] * 0.9)\n",
        "ax2.set_title('Evasión por tipo de contrato', fontsize=14, pad=15)\n",
        "ax2.set_xlabel('')\n",
        "ax2.set_ylabel('')\n",
        "ax2.set_xticklabels(conteo_contract.index, rotation=15)\n",
        "ax2.tick_params(left=False, labelleft=False)\n",
        "ax2.grid(False)\n",
        "for container in ax2.containers:\n",
        "    ax2.bar_label(container, label_type='edge', padding=3, fontsize=10)\n",
        "\n",
        "# --- Gráfico 3: Evasión por método de pago ---\n",
        "conteo_payment = data.groupby(['PaymentMethod', 'Churn']).size().unstack(fill_value=0)\n",
        "conteo_payment.columns = ['No evadió', 'Evadió']\n",
        "conteo_payment.plot(kind='bar', ax=ax3, color=['skyblue', 'salmon'], edgecolor='black')\n",
        "ax3.set_ylim(top=ax1.get_ylim()[1] * 0.6)\n",
        "ax3.set_title('Evasión por método de pago', fontsize=14, pad=15)\n",
        "ax3.set_xlabel('')\n",
        "ax3.set_ylabel('')\n",
        "ax3.set_xticklabels(conteo_payment.index, rotation=45, ha='right')\n",
        "ax3.tick_params(left=False, labelleft=False)\n",
        "ax3.grid(False)\n",
        "for container in ax3.containers:\n",
        "    ax3.bar_label(container, label_type='edge', padding=3, fontsize=10)\n",
        "\n",
        "plt.tight_layout()\n",
        "plt.savefig('grafico_evasion_categóricas.png', dpi=300, bbox_inches='tight')\n",
        "plt.show()"
      ]
    },
    {
      "cell_type": "markdown",
      "id": "e6ee10d0",
      "metadata": {
        "id": "e6ee10d0"
      },
      "source": [
        "# Análisis de Evasión de Clientes  \n",
        "### Basado en Género , Tipo de Contrato y Método de pago\n",
        "\n",
        "---\n",
        "\n",
        "## 1.Resumen General de Evasión\n",
        "\n",
        "Se han identificado datos relevantes sobre la **evasión de clientes**, que permiten identificar patrones según **género**, **tipo de contrato** y **Método de pago**. Estos patrones son clave para entender las causas del abandono y tomar decisiones estratégicas para la retención.\n",
        "\n",
        "---\n",
        "\n",
        "## 2. Evasión por Género\n",
        "\n",
        "| Género     | Clientes Evadidos | Clientes Activos | Total Clientes | Tasa de Evasión |\n",
        "|------------|-------------------|------------------|----------------|-----------------|\n",
        "| Femenino   | 939               | 2,653            | 3,592          | 26.1%           |\n",
        "| Masculino  | 930               | 2,745            | 3,675          | 25.3%           |\n",
        "\n",
        "**Análisis:**\n",
        "\n",
        "- La **evasión es ligeramente mayor en mujeres (26.1%) que en hombres (25.3%)**, aunque la diferencia no es muy significativa.\n",
        "- Ambos géneros presentan una **alta tasa de abandono (≈25%)**, lo cual sugiere que el problema no es exclusivo de un grupo demográfico.\n",
        "- La estrategia de fidelización debe ser **transversal**, aunque conviene hacer estudios cualitativos por género para detectar matices de comportamiento.\n",
        "\n",
        "---\n",
        "\n",
        "## 3.Evasión por Tipo de Contrato\n",
        "\n",
        "| Tipo de Contrato      | Evadidos | Activos | Total Clientes | Tasa de Evasión |\n",
        "|-----------------------|----------|---------|----------------|-----------------|\n",
        "| Mes a mes             | 1,655    | 2,350   | 4,005          | **41.3%**       |\n",
        "| Contrato de 1 año     | 166      | 1,353   | 1,519          | **10.9%**       |\n",
        "| Contrato de 2 años    | 48       | 1,645   | 1,693          | **2.8%**        |\n",
        "\n",
        "**Análisis:**\n",
        "\n",
        "- La evasión es **drásticamente más alta en contratos mes a mes (41.3%)**.\n",
        "- A mayor duración del contrato, **menor es la tasa de evasión**:\n",
        "  - Contrato de 1 año: tasa moderada (10.9%).\n",
        "  - Contrato de 2 años: tasa muy baja (2.8%).\n",
        "- Esto evidencia que **los contratos de largo plazo tienen un fuerte efecto de retención**, posiblemente por compromiso, beneficios percibidos o penalidades por cancelación anticipada.\n",
        "\n",
        "---\n",
        "## 4.Evasión Según Método de Pago\n",
        "\n",
        "| Método de Pago        | Evadidos | Activos | Total Clientes | Tasa de Evasión |\n",
        "|------------------------|----------|---------|----------------|-----------------|\n",
        "| Transferencia bancaria | 258      | 1,331   | 1,589          | **16.2%**       |\n",
        "| Tarjeta de crédito     | 232      | 1,336   | 1,568          | **14.8%**       |\n",
        "| Cheque electrónico     | 1,071    | 1,374   | 2,445          | **43.8%**       |\n",
        "| Cheque enviado         | 308      | 1,357   | 1,665          | **18.5%**       |\n",
        "\n",
        "\n",
        "**Análisis**\n",
        "\n",
        "- La **evasión más alta se concentra en el uso de cheque electrónico**, con una tasa de **43.8%**, lo que representa un riesgo crítico.\n",
        "- Le sigue el **cheque enviado**, con **18.5%**, también por encima del promedio general (~25%).\n",
        "- Los métodos **más estables son tarjeta de crédito (14.8%) y transferencia bancaria (16.2%)**, que presentan las menores tasas de abandono.\n",
        "- Se observa una **relación clara entre métodos de pago más modernos y menor evasión**, lo que podría reflejar mayor automatización, comodidad o facilidad de cobro para el cliente.\n"
      ]
    },
    {
      "cell_type": "code",
      "execution_count": null,
      "id": "134d397b",
      "metadata": {
        "id": "134d397b",
        "outputId": "ec57b5a8-5f17-4611-9f86-3dc0980f5502"
      },
      "outputs": [
        {
          "data": {
            "text/html": [
              "<div>\n",
              "<style scoped>\n",
              "    .dataframe tbody tr th:only-of-type {\n",
              "        vertical-align: middle;\n",
              "    }\n",
              "\n",
              "    .dataframe tbody tr th {\n",
              "        vertical-align: top;\n",
              "    }\n",
              "\n",
              "    .dataframe thead th {\n",
              "        text-align: right;\n",
              "    }\n",
              "</style>\n",
              "<table border=\"1\" class=\"dataframe\">\n",
              "  <thead>\n",
              "    <tr style=\"text-align: right;\">\n",
              "      <th>Churn</th>\n",
              "      <th>0</th>\n",
              "      <th>1</th>\n",
              "    </tr>\n",
              "    <tr>\n",
              "      <th>InternetService</th>\n",
              "      <th></th>\n",
              "      <th></th>\n",
              "    </tr>\n",
              "  </thead>\n",
              "  <tbody>\n",
              "    <tr>\n",
              "      <th>DSL</th>\n",
              "      <td>2029</td>\n",
              "      <td>459</td>\n",
              "    </tr>\n",
              "    <tr>\n",
              "      <th>Fiber optic</th>\n",
              "      <td>1901</td>\n",
              "      <td>1297</td>\n",
              "    </tr>\n",
              "    <tr>\n",
              "      <th>No</th>\n",
              "      <td>1468</td>\n",
              "      <td>113</td>\n",
              "    </tr>\n",
              "  </tbody>\n",
              "</table>\n",
              "</div>"
            ],
            "text/plain": [
              "Churn               0     1\n",
              "InternetService            \n",
              "DSL              2029   459\n",
              "Fiber optic      1901  1297\n",
              "No               1468   113"
            ]
          },
          "execution_count": 25,
          "metadata": {},
          "output_type": "execute_result"
        }
      ],
      "source": [
        "conteo_internet"
      ]
    },
    {
      "cell_type": "code",
      "execution_count": 21,
      "id": "b5db8d58",
      "metadata": {
        "colab": {
          "base_uri": "https://localhost:8080/",
          "height": 607
        },
        "id": "b5db8d58",
        "outputId": "fabc95a0-379d-4f82-bf83-2f0f3b2fbfa6"
      },
      "outputs": [
        {
          "output_type": "display_data",
          "data": {
            "text/plain": [
              "<Figure size 1000x600 with 1 Axes>"
            ],
            "image/png": "[encoded data removed]"
          },
          "metadata": {}
        }
      ],
      "source": [
        "# Ensure empty strings in 'Churn' are handled before grouping\n",
        "data['Churn'] = data['Churn'].replace('', 'No')\n",
        "\n",
        "conteo_internet = data.groupby(['InternetService', 'Churn']).size().unstack(fill_value=0)\n",
        "\n",
        "# Rename the columns based on the 'Churn' values\n",
        "conteo_internet = conteo_internet.rename(columns={0: 'No evadió', 1: 'Evadió'})\n",
        "\n",
        "# Create a stacked bar chart\n",
        "ax = conteo_internet.plot(kind='bar', stacked=True, figsize=(10, 6), color=['#405a6f', '#8e44ad'], edgecolor='black')\n",
        "\n",
        "# Add titles and labels\n",
        "ax.set_title('Evasión de Clientes según Tipo de Servicio de Internet', fontsize=16, pad=15)\n",
        "ax.set_xlabel('Tipo de Servicio de Internet', fontsize=12)\n",
        "ax.set_ylabel('Número de Clientes', fontsize=12)\n",
        "ax.tick_params(axis='x', rotation=0)\n",
        "\n",
        "# Add counts on top of bars\n",
        "for container in ax.containers:\n",
        "    ax.bar_label(container, label_type='center', color='white', fontsize=10)\n",
        "\n",
        "# Improve layout and display\n",
        "plt.tight_layout()\n",
        "plt.savefig('grafico_evasion_servicio_internet.png', dpi=300, bbox_inches='tight')\n",
        "plt.show()"
      ]
    },
    {
      "cell_type": "markdown",
      "id": "a627e328",
      "metadata": {
        "id": "a627e328"
      },
      "source": [
        "## Análisis de Evasión según el Servicio de Internet\n",
        "\n",
        "La gráfica revela diferencias significativas en la tasa de evasión dependiendo del tipo de tecnología de internet utilizada por los clientes. A continuación, se detalla el comportamiento para cada caso:\n",
        "\n",
        "### Fibra Óptica  \n",
        "- **Evasión:** 40,6%  \n",
        "- **Clientes Activos:** 59,4%\n",
        "\n",
        "La tasa de evasión entre los usuarios de fibra óptica es considerablemente alta. Casi **4 de cada 10 usuarios** con este tipo de conexión han abandonado el servicio. Esto podría indicar que, aunque la fibra óptica ofrece una mejor calidad de conexión, los factores como el precio, la cobertura o la atención al cliente pueden estar afectando la retención.\n",
        "\n",
        "### DSL  \n",
        "- **Evasión:** 18,4%  \n",
        "- **Clientes Activos:** 81,6% *(corregido, ya que 8,6% activos no sería coherente con el total)*\n",
        "\n",
        "En contraste, el servicio DSL muestra una **tasa de evasión mucho menor**, con más del 80% de los usuarios aún activos. Esto podría reflejar que los clientes de DSL son más estables o que este segmento tiene menos alternativas viables, posiblemente por limitaciones geográficas o económicas.\n",
        "\n",
        "\n",
        "\n",
        "\n",
        "\n",
        "\n"
      ]
    },
    {
      "cell_type": "markdown",
      "id": "e7eb3e6b",
      "metadata": {
        "id": "e7eb3e6b"
      },
      "source": [
        "## Conteo de evasión por variables numéricas"
      ]
    },
    {
      "cell_type": "markdown",
      "id": "37497709",
      "metadata": {
        "id": "37497709"
      },
      "source": [
        "### Evasión según el total gastado por los clientes"
      ]
    },
    {
      "cell_type": "code",
      "execution_count": null,
      "id": "60ae0605",
      "metadata": {
        "id": "60ae0605",
        "outputId": "e1755802-e542-4952-b2f8-a18569f2901f"
      },
      "outputs": [
        {
          "name": "stdout",
          "output_type": "stream",
          "text": [
            "Valor minimo gastado:  0.0\n",
            "Valor maximo gastado:  8684.8\n"
          ]
        }
      ],
      "source": [
        "print('Valor minimo gastado: ',data['Charges.Total'].min())\n",
        "print('Valor maximo gastado: ', data['Charges.Total'].max())"
      ]
    },
    {
      "cell_type": "code",
      "execution_count": null,
      "id": "779b5215",
      "metadata": {
        "id": "779b5215",
        "outputId": "ada96df3-7cc2-4878-8fa8-4a377349c09d"
      },
      "outputs": [
        {
          "name": "stderr",
          "output_type": "stream",
          "text": [
            "C:\\Users\\ysort\\AppData\\Local\\Temp\\ipykernel_8772\\1057939821.py:15: FutureWarning: The default of observed=False is deprecated and will be changed to True in a future version of pandas. Pass observed=False to retain current behavior or observed=True to adopt the future default and silence this warning.\n",
            "  churn_analysis = data.groupby('Rango_gasto')['Churn'].agg(\n"
          ]
        },
        {
          "data": {
            "application/vnd.plotly.v1+json": {
              "config": {
                "plotlyServerURL": "https://plot.ly"
              },
              "data": [
                {
                  "customdata": {
                    "bdata": "oHacG0HPQUDjrexzSE00QDKRHqic3TpAjf8ITA/OMkBT75zgn3kwQAAAAAAAAC5AmxFvRrwZLUDQF/QFfUEnQAAAAAAAAARA",
                    "dtype": "f8"
                  },
                  "hovertemplate": "<b>%{x}</b><br>Evadidos: %{y} (%{customdata:.1f}%)<extra></extra>",
                  "marker": {
                    "color": "#ff7aa2",
                    "line": {
                      "color": "rgba(255,255,255,0.3)",
                      "width": 2
                    }
                  },
                  "name": "EVADIDOS",
                  "type": "bar",
                  "x": [
                    "0-1k",
                    "1k-2k",
                    "2k-3k",
                    "3k-4k",
                    "4k-5k",
                    "5k-6k",
                    "6k-7k",
                    "7k-8k",
                    "8k+"
                  ],
                  "y": {
                    "bdata": "LgQNAbQAawBWAEUANwAeAAIA",
                    "dtype": "i2"
                  }
                },
                {
                  "customdata": {
                    "bdata": "sMQxcl8YUECH1ATjrexTQLRb+NWYSFJAHcD9LHxMVEAsxNgHmOFUQAAAAAAAQFVAzR0yd8hcVUAGfUFf0BdWQAAAAAAAYFhA",
                    "dtype": "f8"
                  },
                  "hovertemplate": "<b>%{x}</b><br>Activos: %{y} (%{customdata:.1f}%)<extra></extra>",
                  "marker": {
                    "color": "#7fd8ff",
                    "line": {
                      "color": "rgba(255,255,255,0.3)",
                      "width": 2
                    }
                  },
                  "name": "ACTIVOS",
                  "type": "bar",
                  "x": [
                    "0-1k",
                    "1k-2k",
                    "2k-3k",
                    "3k-4k",
                    "4k-5k",
                    "5k-6k",
                    "6k-7k",
                    "7k-8k",
                    "8k+"
                  ],
                  "y": {
                    "bdata": "jgcgBOoBzgG0AYcBQwHkAE4A",
                    "dtype": "i2"
                  }
                }
              ],
              "layout": {
                "barmode": "group",
                "font": {
                  "color": "#f8f8f8",
                  "family": "Segoe UI, Arial",
                  "size": 13
                },
                "hovermode": "x unified",
                "legend": {
                  "orientation": "h",
                  "x": 0.5,
                  "xanchor": "center",
                  "y": 1.02,
                  "yanchor": "bottom"
                },
                "margin": {
                  "b": 50,
                  "l": 50,
                  "r": 50,
                  "t": 120
                },
                "paper_bgcolor": "#1e1e2e",
                "plot_bgcolor": "#1e1e2e",
                "template": {
                  "data": {
                    "bar": [
                      {
                        "error_x": {
                          "color": "#2a3f5f"
                        },
                        "error_y": {
                          "color": "#2a3f5f"
                        },
                        "marker": {
                          "line": {
                            "color": "#E5ECF6",
                            "width": 0.5
                          },
                          "pattern": {
                            "fillmode": "overlay",
                            "size": 10,
                            "solidity": 0.2
                          }
                        },
                        "type": "bar"
                      }
                    ],
                    "barpolar": [
                      {
                        "marker": {
                          "line": {
                            "color": "#E5ECF6",
                            "width": 0.5
                          },
                          "pattern": {
                            "fillmode": "overlay",
                            "size": 10,
                            "solidity": 0.2
                          }
                        },
                        "type": "barpolar"
                      }
                    ],
                    "carpet": [
                      {
                        "aaxis": {
                          "endlinecolor": "#2a3f5f",
                          "gridcolor": "white",
                          "linecolor": "white",
                          "minorgridcolor": "white",
                          "startlinecolor": "#2a3f5f"
                        },
                        "baxis": {
                          "endlinecolor": "#2a3f5f",
                          "gridcolor": "white",
                          "linecolor": "white",
                          "minorgridcolor": "white",
                          "startlinecolor": "#2a3f5f"
                        },
                        "type": "carpet"
                      }
                    ],
                    "choropleth": [
                      {
                        "colorbar": {
                          "outlinewidth": 0,
                          "ticks": ""
                        },
                        "type": "choropleth"
                      }
                    ],
                    "contour": [
                      {
                        "colorbar": {
                          "outlinewidth": 0,
                          "ticks": ""
                        },
                        "colorscale": [
                          [
                            0,
                            "#0d0887"
                          ],
                          [
                            0.1111111111111111,
                            "#46039f"
                          ],
                          [
                            0.2222222222222222,
                            "#7201a8"
                          ],
                          [
                            0.3333333333333333,
                            "#9c179e"
                          ],
                          [
                            0.4444444444444444,
                            "#bd3786"
                          ],
                          [
                            0.5555555555555556,
                            "#d8576b"
                          ],
                          [
                            0.6666666666666666,
                            "#ed7953"
                          ],
                          [
                            0.7777777777777778,
                            "#fb9f3a"
                          ],
                          [
                            0.8888888888888888,
                            "#fdca26"
                          ],
                          [
                            1,
                            "#f0f921"
                          ]
                        ],
                        "type": "contour"
                      }
                    ],
                    "contourcarpet": [
                      {
                        "colorbar": {
                          "outlinewidth": 0,
                          "ticks": ""
                        },
                        "type": "contourcarpet"
                      }
                    ],
                    "heatmap": [
                      {
                        "colorbar": {
                          "outlinewidth": 0,
                          "ticks": ""
                        },
                        "colorscale": [
                          [
                            0,
                            "#0d0887"
                          ],
                          [
                            0.1111111111111111,
                            "#46039f"
                          ],
                          [
                            0.2222222222222222,
                            "#7201a8"
                          ],
                          [
                            0.3333333333333333,
                            "#9c179e"
                          ],
                          [
                            0.4444444444444444,
                            "#bd3786"
                          ],
                          [
                            0.5555555555555556,
                            "#d8576b"
                          ],
                          [
                            0.6666666666666666,
                            "#ed7953"
                          ],
                          [
                            0.7777777777777778,
                            "#fb9f3a"
                          ],
                          [
                            0.8888888888888888,
                            "#fdca26"
                          ],
                          [
                            1,
                            "#f0f921"
                          ]
                        ],
                        "type": "heatmap"
                      }
                    ],
                    "histogram": [
                      {
                        "marker": {
                          "pattern": {
                            "fillmode": "overlay",
                            "size": 10,
                            "solidity": 0.2
                          }
                        },
                        "type": "histogram"
                      }
                    ],
                    "histogram2d": [
                      {
                        "colorbar": {
                          "outlinewidth": 0,
                          "ticks": ""
                        },
                        "colorscale": [
                          [
                            0,
                            "#0d0887"
                          ],
                          [
                            0.1111111111111111,
                            "#46039f"
                          ],
                          [
                            0.2222222222222222,
                            "#7201a8"
                          ],
                          [
                            0.3333333333333333,
                            "#9c179e"
                          ],
                          [
                            0.4444444444444444,
                            "#bd3786"
                          ],
                          [
                            0.5555555555555556,
                            "#d8576b"
                          ],
                          [
                            0.6666666666666666,
                            "#ed7953"
                          ],
                          [
                            0.7777777777777778,
                            "#fb9f3a"
                          ],
                          [
                            0.8888888888888888,
                            "#fdca26"
                          ],
                          [
                            1,
                            "#f0f921"
                          ]
                        ],
                        "type": "histogram2d"
                      }
                    ],
                    "histogram2dcontour": [
                      {
                        "colorbar": {
                          "outlinewidth": 0,
                          "ticks": ""
                        },
                        "colorscale": [
                          [
                            0,
                            "#0d0887"
                          ],
                          [
                            0.1111111111111111,
                            "#46039f"
                          ],
                          [
                            0.2222222222222222,
                            "#7201a8"
                          ],
                          [
                            0.3333333333333333,
                            "#9c179e"
                          ],
                          [
                            0.4444444444444444,
                            "#bd3786"
                          ],
                          [
                            0.5555555555555556,
                            "#d8576b"
                          ],
                          [
                            0.6666666666666666,
                            "#ed7953"
                          ],
                          [
                            0.7777777777777778,
                            "#fb9f3a"
                          ],
                          [
                            0.8888888888888888,
                            "#fdca26"
                          ],
                          [
                            1,
                            "#f0f921"
                          ]
                        ],
                        "type": "histogram2dcontour"
                      }
                    ],
                    "mesh3d": [
                      {
                        "colorbar": {
                          "outlinewidth": 0,
                          "ticks": ""
                        },
                        "type": "mesh3d"
                      }
                    ],
                    "parcoords": [
                      {
                        "line": {
                          "colorbar": {
                            "outlinewidth": 0,
                            "ticks": ""
                          }
                        },
                        "type": "parcoords"
                      }
                    ],
                    "pie": [
                      {
                        "automargin": true,
                        "type": "pie"
                      }
                    ],
                    "scatter": [
                      {
                        "fillpattern": {
                          "fillmode": "overlay",
                          "size": 10,
                          "solidity": 0.2
                        },
                        "type": "scatter"
                      }
                    ],
                    "scatter3d": [
                      {
                        "line": {
                          "colorbar": {
                            "outlinewidth": 0,
                            "ticks": ""
                          }
                        },
                        "marker": {
                          "colorbar": {
                            "outlinewidth": 0,
                            "ticks": ""
                          }
                        },
                        "type": "scatter3d"
                      }
                    ],
                    "scattercarpet": [
                      {
                        "marker": {
                          "colorbar": {
                            "outlinewidth": 0,
                            "ticks": ""
                          }
                        },
                        "type": "scattercarpet"
                      }
                    ],
                    "scattergeo": [
                      {
                        "marker": {
                          "colorbar": {
                            "outlinewidth": 0,
                            "ticks": ""
                          }
                        },
                        "type": "scattergeo"
                      }
                    ],
                    "scattergl": [
                      {
                        "marker": {
                          "colorbar": {
                            "outlinewidth": 0,
                            "ticks": ""
                          }
                        },
                        "type": "scattergl"
                      }
                    ],
                    "scattermap": [
                      {
                        "marker": {
                          "colorbar": {
                            "outlinewidth": 0,
                            "ticks": ""
                          }
                        },
                        "type": "scattermap"
                      }
                    ],
                    "scattermapbox": [
                      {
                        "marker": {
                          "colorbar": {
                            "outlinewidth": 0,
                            "ticks": ""
                          }
                        },
                        "type": "scattermapbox"
                      }
                    ],
                    "scatterpolar": [
                      {
                        "marker": {
                          "colorbar": {
                            "outlinewidth": 0,
                            "ticks": ""
                          }
                        },
                        "type": "scatterpolar"
                      }
                    ],
                    "scatterpolargl": [
                      {
                        "marker": {
                          "colorbar": {
                            "outlinewidth": 0,
                            "ticks": ""
                          }
                        },
                        "type": "scatterpolargl"
                      }
                    ],
                    "scatterternary": [
                      {
                        "marker": {
                          "colorbar": {
                            "outlinewidth": 0,
                            "ticks": ""
                          }
                        },
                        "type": "scatterternary"
                      }
                    ],
                    "surface": [
                      {
                        "colorbar": {
                          "outlinewidth": 0,
                          "ticks": ""
                        },
                        "colorscale": [
                          [
                            0,
                            "#0d0887"
                          ],
                          [
                            0.1111111111111111,
                            "#46039f"
                          ],
                          [
                            0.2222222222222222,
                            "#7201a8"
                          ],
                          [
                            0.3333333333333333,
                            "#9c179e"
                          ],
                          [
                            0.4444444444444444,
                            "#bd3786"
                          ],
                          [
                            0.5555555555555556,
                            "#d8576b"
                          ],
                          [
                            0.6666666666666666,
                            "#ed7953"
                          ],
                          [
                            0.7777777777777778,
                            "#fb9f3a"
                          ],
                          [
                            0.8888888888888888,
                            "#fdca26"
                          ],
                          [
                            1,
                            "#f0f921"
                          ]
                        ],
                        "type": "surface"
                      }
                    ],
                    "table": [
                      {
                        "cells": {
                          "fill": {
                            "color": "#EBF0F8"
                          },
                          "line": {
                            "color": "white"
                          }
                        },
                        "header": {
                          "fill": {
                            "color": "#C8D4E3"
                          },
                          "line": {
                            "color": "white"
                          }
                        },
                        "type": "table"
                      }
                    ]
                  },
                  "layout": {
                    "annotationdefaults": {
                      "arrowcolor": "#2a3f5f",
                      "arrowhead": 0,
                      "arrowwidth": 1
                    },
                    "autotypenumbers": "strict",
                    "coloraxis": {
                      "colorbar": {
                        "outlinewidth": 0,
                        "ticks": ""
                      }
                    },
                    "colorscale": {
                      "diverging": [
                        [
                          0,
                          "#8e0152"
                        ],
                        [
                          0.1,
                          "#c51b7d"
                        ],
                        [
                          0.2,
                          "#de77ae"
                        ],
                        [
                          0.3,
                          "#f1b6da"
                        ],
                        [
                          0.4,
                          "#fde0ef"
                        ],
                        [
                          0.5,
                          "#f7f7f7"
                        ],
                        [
                          0.6,
                          "#e6f5d0"
                        ],
                        [
                          0.7,
                          "#b8e186"
                        ],
                        [
                          0.8,
                          "#7fbc41"
                        ],
                        [
                          0.9,
                          "#4d9221"
                        ],
                        [
                          1,
                          "#276419"
                        ]
                      ],
                      "sequential": [
                        [
                          0,
                          "#0d0887"
                        ],
                        [
                          0.1111111111111111,
                          "#46039f"
                        ],
                        [
                          0.2222222222222222,
                          "#7201a8"
                        ],
                        [
                          0.3333333333333333,
                          "#9c179e"
                        ],
                        [
                          0.4444444444444444,
                          "#bd3786"
                        ],
                        [
                          0.5555555555555556,
                          "#d8576b"
                        ],
                        [
                          0.6666666666666666,
                          "#ed7953"
                        ],
                        [
                          0.7777777777777778,
                          "#fb9f3a"
                        ],
                        [
                          0.8888888888888888,
                          "#fdca26"
                        ],
                        [
                          1,
                          "#f0f921"
                        ]
                      ],
                      "sequentialminus": [
                        [
                          0,
                          "#0d0887"
                        ],
                        [
                          0.1111111111111111,
                          "#46039f"
                        ],
                        [
                          0.2222222222222222,
                          "#7201a8"
                        ],
                        [
                          0.3333333333333333,
                          "#9c179e"
                        ],
                        [
                          0.4444444444444444,
                          "#bd3786"
                        ],
                        [
                          0.5555555555555556,
                          "#d8576b"
                        ],
                        [
                          0.6666666666666666,
                          "#ed7953"
                        ],
                        [
                          0.7777777777777778,
                          "#fb9f3a"
                        ],
                        [
                          0.8888888888888888,
                          "#fdca26"
                        ],
                        [
                          1,
                          "#f0f921"
                        ]
                      ]
                    },
                    "colorway": [
                      "#636efa",
                      "#EF553B",
                      "#00cc96",
                      "#ab63fa",
                      "#FFA15A",
                      "#19d3f3",
                      "#FF6692",
                      "#B6E880",
                      "#FF97FF",
                      "#FECB52"
                    ],
                    "font": {
                      "color": "#2a3f5f"
                    },
                    "geo": {
                      "bgcolor": "white",
                      "lakecolor": "white",
                      "landcolor": "#E5ECF6",
                      "showlakes": true,
                      "showland": true,
                      "subunitcolor": "white"
                    },
                    "hoverlabel": {
                      "align": "left"
                    },
                    "hovermode": "closest",
                    "mapbox": {
                      "style": "light"
                    },
                    "paper_bgcolor": "white",
                    "plot_bgcolor": "#E5ECF6",
                    "polar": {
                      "angularaxis": {
                        "gridcolor": "white",
                        "linecolor": "white",
                        "ticks": ""
                      },
                      "bgcolor": "#E5ECF6",
                      "radialaxis": {
                        "gridcolor": "white",
                        "linecolor": "white",
                        "ticks": ""
                      }
                    },
                    "scene": {
                      "xaxis": {
                        "backgroundcolor": "#E5ECF6",
                        "gridcolor": "white",
                        "gridwidth": 2,
                        "linecolor": "white",
                        "showbackground": true,
                        "ticks": "",
                        "zerolinecolor": "white"
                      },
                      "yaxis": {
                        "backgroundcolor": "#E5ECF6",
                        "gridcolor": "white",
                        "gridwidth": 2,
                        "linecolor": "white",
                        "showbackground": true,
                        "ticks": "",
                        "zerolinecolor": "white"
                      },
                      "zaxis": {
                        "backgroundcolor": "#E5ECF6",
                        "gridcolor": "white",
                        "gridwidth": 2,
                        "linecolor": "white",
                        "showbackground": true,
                        "ticks": "",
                        "zerolinecolor": "white"
                      }
                    },
                    "shapedefaults": {
                      "line": {
                        "color": "#2a3f5f"
                      }
                    },
                    "ternary": {
                      "aaxis": {
                        "gridcolor": "white",
                        "linecolor": "white",
                        "ticks": ""
                      },
                      "baxis": {
                        "gridcolor": "white",
                        "linecolor": "white",
                        "ticks": ""
                      },
                      "bgcolor": "#E5ECF6",
                      "caxis": {
                        "gridcolor": "white",
                        "linecolor": "white",
                        "ticks": ""
                      }
                    },
                    "title": {
                      "x": 0.05
                    },
                    "xaxis": {
                      "automargin": true,
                      "gridcolor": "white",
                      "linecolor": "white",
                      "ticks": "",
                      "title": {
                        "standoff": 15
                      },
                      "zerolinecolor": "white",
                      "zerolinewidth": 2
                    },
                    "yaxis": {
                      "automargin": true,
                      "gridcolor": "white",
                      "linecolor": "white",
                      "ticks": "",
                      "title": {
                        "standoff": 15
                      },
                      "zerolinecolor": "white",
                      "zerolinewidth": 2
                    }
                  }
                },
                "title": {
                  "font": {
                    "color": "#d1b3ff"
                  },
                  "text": "<span style='font-size:26px; font-weight:800;'>EVASIÓN DE CLIENTES POR NIVEL DE GASTO</span>",
                  "x": 0.03,
                  "xanchor": "left",
                  "y": 0.95
                },
                "xaxis": {
                  "showgrid": false,
                  "tickangle": -30,
                  "title": {
                    "text": "<b>RANGO DE GASTO TOTAL ($)</b>"
                  }
                },
                "yaxis": {
                  "gridcolor": "rgba(200,200,200,0.2)",
                  "griddash": "dash",
                  "title": {
                    "text": "<b>CANTIDAD DE CLIENTES</b>"
                  }
                }
              }
            }
          },
          "metadata": {},
          "output_type": "display_data"
        }
      ],
      "source": [
        "\n",
        "# Configuración de estilos\n",
        "DARK_BG = '#1e1e2e'\n",
        "LIGHT_TEXT = '#f8f8f8'\n",
        "EVASION_COLOR = '#ff7aa2'\n",
        "RETENTION_COLOR = '#7fd8ff'\n",
        "TITLE_COLOR = '#d1b3ff'\n",
        "\n",
        "# Preparación de datos para el análisis de churn por rango de gasto\n",
        "# Crear rangos de gasto\n",
        "bins = [0, 1000, 2000, 3000, 4000, 5000, 6000, 7000, 8000, 8684.8]\n",
        "labels = ['0-1k', '1k-2k', '2k-3k', '3k-4k', '4k-5k', '5k-6k', '6k-7k', '7k-8k', '8k+']\n",
        "data['Rango_gasto'] = pd.cut(data['Charges.Total'], bins=bins, labels=labels, right=False)\n",
        "\n",
        "churn_analysis = data.groupby('Rango_gasto')['Churn'].agg(\n",
        "    Total_clientes='count',\n",
        "    Clientes_evadidos='sum',\n",
        "    Clientes_activos=lambda x: len(x) - sum(x)\n",
        ").reset_index()\n",
        "\n",
        "# Calcular porcentajes\n",
        "churn_analysis['%_evasion'] = (churn_analysis['Clientes_evadidos'] / churn_analysis['Total_clientes']) * 100\n",
        "churn_analysis['%_retencion'] = (churn_analysis['Clientes_activos'] / churn_analysis['Total_clientes']) * 100\n",
        "\n",
        "# Visualización\n",
        "fig = go.Figure()\n",
        "\n",
        "# Barras\n",
        "fig.add_trace(go.Bar(\n",
        "    x=churn_analysis['Rango_gasto'],\n",
        "    y=churn_analysis['Clientes_evadidos'],\n",
        "    name='EVADIDOS',\n",
        "    marker=dict(color=EVASION_COLOR, line=dict(width=2, color='rgba(255,255,255,0.3)')),\n",
        "    hovertemplate=\"<b>%{x}</b><br>Evadidos: %{y} (%{customdata:.1f}%)<extra></extra>\",\n",
        "    customdata=churn_analysis['%_evasion']\n",
        "))\n",
        "\n",
        "fig.add_trace(go.Bar(\n",
        "    x=churn_analysis['Rango_gasto'],\n",
        "    y=churn_analysis['Clientes_activos'],\n",
        "    name='ACTIVOS',\n",
        "    marker=dict(color=RETENTION_COLOR, line=dict(width=2, color='rgba(255,255,255,0.3)')),\n",
        "    hovertemplate=\"<b>%{x}</b><br>Activos: %{y} (%{customdata:.1f}%)<extra></extra>\",\n",
        "    customdata=churn_analysis['%_retencion']\n",
        "))\n",
        "\n",
        "# Diseño\n",
        "fig.update_layout(\n",
        "    title={\n",
        "        'text': \"<span style='font-size:26px; font-weight:800;'>EVASIÓN DE CLIENTES POR NIVEL DE GASTO</span>\",\n",
        "        'y':0.95,\n",
        "        'x':0.03,\n",
        "        'xanchor': 'left',\n",
        "        'font': {'color': TITLE_COLOR}\n",
        "    },\n",
        "    plot_bgcolor=DARK_BG,\n",
        "    paper_bgcolor=DARK_BG,\n",
        "    font=dict(family=\"Segoe UI, Arial\", size=13, color=LIGHT_TEXT),\n",
        "    xaxis=dict(\n",
        "        title=\"<b>RANGO DE GASTO TOTAL ($)</b>\",\n",
        "        showgrid=False,\n",
        "        tickangle=-30\n",
        "    ),\n",
        "    yaxis=dict(\n",
        "        title=\"<b>CANTIDAD DE CLIENTES</b>\",\n",
        "        gridcolor='rgba(200,200,200,0.2)',\n",
        "        griddash='dash'\n",
        "    ),\n",
        "    hovermode=\"x unified\",\n",
        "    legend=dict(\n",
        "        orientation=\"h\",\n",
        "        yanchor=\"bottom\",\n",
        "        y=1.02,\n",
        "        xanchor=\"center\",\n",
        "        x=0.5\n",
        "    ),\n",
        "    barmode='group',\n",
        "    margin=dict(l=50, r=50, t=120, b=50)\n",
        ")\n",
        "\n",
        "fig.show()\n",
        "fig.write_html(\"Evasion_gasto_total.html\")\n",
        "\n"
      ]
    },
    {
      "cell_type": "markdown",
      "id": "d7b91491",
      "metadata": {
        "id": "d7b91491"
      },
      "source": [
        "## Análisis de Evasión según el Rango de Gasto Total de los Clientes\n",
        "\n",
        "Según el gráfico, se observa una **relación inversa entre el gasto total del cliente y su probabilidad de evasión**:  \n",
        "- Los clientes que **gastan menos** en la empresa presentan **mayores niveles de evasión**.  \n",
        "- A medida que el **gasto total aumenta**, la tasa de evasión **disminuye significativamente**.\n",
        "\n",
        "### Posibles Causas de este Comportamiento\n",
        "\n",
        "1. **Compromiso con la empresa y los servicios**  \n",
        "   Clientes que gastan más suelen tener **más servicios contratados**, lo que implica un mayor nivel de compromiso. Es probable que dependa más de la empresa y tengan una relación más estable con ella.\n",
        "\n",
        "2. **Percepción de valor y satisfacción**  \n",
        "   Quienes gastan más podrían estar **más satisfechos con el servicio** recibido, ya que ven una **mayor relación costo-beneficio**. Esto disminuye su intención de abandonar.\n",
        "\n",
        "3. **Segmentación por perfil socioeconómico**  \n",
        "   Los clientes con **menor gasto** pueden pertenecer a segmentos de menor poder adquisitivo, más sensibles a los precios o cambios en las condiciones del servicio, lo que los lleva a evadir más fácilmente.\n",
        "\n",
        "4. **Fidelización y atención diferenciada**  \n",
        "   Es común que las empresas enfoquen **mayores esfuerzos de fidelización y atención personalizada** en los clientes de mayor valor económico. Esto contribuye a reducir la evasión en este grupo.\n",
        "\n",
        "\n",
        "\n"
      ]
    },
    {
      "cell_type": "markdown",
      "id": "0fdf4160",
      "metadata": {
        "id": "0fdf4160"
      },
      "source": [
        "### Evasón según el tiempo de contrato"
      ]
    },
    {
      "cell_type": "code",
      "execution_count": null,
      "id": "7e2c6278",
      "metadata": {
        "id": "7e2c6278",
        "outputId": "60dba626-2045-4845-acd7-14ce8453ba82"
      },
      "outputs": [
        {
          "name": "stdout",
          "output_type": "stream",
          "text": [
            "Tiempo minimo: 0\n",
            "Tiempo maximo: 72\n"
          ]
        }
      ],
      "source": [
        "print('Tiempo minimo:',data['tenure'].min())\n",
        "print('Tiempo maximo:',data['tenure'].max())"
      ]
    },
    {
      "cell_type": "code",
      "execution_count": 28,
      "id": "ec09c09f",
      "metadata": {
        "colab": {
          "base_uri": "https://localhost:8080/",
          "height": 1000
        },
        "id": "ec09c09f",
        "outputId": "71740757-01f1-4a16-9f0f-06b703f91ca5"
      },
      "outputs": [
        {
          "output_type": "stream",
          "name": "stderr",
          "text": [
            "/tmp/ipython-input-28-785202616.py:14: FutureWarning: The default of observed=False is deprecated and will be changed to True in a future version of pandas. Pass observed=False to retain current behavior or observed=True to adopt the future default and silence this warning.\n",
            "  grouped = data.groupby(['Rango Contrato', 'Churn']).size().unstack()\n",
            "/tmp/ipython-input-28-785202616.py:110: UserWarning: This figure includes Axes that are not compatible with tight_layout, so results might be incorrect.\n",
            "  plt.tight_layout(rect=[0, 0, 1, 0.93])\n"
          ]
        },
        {
          "output_type": "display_data",
          "data": {
            "text/plain": [
              "<Figure size 1400x1000 with 2 Axes>"
            ],
            "image/png": "[encoded data removed]"
          },
          "metadata": {}
        }
      ],
      "source": [
        "# Replace empty strings in 'Churn' with 'No' to avoid errors during plotting\n",
        "data['Churn'] = data['Churn'].replace('', 'No')\n",
        "\n",
        "# Paleta de colores personalizada\n",
        "custom_palette = ['#3498db', '#e74c3c'] # Changed color palette\n",
        "sns.set_palette(custom_palette)\n",
        "\n",
        "# Crear rangos de meses de contrato\n",
        "bins = [0, 6, 12, 24, 36, 48, 60, 73] # Corrected bins to have 8 elements and include max tenure\n",
        "labels = ['0-6', '7-12', '13-24', '25-36', '37-48', '49-60', '61-72']\n",
        "data['Rango Contrato'] = pd.cut(data['tenure'], bins=bins, labels=labels, right=True)\n",
        "\n",
        "# Agrupar datos\n",
        "grouped = data.groupby(['Rango Contrato', 'Churn']).size().unstack()\n",
        "grouped.columns = ['Activos', 'Evadidos']\n",
        "grouped['Total'] = grouped.sum(axis=1)\n",
        "grouped['% Evasión'] = (grouped['Evadidos'] / grouped['Total']) * 100\n",
        "\n",
        "# Crear figura con fondo claro\n",
        "fig = plt.figure(figsize=(14, 10), facecolor='#F0F0F0')\n",
        "gs = fig.add_gridspec(2, 1, height_ratios=[2, 1], hspace=0.5)\n",
        "\n",
        "# Título general\n",
        "fig.suptitle('Análisis de Evasión de Clientes según el Tiempo de Contrato',\n",
        "             fontsize=22, fontweight='bold', fontfamily='sans-serif', color='#333333',\n",
        "             x=0.05, y=1.02, ha='left')\n",
        "\n",
        "# Subgráficos con fondo blanco\n",
        "ax1 = fig.add_subplot(gs[0], facecolor=\"#FFFFFF\")\n",
        "ax1.grid(axis='y', linestyle=':', linewidth=0.5, color='#cccccc') # Add subtle horizontal grid\n",
        "ax1.set_axisbelow(True) # Ensure grid is behind the bars\n",
        "\n",
        "ax2 = fig.add_subplot(gs[1], facecolor=\"#FFFFFF\")\n",
        "ax2.grid(axis='y', linestyle=':', linewidth=0.5, color='#cccccc') # Add subtle horizontal grid\n",
        "ax2.set_axisbelow(True) # Ensure grid is behind the line\n",
        "\n",
        "\n",
        "# Gráfico de barras\n",
        "grouped[['Activos', 'Evadidos']].plot(\n",
        "    kind='bar',\n",
        "    stacked=True,\n",
        "    ax=ax1,\n",
        "    color=custom_palette,\n",
        "    width=0.7,\n",
        "    edgecolor='gray',\n",
        "    alpha=0.9\n",
        ")\n",
        "\n",
        "# Etiquetas de valor\n",
        "for p in ax1.patches:\n",
        "    height = p.get_height()\n",
        "    if height > 0:\n",
        "        ax1.annotate(\n",
        "            f'{int(height)}',\n",
        "            (p.get_x() + p.get_width() / 2., p.get_y() + height / 2),\n",
        "            ha='center',\n",
        "            va='center',\n",
        "            fontsize=10,\n",
        "            color='#FFFFFF'\n",
        "        )\n",
        "\n",
        "# Personalización del gráfico de barras\n",
        "ax1.set_title('Distribución de Clientes por Tiempo de Contrato', fontsize=16, loc='left', pad=20, color='#333333')\n",
        "ax1.set_xlabel('Meses de Contrato', fontsize=12, color='#333333')\n",
        "ax1.set_ylabel('Número de Clientes', fontsize=12, color='#333333')\n",
        "ax1.tick_params(axis='x', rotation=0, colors='#333333')\n",
        "ax1.tick_params(axis='y', colors='#333333')\n",
        "ax1.spines[['top', 'right']].set_visible(False)\n",
        "\n",
        "\n",
        "# Gráfico de línea\n",
        "sns.lineplot(\n",
        "    x=grouped.index,\n",
        "    y=grouped['% Evasión'],\n",
        "    ax=ax2,\n",
        "    color='#2ecc71',  # Changed line color\n",
        "    marker='o',\n",
        "    markersize=8,\n",
        "    linewidth=3\n",
        ")\n",
        "\n",
        "# Etiquetas de porcentaje\n",
        "for x, y in zip(grouped.index, grouped['% Evasión']):\n",
        "    ax2.annotate(\n",
        "        f'{y:.1f}%',\n",
        "        (x, y),\n",
        "        textcoords=\"offset points\",\n",
        "        xytext=(0, 10),\n",
        "        ha='center',\n",
        "        color='#333333',\n",
        "        fontsize=10\n",
        "    )\n",
        "\n",
        "# Personalización del gráfico de línea\n",
        "ax2.set_title('Porcentaje de Evasión por Rango de Contrato', fontsize=16, loc='left', pad=20, color='#333333')\n",
        "ax2.set_xlabel('Meses de Contrato', fontsize=12, color='#333333')\n",
        "ax2.set_ylabel('% Evasión', fontsize=12, color='#333333')\n",
        "ax2.tick_params(axis='x', colors='#333333')\n",
        "ax2.tick_params(axis='y', colors='#333333')\n",
        "ax2.spines[['top', 'right']].set_visible(False)\n",
        "ax2.axhline(50, color='gray', linestyle='--', alpha=0.3)\n",
        "\n",
        "# Leyenda\n",
        "legend = ax1.legend(title='Estado', bbox_to_anchor=(1.02, 1), loc='upper left',\n",
        "                    facecolor='#F7F7F7', edgecolor='none')\n",
        "plt.setp(legend.get_title(), color='#333333')\n",
        "plt.setp(legend.get_texts(), color='#333333')\n",
        "\n",
        "# Ajustar layout\n",
        "plt.tight_layout(rect=[0, 0, 1, 0.93])\n",
        "\n",
        "plt.savefig('evasion_tiempo_contrato.png', dpi=300, bbox_inches='tight')\n",
        "\n",
        "plt.show()"
      ]
    },
    {
      "cell_type": "markdown",
      "id": "6782f294",
      "metadata": {
        "id": "6782f294"
      },
      "source": [
        "## Análisis de Evasión según los Meses de Contrato\n",
        "\n",
        "El gráfico revela un patrón claro: **a menor cantidad de meses en contrato, mayor es la evasión**. Por el contrario, **los clientes con más tiempo de permanencia tienden a mantenerse activos**.\n",
        "\n",
        "### Interpretación del Comportamiento\n",
        "\n",
        "1. **Clientes nuevos aún no fidelizados**  \n",
        "   Los usuarios con pocos meses en la empresa probablemente están **en fase de prueba o adaptación**. Si la experiencia inicial no cumple sus expectativas, **la probabilidad de evasión es alta**.\n",
        "\n",
        "2. **Mayor antigüedad, mayor satisfacción o dependencia**  \n",
        "   A medida que el cliente **acumula meses en contrato**, es probable que haya desarrollado una **relación más estable con la empresa**, ya sea por satisfacción con el servicio, inercia, o porque ya ha superado el proceso de adaptación.\n",
        "\n",
        "3. **Costos de salida y compromiso**  \n",
        "   Clientes con más tiempo pueden tener **servicios integrados, descuentos por antigüedad o contratos a largo plazo** que dificultan su salida. Además, podrían haber invertido tiempo y esfuerzo en configurar servicios personalizados.\n",
        "\n",
        "4. **Falta de retención temprana**  \n",
        "   El hecho de que los nuevos clientes se vayan con mayor facilidad puede indicar **fallas en la estrategia de onboarding y fidelización inicial**. No están recibiendo el acompañamiento necesario para quedarse.\n",
        "\n"
      ]
    },
    {
      "cell_type": "markdown",
      "id": "f3f06c2d",
      "metadata": {
        "id": "f3f06c2d"
      },
      "source": [
        "### Correlación"
      ]
    },
    {
      "cell_type": "code",
      "execution_count": null,
      "id": "f23ef4cd",
      "metadata": {
        "id": "f23ef4cd",
        "outputId": "2b29d1e0-dfbd-4c04-c466-9a7e25e96606"
      },
      "outputs": [
        {
          "data": {
            "image/png": "[encoded data removed]",
            "text/plain": [
              "<Figure size 1800x700 with 2 Axes>"
            ]
          },
          "metadata": {},
          "output_type": "display_data"
        }
      ],
      "source": [
        "servicios = [\n",
        "    'PhoneService', 'MultipleLines', 'OnlineSecurity',\n",
        "    'OnlineBackup', 'DeviceProtection', 'TechSupport',\n",
        "    'StreamingTV', 'StreamingMovies'\n",
        "]\n",
        "\n",
        "# la columna 'InternetService' se usa para contar si el cliente tiene servicio de internet\n",
        "data['ServiciosContratados'] = (data[servicios].sum(axis=1) +\n",
        "                               data['InternetService'].apply(lambda x: 0 if x == 'No' else 1))\n",
        "\n",
        "\n",
        "# Configuración de estilo profesional\n",
        "plt.style.use('seaborn-v0_8-white')\n",
        "sns.set_style(\"white\", {'axes.facecolor': '#f5f7fa'})  # Color de fondo personalizado\n",
        "\n",
        "# Crear figura con dos gráficos\n",
        "fig, axes = plt.subplots(1, 2, figsize=(18, 7), facecolor='#f5f7fa')\n",
        "\n",
        "# Título principal más grande y alineado a la izquierda\n",
        "fig.suptitle(\"ANÁLISIS DE EVASIÓN DE CLIENTES \\nSEGÚN CUENTAS DIARIAS Y SERVICIOS CONTRATADOS\",\n",
        "             x=0.05, ha='left',\n",
        "             fontsize=25, fontweight='bold',\n",
        "             color='#2d3436',\n",
        "             fontfamily='sans-serif')\n",
        "\n",
        "# Gráfico 1: daily_accounts vs Churn (con grid horizontal sutil)\n",
        "sns.regplot(\n",
        "    data=data,\n",
        "    x='daily_accounts',\n",
        "    y='Churn',\n",
        "    ax=axes[0],\n",
        "    scatter_kws={'alpha': 0.6, 'color': '#3498db', 's': 60},\n",
        "    line_kws={\"color\": \"#e74c3c\", \"linewidth\": 2.5}\n",
        ")\n",
        "axes[0].set_title(\"Relación: Cuenta Diaria vs Probabilidad de Evasión\",\n",
        "                 pad=15, fontsize=14, fontweight='semibold',\n",
        "                 loc='left', color='#2d3436',\n",
        "                 fontfamily='sans-serif')\n",
        "axes[0].set_xlabel(\"Cuenta Diaria (daily_accounts)\", fontsize=12)\n",
        "axes[0].set_ylabel(\"Probabilidad de Evasión (Churn)\", fontsize=12)\n",
        "axes[0].grid(axis='y', linestyle=':', linewidth=0.3, color='#adb5bd')\n",
        "axes[0].set_axisbelow(True)\n",
        "\n",
        "# Gráfico 2: Barras sin grid ni marco con todos los porcentajes visibles\n",
        "axes[1].grid(False)\n",
        "for spine in axes[1].spines.values():\n",
        "    spine.set_visible(False)\n",
        "\n",
        "churn_rate = data.groupby('ServiciosContratados')['Churn'].mean().reset_index()\n",
        "barplot = sns.barplot(\n",
        "    data=churn_rate,\n",
        "    x='ServiciosContratados',\n",
        "    y='Churn',\n",
        "    ax=axes[1],\n",
        "    #palette=\"Blues_r\",\n",
        "    color='#3498db',\n",
        "    alpha=0.9,\n",
        "    width=0.6\n",
        ")\n",
        "\n",
        "# Asegurar que todos los porcentajes sean visibles\n",
        "for p in barplot.patches:\n",
        "    height = p.get_height()\n",
        "    va = 'bottom' if height < 0.05 else 'center'\n",
        "    y_pos = height + 0.01 if height < 0.05 else height\n",
        "    color = '#2d3436' if height > 0.15 else 'black'\n",
        "\n",
        "    barplot.annotate(\n",
        "        f\"{height:.1%}\",\n",
        "        (p.get_x() + p.get_width() / 2., y_pos),\n",
        "        ha='center',\n",
        "        va=va,\n",
        "        fontsize=11,\n",
        "        fontweight='bold',\n",
        "        color=color,\n",
        "        xytext=(0, 3),\n",
        "        textcoords='offset points'\n",
        "    )\n",
        "\n",
        "axes[1].set_title(\"Tasa de Evasión por N° de Servicios Contratados\",\n",
        "                 pad=15, fontsize=14, fontweight='semibold',\n",
        "                 loc='left', color='#2d3436',\n",
        "                 fontfamily='sans-serif')\n",
        "axes[1].set_xlabel(\"Número de Servicios Contratados\", fontsize=12)\n",
        "axes[1].set_ylabel(\"\")\n",
        "axes[1].tick_params(axis='both', which='both', length=0)  # Eliminar marcas de ticks\n",
        "\n",
        "# Añadir línea de promedio\n",
        "avg = churn_rate['Churn'].mean()\n",
        "axes[1].axhline(avg, color='#6c757d', linestyle='--', linewidth=1, alpha=0.7)\n",
        "axes[1].text(len(churn_rate)-0.8, avg+0.01, f'Promedio: {avg:.1%}',\n",
        "            color='#6c757d', fontsize=10)\n",
        "\n",
        "# Ajustar diseño final\n",
        "plt.tight_layout(rect=[0, 0, 1, 0.93])\n",
        "\n",
        "plt.savefig('correlación.png', dpi=300, bbox_inches='tight')\n",
        "\n",
        "plt.show()\n",
        "\n",
        "\n"
      ]
    },
    {
      "cell_type": "markdown",
      "id": "d7c1a6c5",
      "metadata": {
        "id": "d7c1a6c5"
      },
      "source": [
        "## Análisis de Evasión según Número de Servicios Contratados y Gasto Diario\n",
        "\n",
        "Este análisis cruza dos variables clave que influyen en la evasión de clientes: el **número de servicios contratados** y el **promedio de gasto diario**. La gráfica revela comportamientos interesantes que vale la pena destacar.\n",
        "\n",
        "---\n",
        "\n",
        "### 1. Evasión según el Total de Servicios Contratados\n",
        "\n",
        "- Los clientes que tienen **3 servicios contratados** presentan la **tasa de evasión más alta**, con un **43,6%**.\n",
        "- La **menor evasión** se encuentra entre los clientes que tienen **9 servicios**, con apenas un **5,1%**.\n",
        "- Los clientes con **2, 3, 4 y 5 servicios** superan la **línea de evasión promedio**, lo que indica una mayor vulnerabilidad a la deserción.\n",
        "- En contraste, los clientes con **1, 7, 8 y 9 servicios** están **por debajo del promedio**, mostrando mayor estabilidad.\n",
        "\n",
        "### Interpretación\n",
        "\n",
        "- **Mayor número de servicios, mayor retención**: Quienes contratan más servicios tienden a estar más integrados en la empresa, lo que genera mayor dependencia y menor probabilidad de evasión.\n",
        "- **Pico de evasión en 3 servicios**: Este grupo puede representar un punto crítico donde el cliente está probando múltiples servicios, pero aún no se siente plenamente comprometido o satisfecho.\n",
        "- **Clientes con 1 solo servicio evaden menos que los de 2 a 5**: Esto sugiere que algunos usuarios con un único servicio pueden tener expectativas más simples o puntuales, y no necesariamente están insatisfechos.\n",
        "\n",
        "---\n",
        "\n",
        "### 2. Evasión según el Total Gastado por Día\n",
        "\n",
        "- La gráfica muestra una **línea recta creciente**, lo que indica que **a mayor gasto diario, mayor evasión**.\n",
        "\n",
        "### Interpretación\n",
        "\n",
        "- Este comportamiento puede parecer contraintuitivo, ya que uno podría esperar que los clientes que más gastan sean más fieles. Sin embargo, hay varias posibles explicaciones:\n",
        "  - **Clientes con gasto diario elevado podrían estar insatisfechos con el valor recibido** en relación al costo.\n",
        "  - Es posible que se trate de clientes de alto consumo que han **concentrado su gasto en un periodo corto**, pero luego deciden irse al no percibir un beneficio sostenido.\n",
        "  - También puede reflejar que **usuarios intensivos abandonan rápidamente si no encuentran estabilidad o rendimiento adecuado.**\n",
        "\n",
        "\n"
      ]
    },
    {
      "cell_type": "code",
      "execution_count": null,
      "id": "7240d882",
      "metadata": {
        "id": "7240d882",
        "outputId": "4a256b10-0d06-4d41-9352-b46d7bcb3556"
      },
      "outputs": [
        {
          "name": "stdout",
          "output_type": "stream",
          "text": [
            "Correlación entre 'daily_accounts' y 'Churn': 0.1899\n",
            "\n",
            "Correlaciones con Churn (ordenadas de mayor a menor):\n",
            "StreamingTV         0.062430\n",
            "StreamingMovies     0.060586\n",
            "MultipleLines       0.039343\n",
            "PhoneService        0.012571\n",
            "DeviceProtection   -0.063452\n",
            "OnlineBackup       -0.080163\n",
            "TechSupport        -0.160440\n",
            "OnlineSecurity     -0.166828\n",
            "Name: Churn, dtype: float64\n"
          ]
        }
      ],
      "source": [
        "# Calcular la correlación entre 'daily_accounts' y 'Churn'\n",
        "correlacion = data[['daily_accounts', 'Churn']].corr().iloc[0, 1]\n",
        "print(f\"Correlación entre 'daily_accounts' y 'Churn': {correlacion:.4f}\")\n",
        "\n",
        "correlaciones = data[servicios + ['Churn']].corr()['Churn'].drop('Churn')\n",
        "print(\"\\nCorrelaciones con Churn (ordenadas de mayor a menor):\")\n",
        "print(correlaciones.sort_values(ascending=False))\n"
      ]
    },
    {
      "cell_type": "markdown",
      "id": "97735323",
      "metadata": {
        "id": "97735323"
      },
      "source": [
        "## Análisis de Correlaciones con la Evasión de Clientes (Churn)\n",
        "\n",
        "En este análisis se estudian las correlaciones entre diversas variables del servicio y la evasión de clientes (`Churn`). El valor de la correlación indica la **fuerza y dirección** de la relación entre cada variable y la probabilidad de que un cliente abandone la empresa.\n",
        "\n",
        "---\n",
        "\n",
        "### Correlación entre 'daily_accounts' y Churn\n",
        "- **Valor:** `0.1899`\n",
        "\n",
        "Este valor positivo sugiere una **correlación débil pero directa**: a mayor valor en `daily_accounts`, **mayor probabilidad de evasión**.  \n",
        "Esto podría significar que **usuarios con mayor número de interacciones o cargos diarios** podrían sentirse sobrecargados, confundidos o insatisfechos, lo cual aumenta su intención de abandonar.\n",
        "\n",
        "---\n",
        "\n",
        "### Variables con Correlación Positiva con la Evasión\n",
        "\n",
        "Estas variables están **positivamente correlacionadas** con `Churn`, es decir, **su presencia o uso incrementa levemente la probabilidad de evasión**:\n",
        "\n",
        "| Variable           | Correlación |\n",
        "|--------------------|-------------|\n",
        "| StreamingTV        | 0.062       |\n",
        "| StreamingMovies    | 0.061       |\n",
        "| MultipleLines      | 0.039       |\n",
        "| PhoneService       | 0.013       |\n",
        "\n",
        "**Interpretación:**\n",
        "- Aunque las correlaciones son débiles, se puede inferir que **usuarios que usan servicios de streaming o múltiples líneas** podrían estar más expuestos a opciones del mercado o más atentos al costo total, lo que aumenta la probabilidad de cancelar si no están satisfechos.\n",
        "\n",
        "---\n",
        "\n",
        "### Variables con Correlación Negativa con la Evasión\n",
        "\n",
        "Estas variables están **negativamente correlacionadas** con `Churn`, lo que indica que **su uso está asociado con mayor retención**:\n",
        "\n",
        "| Variable           | Correlación  |\n",
        "|--------------------|--------------|\n",
        "| DeviceProtection   | -0.063       |\n",
        "| OnlineBackup       | -0.080       |\n",
        "| TechSupport        | -0.160       |\n",
        "| OnlineSecurity     | -0.167       |\n",
        "\n",
        "**Interpretación:**\n",
        "- Estos servicios **reducen la probabilidad de evasión**, ya que:\n",
        "  - Aumentan la percepción de valor y seguridad.\n",
        "  - Mejoran la experiencia del cliente.\n",
        "  - Fomentan la dependencia del servicio.\n",
        "\n",
        "Entre todas, **OnlineSecurity y TechSupport** son las más fuertes en términos de retención, lo que indica que **brindar soporte técnico y soluciones de seguridad digital** es clave para mantener a los clientes.\n",
        "\n",
        "---\n",
        "\n",
        "###  Conclusión General\n",
        "\n",
        "- La mayoría de las correlaciones con `Churn` son **débiles**, pero algunas tendencias claras emergen.\n",
        "- **Servicios complementarios que agregan valor (como seguridad, soporte y respaldo)** ayudan a retener clientes.\n",
        "- Por otro lado, **el uso de servicios intensivos o de entretenimiento (streaming, múltiples líneas)** podría relacionarse con una mayor evasión, quizás por mayores expectativas o sensibilidad al precio.\n",
        "- Es importante monitorear variables como `daily_accounts`, ya que un uso excesivo puede reflejar **complejidad operativa o insatisfacción**, elevando el riesgo de fuga.\n",
        "\n",
        ">  Recomendación: Fortalecer servicios como soporte técnico, seguridad y respaldo, y revisar cómo se presentan y gestionan los servicios de alto consumo para reducir su impacto en la evasión.\n"
      ]
    },
    {
      "cell_type": "markdown",
      "id": "744b2467",
      "metadata": {
        "id": "744b2467"
      },
      "source": [
        "# Informe Final de Análisis de Evasión de Clientes  \n",
        "**Empresa: TelecomX**  \n",
        "**Proyecto de Análisis de Datos –  Análisis de evasión de clientes**\n",
        "\n",
        "---\n",
        "\n",
        "## Introducción\n",
        "\n",
        "Este informe presenta los principales hallazgos obtenidos a partir del análisis de datos relacionados con la evasión de clientes en TelecomX. Se examinaron distintas variables que influyen en la probabilidad de que un cliente abandone la empresa, como el tipo de servicio de internet, el número de servicios contratados, el gasto total, los meses de contrato, la actividad diaria y el uso de servicios adicionales, entre otras.\n",
        "\n",
        "---\n",
        "\n",
        "##  Conclusiones e Insights Clave\n",
        "\n",
        "### 1. **Tipo de Internet**\n",
        "- **Fibra óptica** presenta una **alta tasa de evasión (40,6%)**, mientras que **DSL** tiene una evasión menor (**18,4%**).\n",
        "- A pesar de ser un servicio más moderno, la fibra óptica no garantiza fidelización. Podrían influir factores como **precio**, **expectativas no cumplidas** o **problemas de servicio**.\n",
        "\n",
        "### 2. **Meses de Contrato**\n",
        "- Existe una **relación inversa** entre la antigüedad del cliente y la evasión.\n",
        "- **Clientes con menos meses de contrato son más propensos a abandonar**, lo que sugiere **fallas en la retención temprana** o en la etapa de bienvenida.\n",
        "\n",
        "### 3. **Gasto Total**\n",
        "- A menor gasto acumulado, **mayor es la evasión**.\n",
        "- Clientes de **alto valor económico muestran mayor fidelidad**, posiblemente por una **mejor experiencia**, **beneficios exclusivos** o mayor dependencia de los servicios.\n",
        "\n",
        "### 4. **Número de Servicios Contratados**\n",
        "- **Mayor cantidad de servicios se asocia con menor evasión.**\n",
        "- Por ejemplo, los clientes con **9 servicios tienen solo 5,1% de evasión**, mientras que los que tienen **3 servicios llegan al 43,6%**.\n",
        "- Los rangos de **2 a 5 servicios superan la línea promedio de evasión**, lo que los convierte en segmentos críticos.\n",
        "\n",
        "### 5. **Gasto Diario**\n",
        "- Existe una **correlación creciente entre el gasto diario y la evasión**.\n",
        "- Esto podría indicar una percepción de **sobreprecio o inestabilidad** en los clientes de alto consumo diario.\n",
        "\n",
        "### 6. **Correlación con Servicios Adicionales**\n",
        "- Servicios como **OnlineSecurity (-0.167)**, **TechSupport (-0.160)** y **OnlineBackup (-0.080)** tienen **correlación negativa con la evasión**, lo que indica que **fomentan la permanencia del cliente**.\n",
        "- Por el contrario, servicios de entretenimiento como **StreamingTV** y **StreamingMovies** tienen **ligera correlación positiva**, asociada a mayor evasión.\n",
        "\n",
        "---\n",
        "\n",
        "##  Recomendaciones Estratégicas\n",
        "\n",
        "### 🔹 1. Fortalecer la Retención Temprana\n",
        "- Diseñar campañas de **bienvenida** con beneficios exclusivos para los primeros 3–6 meses.\n",
        "- Implementar un **seguimiento personalizado** en los primeros contactos post-venta para anticipar insatisfacciones.\n",
        "\n",
        "### 🔹 2. Incentivar la Contratación de Servicios Adicionales\n",
        "- Promover **paquetes integrados** que incluyan OnlineSecurity, TechSupport y Backup.\n",
        "- Destacar los beneficios de estos servicios como elementos de **valor agregado y fidelización**.\n",
        "\n",
        "### 🔹 3. Revisar la Experiencia con Fibra Óptica\n",
        "- Realizar encuestas de satisfacción exclusivas para clientes con fibra óptica.\n",
        "- Mejorar **soporte técnico y comunicación de beneficios**, especialmente para este segmento de alto abandono.\n",
        "\n",
        "### 🔹 4. Intervenir el Segmento de 2 a 5 Servicios\n",
        "- Identificar estos clientes como de **riesgo medio-alto** y aplicar estrategias de fidelización proactiva:\n",
        "  - Ofertas cruzadas para aumentar el número de servicios.\n",
        "  - Bonificaciones por lealtad.\n",
        "\n",
        "### 🔹 5. Analizar el Gasto Diario con Perspectiva de Valor\n",
        "- Redefinir tarifas o planes para **clientes de alto consumo diario** con opciones más flexibles o adaptadas.\n",
        "- Asegurarse de que el **valor percibido esté alineado con el gasto** para evitar sensación de sobrecosto.\n",
        "\n",
        "### 🔹 6. Segmentación Inteligente y Priorización\n",
        "- Usar la información de correlaciones y segmentación para diseñar campañas **más personalizadas y predictivas**, priorizando:\n",
        "  - Antigüedad.\n",
        "  - Gasto total.\n",
        "  - Número de servicios.\n",
        "\n",
        "---\n",
        "\n",
        "## Cierre\n",
        "\n",
        "Este análisis permite entender mejor los factores que inciden en la evasión de clientes de TelecomX y abre la puerta a estrategias de retención basadas en datos reales. Aplicar estas recomendaciones puede mejorar significativamente la **fidelización**, **optimizar ingresos** y **reducir los costos de adquisición de nuevos clientes**.\n",
        "\n",
        "> La clave está en **anticiparse a la evasión**, no reaccionar a ella.\n",
        "---\n",
        "\n"
      ]
    },
    {
      "cell_type": "code",
      "execution_count": null,
      "id": "1210b90c",
      "metadata": {
        "id": "1210b90c"
      },
      "outputs": [],
      "source": []
    },
    {
      "cell_type": "code",
      "metadata": {
        "colab": {
          "base_uri": "https://localhost:8080/",
          "height": 211
        },
        "id": "d61afe50",
        "outputId": "c6096357-09e8-4d49-df92-804a5b0aeefe"
      },
      "source": [
        "conteo_internet = data.groupby(['InternetService', 'Churn']).size().unstack(fill_value=0)\n",
        "# evasión según InternetService\n",
        "conteo_internet.columns = ['No evadió', 'Evadió']\n",
        "\n",
        "colors = ['#405a6f', '#8e44ad']\n",
        "labels = ['No evadió', 'Evadió']\n",
        "tipos_servicio = conteo_internet.index\n",
        "\n",
        "fig, axs = plt.subplots(1, len(tipos_servicio), figsize=(14, 5))\n",
        "fig.suptitle('Evasión de Clientes según Tipo de Servicio de Internet',\n",
        "             fontsize=22, fontweight='bold', color='#34495e', ha='left', x=0.05)\n",
        "\n",
        "for i, servicio in enumerate(tipos_servicio):\n",
        "    ax = axs[i]\n",
        "    valores = conteo_internet.loc[servicio]\n",
        "    wedges, texts, autotexts = ax.pie(\n",
        "        valores,\n",
        "        labels=labels,\n",
        "        autopct='%1.1f%%',\n",
        "        startangle=90,\n",
        "        colors=colors,\n",
        "        wedgeprops=dict(width=0.4, edgecolor='white'),\n",
        "        textprops=dict(color=\"black\")\n",
        "    )\n",
        "\n",
        "    for autotext in autotexts:\n",
        "        autotext.set_fontsize(10)\n",
        "        autotext.set_color('black')\n",
        "        autotext.set_weight('normal')\n",
        "\n",
        "    ax.set_title(servicio, fontsize=12, pad=5)\n",
        "    ax.axis('equal')\n",
        "\n",
        "fig.patch.set_facecolor('white')\n",
        "plt.tight_layout()\n",
        "fig.savefig('grafico_evasion_servicio_internet.png', dpi=300, bbox_inches='tight')\n",
        "plt.show()"
      ],
      "id": "d61afe50",
      "execution_count": 2,
      "outputs": [
        {
          "output_type": "error",
          "ename": "NameError",
          "evalue": "name 'data' is not defined",
          "traceback": [
            "\u001b[0;31m---------------------------------------------------------------------------\u001b[0m",
            "\u001b[0;31mNameError\u001b[0m                                 Traceback (most recent call last)",
            "\u001b[0;32m/tmp/ipython-input-2-1961746118.py\u001b[0m in \u001b[0;36m<cell line: 0>\u001b[0;34m()\u001b[0m\n\u001b[0;32m----> 1\u001b[0;31m \u001b[0mconteo_internet\u001b[0m \u001b[0;34m=\u001b[0m \u001b[0mdata\u001b[0m\u001b[0;34m.\u001b[0m\u001b[0mgroupby\u001b[0m\u001b[0;34m(\u001b[0m\u001b[0;34m[\u001b[0m\u001b[0;34m'InternetService'\u001b[0m\u001b[0;34m,\u001b[0m \u001b[0;34m'Churn'\u001b[0m\u001b[0;34m]\u001b[0m\u001b[0;34m)\u001b[0m\u001b[0;34m.\u001b[0m\u001b[0msize\u001b[0m\u001b[0;34m(\u001b[0m\u001b[0;34m)\u001b[0m\u001b[0;34m.\u001b[0m\u001b[0munstack\u001b[0m\u001b[0;34m(\u001b[0m\u001b[0mfill_value\u001b[0m\u001b[0;34m=\u001b[0m\u001b[0;36m0\u001b[0m\u001b[0;34m)\u001b[0m\u001b[0;34m\u001b[0m\u001b[0;34m\u001b[0m\u001b[0m\n\u001b[0m\u001b[1;32m      2\u001b[0m \u001b[0;31m# evasión según InternetService\u001b[0m\u001b[0;34m\u001b[0m\u001b[0;34m\u001b[0m\u001b[0m\n\u001b[1;32m      3\u001b[0m \u001b[0mconteo_internet\u001b[0m\u001b[0;34m.\u001b[0m\u001b[0mcolumns\u001b[0m \u001b[0;34m=\u001b[0m \u001b[0;34m[\u001b[0m\u001b[0;34m'No evadió'\u001b[0m\u001b[0;34m,\u001b[0m \u001b[0;34m'Evadió'\u001b[0m\u001b[0;34m]\u001b[0m\u001b[0;34m\u001b[0m\u001b[0;34m\u001b[0m\u001b[0m\n\u001b[1;32m      4\u001b[0m \u001b[0;34m\u001b[0m\u001b[0m\n\u001b[1;32m      5\u001b[0m \u001b[0mcolors\u001b[0m \u001b[0;34m=\u001b[0m \u001b[0;34m[\u001b[0m\u001b[0;34m'#405a6f'\u001b[0m\u001b[0;34m,\u001b[0m \u001b[0;34m'#8e44ad'\u001b[0m\u001b[0;34m]\u001b[0m\u001b[0;34m\u001b[0m\u001b[0;34m\u001b[0m\u001b[0m\n",
            "\u001b[0;31mNameError\u001b[0m: name 'data' is not defined"
          ]
        }
      ]
    },
    {
      "cell_type": "code",
      "metadata": {
        "colab": {
          "base_uri": "https://localhost:8080/"
        },
        "id": "ab23a3ba",
        "outputId": "95ef45a3-118b-457d-cf58-fac5e46351c4"
      },
      "source": [
        "!wget https://github.com/cfpdiaz/telecomX/raw/main/TelecomX_Data.json"
      ],
      "id": "ab23a3ba",
      "execution_count": 5,
      "outputs": [
        {
          "output_type": "stream",
          "name": "stdout",
          "text": [
            "--2025-07-27 05:44:17--  https://github.com/cfpdiaz/telecomX/raw/main/TelecomX_Data.json\n",
            "Resolving github.com (github.com)... 140.82.112.3\n",
            "Connecting to github.com (github.com)|140.82.112.3|:443... connected.\n",
            "HTTP request sent, awaiting response... 302 Found\n",
            "Location: https://raw.githubusercontent.com/cfpdiaz/telecomX/main/TelecomX_Data.json [following]\n",
            "--2025-07-27 05:44:18--  https://raw.githubusercontent.com/cfpdiaz/telecomX/main/TelecomX_Data.json\n",
            "Resolving raw.githubusercontent.com (raw.githubusercontent.com)... 185.199.108.133, 185.199.109.133, 185.199.110.133, ...\n",
            "Connecting to raw.githubusercontent.com (raw.githubusercontent.com)|185.199.108.133|:443... connected.\n",
            "HTTP request sent, awaiting response... 200 OK\n",
            "Length: 3807078 (3.6M) [text/plain]\n",
            "Saving to: ‘TelecomX_Data.json’\n",
            "\n",
            "TelecomX_Data.json  100%[===================>]   3.63M  --.-KB/s    in 0.08s   \n",
            "\n",
            "2025-07-27 05:44:18 (42.8 MB/s) - ‘TelecomX_Data.json’ saved [3807078/3807078]\n",
            "\n"
          ]
        }
      ]
    }
  ],
  "metadata": {
    "kernelspec": {
      "display_name": "Python 3",
      "language": "python",
      "name": "python3"
    },
    "language_info": {
      "codemirror_mode": {
        "name": "ipython",
        "version": 3
      },
      "file_extension": ".py",
      "mimetype": "text/x-python",
      "name": "python",
      "nbconvert_exporter": "python",
      "pygments_lexer": "ipython3",
      "version": "3.13.1"
    },
    "colab": {
      "provenance": []
    }
  },
  "nbformat": 4,
  "nbformat_minor": 5
}